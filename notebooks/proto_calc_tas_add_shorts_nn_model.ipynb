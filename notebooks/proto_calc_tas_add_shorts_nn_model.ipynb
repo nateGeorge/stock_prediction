{
 "cells": [
  {
   "cell_type": "code",
   "execution_count": 1,
   "metadata": {},
   "outputs": [],
   "source": [
    "# core\n",
    "import sys\n",
    "\n",
    "# custom\n",
    "sys.path.append('../code')\n",
    "import dl_quandl_EOD as dlq\n",
    "import calculate_ta_signals as cts\n",
    "\n",
    "sys.path.append('/home/nate/github/scrape_stocks/')"
   ]
  },
  {
   "cell_type": "code",
   "execution_count": 2,
   "metadata": {},
   "outputs": [
    {
     "name": "stderr",
     "output_type": "stream",
     "text": [
      "/usr/local/lib/python3.5/dist-packages/odo/backends/pandas.py:94: FutureWarning: pandas.tslib is deprecated and will be removed in a future version.\n",
      "You can access NaTType as type(pandas.NaT)\n",
      "  @convert.register((pd.Timestamp, pd.Timedelta), (pd.tslib.NaTType, type(None)))\n"
     ]
    }
   ],
   "source": [
    "import scrape_finra_shorts as sfs"
   ]
  },
  {
   "cell_type": "code",
   "execution_count": 3,
   "metadata": {},
   "outputs": [],
   "source": [
    "dfs = dlq.load_stocks(stocks=['NAVI', 'EXAS'])"
   ]
  },
  {
   "cell_type": "code",
   "execution_count": 4,
   "metadata": {},
   "outputs": [
    {
     "data": {
      "text/plain": [
       "dict_keys(['NAVI', 'EXAS'])"
      ]
     },
     "execution_count": 4,
     "metadata": {},
     "output_type": "execute_result"
    }
   ],
   "source": [
    "dfs.keys()"
   ]
  },
  {
   "cell_type": "code",
   "execution_count": 5,
   "metadata": {},
   "outputs": [
    {
     "data": {
      "text/plain": [
       "(4158, 13)"
      ]
     },
     "execution_count": 5,
     "metadata": {},
     "output_type": "execute_result"
    }
   ],
   "source": [
    "dfs['EXAS'].shape"
   ]
  },
  {
   "cell_type": "code",
   "execution_count": 6,
   "metadata": {},
   "outputs": [
    {
     "data": {
      "text/html": [
       "<div>\n",
       "<style scoped>\n",
       "    .dataframe tbody tr th:only-of-type {\n",
       "        vertical-align: middle;\n",
       "    }\n",
       "\n",
       "    .dataframe tbody tr th {\n",
       "        vertical-align: top;\n",
       "    }\n",
       "\n",
       "    .dataframe thead th {\n",
       "        text-align: right;\n",
       "    }\n",
       "</style>\n",
       "<table border=\"1\" class=\"dataframe\">\n",
       "  <thead>\n",
       "    <tr style=\"text-align: right;\">\n",
       "      <th></th>\n",
       "      <th>Ticker</th>\n",
       "      <th>Open</th>\n",
       "      <th>High</th>\n",
       "      <th>Low</th>\n",
       "      <th>Close</th>\n",
       "      <th>Volume</th>\n",
       "      <th>Dividend</th>\n",
       "      <th>Split</th>\n",
       "      <th>Adj_Open</th>\n",
       "      <th>Adj_High</th>\n",
       "      <th>Adj_Low</th>\n",
       "      <th>Adj_Close</th>\n",
       "      <th>Adj_Volume</th>\n",
       "    </tr>\n",
       "    <tr>\n",
       "      <th>Date</th>\n",
       "      <th></th>\n",
       "      <th></th>\n",
       "      <th></th>\n",
       "      <th></th>\n",
       "      <th></th>\n",
       "      <th></th>\n",
       "      <th></th>\n",
       "      <th></th>\n",
       "      <th></th>\n",
       "      <th></th>\n",
       "      <th></th>\n",
       "      <th></th>\n",
       "      <th></th>\n",
       "    </tr>\n",
       "  </thead>\n",
       "  <tbody>\n",
       "    <tr>\n",
       "      <th>2017-08-07</th>\n",
       "      <td>EXAS</td>\n",
       "      <td>38.84</td>\n",
       "      <td>39.80</td>\n",
       "      <td>38.441</td>\n",
       "      <td>39.20</td>\n",
       "      <td>1006956.0</td>\n",
       "      <td>0.0</td>\n",
       "      <td>1.0</td>\n",
       "      <td>38.84</td>\n",
       "      <td>39.80</td>\n",
       "      <td>38.441</td>\n",
       "      <td>39.20</td>\n",
       "      <td>1006956.0</td>\n",
       "    </tr>\n",
       "    <tr>\n",
       "      <th>2017-08-08</th>\n",
       "      <td>EXAS</td>\n",
       "      <td>39.34</td>\n",
       "      <td>39.44</td>\n",
       "      <td>38.220</td>\n",
       "      <td>38.26</td>\n",
       "      <td>919550.0</td>\n",
       "      <td>0.0</td>\n",
       "      <td>1.0</td>\n",
       "      <td>39.34</td>\n",
       "      <td>39.44</td>\n",
       "      <td>38.220</td>\n",
       "      <td>38.26</td>\n",
       "      <td>919550.0</td>\n",
       "    </tr>\n",
       "    <tr>\n",
       "      <th>2017-08-09</th>\n",
       "      <td>EXAS</td>\n",
       "      <td>37.81</td>\n",
       "      <td>38.54</td>\n",
       "      <td>36.910</td>\n",
       "      <td>37.25</td>\n",
       "      <td>1610908.0</td>\n",
       "      <td>0.0</td>\n",
       "      <td>1.0</td>\n",
       "      <td>37.81</td>\n",
       "      <td>38.54</td>\n",
       "      <td>36.910</td>\n",
       "      <td>37.25</td>\n",
       "      <td>1610908.0</td>\n",
       "    </tr>\n",
       "    <tr>\n",
       "      <th>2017-08-10</th>\n",
       "      <td>EXAS</td>\n",
       "      <td>37.18</td>\n",
       "      <td>37.86</td>\n",
       "      <td>36.910</td>\n",
       "      <td>37.05</td>\n",
       "      <td>1276770.0</td>\n",
       "      <td>0.0</td>\n",
       "      <td>1.0</td>\n",
       "      <td>37.18</td>\n",
       "      <td>37.86</td>\n",
       "      <td>36.910</td>\n",
       "      <td>37.05</td>\n",
       "      <td>1276770.0</td>\n",
       "    </tr>\n",
       "    <tr>\n",
       "      <th>2017-08-11</th>\n",
       "      <td>EXAS</td>\n",
       "      <td>36.94</td>\n",
       "      <td>37.97</td>\n",
       "      <td>36.100</td>\n",
       "      <td>37.76</td>\n",
       "      <td>1183339.0</td>\n",
       "      <td>0.0</td>\n",
       "      <td>1.0</td>\n",
       "      <td>36.94</td>\n",
       "      <td>37.97</td>\n",
       "      <td>36.100</td>\n",
       "      <td>37.76</td>\n",
       "      <td>1183339.0</td>\n",
       "    </tr>\n",
       "  </tbody>\n",
       "</table>\n",
       "</div>"
      ],
      "text/plain": [
       "           Ticker   Open   High     Low  Close     Volume  Dividend  Split  \\\n",
       "Date                                                                         \n",
       "2017-08-07   EXAS  38.84  39.80  38.441  39.20  1006956.0       0.0    1.0   \n",
       "2017-08-08   EXAS  39.34  39.44  38.220  38.26   919550.0       0.0    1.0   \n",
       "2017-08-09   EXAS  37.81  38.54  36.910  37.25  1610908.0       0.0    1.0   \n",
       "2017-08-10   EXAS  37.18  37.86  36.910  37.05  1276770.0       0.0    1.0   \n",
       "2017-08-11   EXAS  36.94  37.97  36.100  37.76  1183339.0       0.0    1.0   \n",
       "\n",
       "            Adj_Open  Adj_High  Adj_Low  Adj_Close  Adj_Volume  \n",
       "Date                                                            \n",
       "2017-08-07     38.84     39.80   38.441      39.20   1006956.0  \n",
       "2017-08-08     39.34     39.44   38.220      38.26    919550.0  \n",
       "2017-08-09     37.81     38.54   36.910      37.25   1610908.0  \n",
       "2017-08-10     37.18     37.86   36.910      37.05   1276770.0  \n",
       "2017-08-11     36.94     37.97   36.100      37.76   1183339.0  "
      ]
     },
     "execution_count": 6,
     "metadata": {},
     "output_type": "execute_result"
    }
   ],
   "source": [
    "dfs['EXAS'].tail()"
   ]
  },
  {
   "cell_type": "code",
   "execution_count": 7,
   "metadata": {},
   "outputs": [],
   "source": [
    "dfs['EXAS']['typical_price'] = dfs['EXAS'][['High', 'Low', 'Close']].mean(axis=1)"
   ]
  },
  {
   "cell_type": "code",
   "execution_count": 8,
   "metadata": {},
   "outputs": [],
   "source": [
    "cts.create_tas(dfs['EXAS'])"
   ]
  },
  {
   "cell_type": "code",
   "execution_count": 9,
   "metadata": {},
   "outputs": [
    {
     "data": {
      "text/plain": [
       "(4158, 140)"
      ]
     },
     "execution_count": 9,
     "metadata": {},
     "output_type": "execute_result"
    }
   ],
   "source": [
    "dfs['EXAS'].shape"
   ]
  },
  {
   "cell_type": "code",
   "execution_count": 10,
   "metadata": {},
   "outputs": [
    {
     "data": {
      "text/html": [
       "<div>\n",
       "<style scoped>\n",
       "    .dataframe tbody tr th:only-of-type {\n",
       "        vertical-align: middle;\n",
       "    }\n",
       "\n",
       "    .dataframe tbody tr th {\n",
       "        vertical-align: top;\n",
       "    }\n",
       "\n",
       "    .dataframe thead th {\n",
       "        text-align: right;\n",
       "    }\n",
       "</style>\n",
       "<table border=\"1\" class=\"dataframe\">\n",
       "  <thead>\n",
       "    <tr style=\"text-align: right;\">\n",
       "      <th></th>\n",
       "      <th>Ticker</th>\n",
       "      <th>Open</th>\n",
       "      <th>High</th>\n",
       "      <th>Low</th>\n",
       "      <th>Close</th>\n",
       "      <th>Volume</th>\n",
       "      <th>Dividend</th>\n",
       "      <th>Split</th>\n",
       "      <th>Adj_Open</th>\n",
       "      <th>Adj_High</th>\n",
       "      <th>...</th>\n",
       "      <th>ht_ph_cl</th>\n",
       "      <th>ht_ph_tp</th>\n",
       "      <th>ht_q_cl</th>\n",
       "      <th>ht_q_tp</th>\n",
       "      <th>ht_s_cl</th>\n",
       "      <th>ht_s_tp</th>\n",
       "      <th>ht_ls_cl</th>\n",
       "      <th>ht_ls_tp</th>\n",
       "      <th>ht_tr_cl</th>\n",
       "      <th>ht_tr_tp</th>\n",
       "    </tr>\n",
       "    <tr>\n",
       "      <th>Date</th>\n",
       "      <th></th>\n",
       "      <th></th>\n",
       "      <th></th>\n",
       "      <th></th>\n",
       "      <th></th>\n",
       "      <th></th>\n",
       "      <th></th>\n",
       "      <th></th>\n",
       "      <th></th>\n",
       "      <th></th>\n",
       "      <th></th>\n",
       "      <th></th>\n",
       "      <th></th>\n",
       "      <th></th>\n",
       "      <th></th>\n",
       "      <th></th>\n",
       "      <th></th>\n",
       "      <th></th>\n",
       "      <th></th>\n",
       "      <th></th>\n",
       "      <th></th>\n",
       "    </tr>\n",
       "  </thead>\n",
       "  <tbody>\n",
       "    <tr>\n",
       "      <th>2001-02-01</th>\n",
       "      <td>EXAS</td>\n",
       "      <td>14.38</td>\n",
       "      <td>15.38</td>\n",
       "      <td>14.25</td>\n",
       "      <td>15.00</td>\n",
       "      <td>497600.0</td>\n",
       "      <td>0.0</td>\n",
       "      <td>1.0</td>\n",
       "      <td>14.38</td>\n",
       "      <td>15.38</td>\n",
       "      <td>...</td>\n",
       "      <td>-0.351479</td>\n",
       "      <td>-0.374648</td>\n",
       "      <td>0.539147</td>\n",
       "      <td>0.536564</td>\n",
       "      <td>0.220636</td>\n",
       "      <td>0.323114</td>\n",
       "      <td>-0.533668</td>\n",
       "      <td>-0.440701</td>\n",
       "      <td>0</td>\n",
       "      <td>0</td>\n",
       "    </tr>\n",
       "    <tr>\n",
       "      <th>2001-02-02</th>\n",
       "      <td>EXAS</td>\n",
       "      <td>15.31</td>\n",
       "      <td>15.31</td>\n",
       "      <td>14.25</td>\n",
       "      <td>14.38</td>\n",
       "      <td>336900.0</td>\n",
       "      <td>0.0</td>\n",
       "      <td>1.0</td>\n",
       "      <td>15.31</td>\n",
       "      <td>15.31</td>\n",
       "      <td>...</td>\n",
       "      <td>-0.351479</td>\n",
       "      <td>-0.374648</td>\n",
       "      <td>0.539147</td>\n",
       "      <td>0.536564</td>\n",
       "      <td>0.220636</td>\n",
       "      <td>0.323114</td>\n",
       "      <td>-0.533668</td>\n",
       "      <td>-0.440701</td>\n",
       "      <td>0</td>\n",
       "      <td>0</td>\n",
       "    </tr>\n",
       "    <tr>\n",
       "      <th>2001-02-05</th>\n",
       "      <td>EXAS</td>\n",
       "      <td>14.50</td>\n",
       "      <td>14.50</td>\n",
       "      <td>13.88</td>\n",
       "      <td>14.06</td>\n",
       "      <td>91400.0</td>\n",
       "      <td>0.0</td>\n",
       "      <td>1.0</td>\n",
       "      <td>14.50</td>\n",
       "      <td>14.50</td>\n",
       "      <td>...</td>\n",
       "      <td>-0.351479</td>\n",
       "      <td>-0.374648</td>\n",
       "      <td>0.539147</td>\n",
       "      <td>0.536564</td>\n",
       "      <td>0.220636</td>\n",
       "      <td>0.323114</td>\n",
       "      <td>-0.533668</td>\n",
       "      <td>-0.440701</td>\n",
       "      <td>0</td>\n",
       "      <td>0</td>\n",
       "    </tr>\n",
       "    <tr>\n",
       "      <th>2001-02-06</th>\n",
       "      <td>EXAS</td>\n",
       "      <td>14.00</td>\n",
       "      <td>14.38</td>\n",
       "      <td>13.94</td>\n",
       "      <td>14.00</td>\n",
       "      <td>245400.0</td>\n",
       "      <td>0.0</td>\n",
       "      <td>1.0</td>\n",
       "      <td>14.00</td>\n",
       "      <td>14.38</td>\n",
       "      <td>...</td>\n",
       "      <td>-0.351479</td>\n",
       "      <td>-0.374648</td>\n",
       "      <td>0.539147</td>\n",
       "      <td>0.536564</td>\n",
       "      <td>0.220636</td>\n",
       "      <td>0.323114</td>\n",
       "      <td>-0.533668</td>\n",
       "      <td>-0.440701</td>\n",
       "      <td>0</td>\n",
       "      <td>0</td>\n",
       "    </tr>\n",
       "    <tr>\n",
       "      <th>2001-02-07</th>\n",
       "      <td>EXAS</td>\n",
       "      <td>14.00</td>\n",
       "      <td>14.06</td>\n",
       "      <td>14.00</td>\n",
       "      <td>14.00</td>\n",
       "      <td>205300.0</td>\n",
       "      <td>0.0</td>\n",
       "      <td>1.0</td>\n",
       "      <td>14.00</td>\n",
       "      <td>14.06</td>\n",
       "      <td>...</td>\n",
       "      <td>-0.351479</td>\n",
       "      <td>-0.374648</td>\n",
       "      <td>0.539147</td>\n",
       "      <td>0.536564</td>\n",
       "      <td>0.220636</td>\n",
       "      <td>0.323114</td>\n",
       "      <td>-0.533668</td>\n",
       "      <td>-0.440701</td>\n",
       "      <td>0</td>\n",
       "      <td>0</td>\n",
       "    </tr>\n",
       "  </tbody>\n",
       "</table>\n",
       "<p>5 rows × 140 columns</p>\n",
       "</div>"
      ],
      "text/plain": [
       "           Ticker   Open   High    Low  Close    Volume  Dividend  Split  \\\n",
       "Date                                                                       \n",
       "2001-02-01   EXAS  14.38  15.38  14.25  15.00  497600.0       0.0    1.0   \n",
       "2001-02-02   EXAS  15.31  15.31  14.25  14.38  336900.0       0.0    1.0   \n",
       "2001-02-05   EXAS  14.50  14.50  13.88  14.06   91400.0       0.0    1.0   \n",
       "2001-02-06   EXAS  14.00  14.38  13.94  14.00  245400.0       0.0    1.0   \n",
       "2001-02-07   EXAS  14.00  14.06  14.00  14.00  205300.0       0.0    1.0   \n",
       "\n",
       "            Adj_Open  Adj_High    ...     ht_ph_cl  ht_ph_tp   ht_q_cl  \\\n",
       "Date                              ...                                    \n",
       "2001-02-01     14.38     15.38    ...    -0.351479 -0.374648  0.539147   \n",
       "2001-02-02     15.31     15.31    ...    -0.351479 -0.374648  0.539147   \n",
       "2001-02-05     14.50     14.50    ...    -0.351479 -0.374648  0.539147   \n",
       "2001-02-06     14.00     14.38    ...    -0.351479 -0.374648  0.539147   \n",
       "2001-02-07     14.00     14.06    ...    -0.351479 -0.374648  0.539147   \n",
       "\n",
       "             ht_q_tp   ht_s_cl   ht_s_tp  ht_ls_cl  ht_ls_tp  ht_tr_cl  \\\n",
       "Date                                                                     \n",
       "2001-02-01  0.536564  0.220636  0.323114 -0.533668 -0.440701         0   \n",
       "2001-02-02  0.536564  0.220636  0.323114 -0.533668 -0.440701         0   \n",
       "2001-02-05  0.536564  0.220636  0.323114 -0.533668 -0.440701         0   \n",
       "2001-02-06  0.536564  0.220636  0.323114 -0.533668 -0.440701         0   \n",
       "2001-02-07  0.536564  0.220636  0.323114 -0.533668 -0.440701         0   \n",
       "\n",
       "            ht_tr_tp  \n",
       "Date                  \n",
       "2001-02-01         0  \n",
       "2001-02-02         0  \n",
       "2001-02-05         0  \n",
       "2001-02-06         0  \n",
       "2001-02-07         0  \n",
       "\n",
       "[5 rows x 140 columns]"
      ]
     },
     "execution_count": 10,
     "metadata": {},
     "output_type": "execute_result"
    }
   ],
   "source": [
    "dfs['EXAS'].head()"
   ]
  },
  {
   "cell_type": "code",
   "execution_count": 11,
   "metadata": {},
   "outputs": [
    {
     "name": "stderr",
     "output_type": "stream",
     "text": [
      "100%|██████████| 1011/1011 [00:05<00:00, 201.76it/s]\n"
     ]
    }
   ],
   "source": [
    "finra_shorts = sfs.load_all_data()"
   ]
  },
  {
   "cell_type": "code",
   "execution_count": 12,
   "metadata": {},
   "outputs": [
    {
     "data": {
      "text/plain": [
       "(4059968, 6)"
      ]
     },
     "execution_count": 12,
     "metadata": {},
     "output_type": "execute_result"
    }
   ],
   "source": [
    "finra_shorts.shape"
   ]
  },
  {
   "cell_type": "code",
   "execution_count": 13,
   "metadata": {},
   "outputs": [
    {
     "data": {
      "text/html": [
       "<div>\n",
       "<style scoped>\n",
       "    .dataframe tbody tr th:only-of-type {\n",
       "        vertical-align: middle;\n",
       "    }\n",
       "\n",
       "    .dataframe tbody tr th {\n",
       "        vertical-align: top;\n",
       "    }\n",
       "\n",
       "    .dataframe thead th {\n",
       "        text-align: right;\n",
       "    }\n",
       "</style>\n",
       "<table border=\"1\" class=\"dataframe\">\n",
       "  <thead>\n",
       "    <tr style=\"text-align: right;\">\n",
       "      <th></th>\n",
       "      <th>Date</th>\n",
       "      <th>Symbol</th>\n",
       "      <th>ShortVolume</th>\n",
       "      <th>ShortExemptVolume</th>\n",
       "      <th>TotalVolume</th>\n",
       "      <th>Market</th>\n",
       "    </tr>\n",
       "  </thead>\n",
       "  <tbody>\n",
       "    <tr>\n",
       "      <th>0</th>\n",
       "      <td>2016-11-30</td>\n",
       "      <td>A</td>\n",
       "      <td>202347.0</td>\n",
       "      <td>200.0</td>\n",
       "      <td>541995.0</td>\n",
       "      <td>Q</td>\n",
       "    </tr>\n",
       "    <tr>\n",
       "      <th>1</th>\n",
       "      <td>2016-11-30</td>\n",
       "      <td>AA</td>\n",
       "      <td>779104.0</td>\n",
       "      <td>2323.0</td>\n",
       "      <td>1760992.0</td>\n",
       "      <td>Q</td>\n",
       "    </tr>\n",
       "    <tr>\n",
       "      <th>2</th>\n",
       "      <td>2016-11-30</td>\n",
       "      <td>AAAP</td>\n",
       "      <td>17172.0</td>\n",
       "      <td>0.0</td>\n",
       "      <td>34515.0</td>\n",
       "      <td>Q</td>\n",
       "    </tr>\n",
       "    <tr>\n",
       "      <th>3</th>\n",
       "      <td>2016-11-30</td>\n",
       "      <td>AAC</td>\n",
       "      <td>37786.0</td>\n",
       "      <td>3700.0</td>\n",
       "      <td>64028.0</td>\n",
       "      <td>Q</td>\n",
       "    </tr>\n",
       "    <tr>\n",
       "      <th>4</th>\n",
       "      <td>2016-11-30</td>\n",
       "      <td>AADR</td>\n",
       "      <td>977.0</td>\n",
       "      <td>0.0</td>\n",
       "      <td>1430.0</td>\n",
       "      <td>Q</td>\n",
       "    </tr>\n",
       "  </tbody>\n",
       "</table>\n",
       "</div>"
      ],
      "text/plain": [
       "        Date Symbol  ShortVolume  ShortExemptVolume  TotalVolume Market\n",
       "0 2016-11-30      A     202347.0              200.0     541995.0      Q\n",
       "1 2016-11-30     AA     779104.0             2323.0    1760992.0      Q\n",
       "2 2016-11-30   AAAP      17172.0                0.0      34515.0      Q\n",
       "3 2016-11-30    AAC      37786.0             3700.0      64028.0      Q\n",
       "4 2016-11-30   AADR        977.0                0.0       1430.0      Q"
      ]
     },
     "execution_count": 13,
     "metadata": {},
     "output_type": "execute_result"
    }
   ],
   "source": [
    "finra_shorts.head()"
   ]
  },
  {
   "cell_type": "code",
   "execution_count": 14,
   "metadata": {},
   "outputs": [],
   "source": [
    "fs_df = finra_shorts[finra_shorts['Symbol'] == 'EXAS']"
   ]
  },
  {
   "cell_type": "code",
   "execution_count": 15,
   "metadata": {},
   "outputs": [
    {
     "data": {
      "text/plain": [
       "(516, 6)"
      ]
     },
     "execution_count": 15,
     "metadata": {},
     "output_type": "execute_result"
    }
   ],
   "source": [
    "fs_df.shape"
   ]
  },
  {
   "cell_type": "code",
   "execution_count": 16,
   "metadata": {},
   "outputs": [],
   "source": [
    "import pandas as pd"
   ]
  },
  {
   "cell_type": "code",
   "execution_count": 17,
   "metadata": {},
   "outputs": [
    {
     "name": "stdout",
     "output_type": "stream",
     "text": [
      "<class 'pandas.core.frame.DataFrame'>\n",
      "Int64Index: 516 entries, 2354 to 1806\n",
      "Data columns (total 6 columns):\n",
      "Date                 516 non-null datetime64[ns]\n",
      "Symbol               516 non-null object\n",
      "ShortVolume          516 non-null float64\n",
      "ShortExemptVolume    516 non-null float64\n",
      "TotalVolume          516 non-null float64\n",
      "Market               516 non-null object\n",
      "dtypes: datetime64[ns](1), float64(3), object(2)\n",
      "memory usage: 28.2+ KB\n"
     ]
    }
   ],
   "source": [
    "fs_df.info()"
   ]
  },
  {
   "cell_type": "code",
   "execution_count": 18,
   "metadata": {},
   "outputs": [],
   "source": [
    "fs_df = fs_df.groupby('Date').sum()"
   ]
  },
  {
   "cell_type": "code",
   "execution_count": 19,
   "metadata": {},
   "outputs": [
    {
     "data": {
      "text/plain": [
       "(258, 3)"
      ]
     },
     "execution_count": 19,
     "metadata": {},
     "output_type": "execute_result"
    }
   ],
   "source": [
    "fs_df.shape"
   ]
  },
  {
   "cell_type": "code",
   "execution_count": 20,
   "metadata": {},
   "outputs": [
    {
     "data": {
      "text/plain": [
       "DatetimeIndex(['2016-11-01', '2016-11-02', '2016-11-03', '2016-11-04',\n",
       "               '2016-11-07', '2016-11-08', '2016-11-09', '2016-11-10',\n",
       "               '2016-11-11', '2016-11-14',\n",
       "               ...\n",
       "               '2017-10-26', '2017-10-27', '2017-10-30', '2017-10-31',\n",
       "               '2017-11-01', '2017-11-02', '2017-11-03', '2017-11-06',\n",
       "               '2017-11-07', '2017-11-08'],\n",
       "              dtype='datetime64[ns]', name='Date', length=258, freq=None)"
      ]
     },
     "execution_count": 20,
     "metadata": {},
     "output_type": "execute_result"
    }
   ],
   "source": [
    "fs_df.index"
   ]
  },
  {
   "cell_type": "code",
   "execution_count": 21,
   "metadata": {},
   "outputs": [
    {
     "data": {
      "text/plain": [
       "(196, 140)"
      ]
     },
     "execution_count": 21,
     "metadata": {},
     "output_type": "execute_result"
    }
   ],
   "source": [
    "# don't have the latest data in the historical yet\n",
    "dfs['EXAS'].loc[dfs['EXAS'].index.isin(fs_df.index)].shape"
   ]
  },
  {
   "cell_type": "code",
   "execution_count": null,
   "metadata": {},
   "outputs": [],
   "source": []
  }
 ],
 "metadata": {
  "kernelspec": {
   "display_name": "Python 3",
   "language": "python",
   "name": "python3"
  },
  "language_info": {
   "codemirror_mode": {
    "name": "ipython",
    "version": 3
   },
   "file_extension": ".py",
   "mimetype": "text/x-python",
   "name": "python",
   "nbconvert_exporter": "python",
   "pygments_lexer": "ipython3",
   "version": "3.5.2"
  }
 },
 "nbformat": 4,
 "nbformat_minor": 2
}
