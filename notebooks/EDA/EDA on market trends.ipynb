{
 "cells": [
  {
   "cell_type": "markdown",
   "metadata": {},
   "source": [
    "# Plot when the S&P500 has been up at least 5%"
   ]
  },
  {
   "cell_type": "code",
   "execution_count": 1,
   "metadata": {},
   "outputs": [],
   "source": [
    "# for auto-reloading external modules\n",
    "# see http://stackoverflow.com/questions/1907993/autoreload-of-modules-in-ipython\n",
    "%load_ext autoreload\n",
    "%autoreload 2"
   ]
  },
  {
   "cell_type": "code",
   "execution_count": 61,
   "metadata": {},
   "outputs": [],
   "source": [
    "# core\n",
    "import time\n",
    "import sys\n",
    "from concurrent.futures import ProcessPoolExecutor\n",
    "\n",
    "# installed\n",
    "import numpy as np\n",
    "import pandas as pd\n",
    "import matplotlib.pyplot as plt\n",
    "%matplotlib inline\n",
    "\n",
    "# custom\n",
    "sys.path.append('../../code')\n",
    "import data_processing as dp\n",
    "import short_squeeze_eda as sse\n",
    "from utils import get_home_dir\n",
    "HOME_DIR = get_home_dir(repo_name='scrape_stocks')"
   ]
  },
  {
   "cell_type": "code",
   "execution_count": 4,
   "metadata": {},
   "outputs": [
    {
     "name": "stdout",
     "output_type": "stream",
     "text": [
      "loading stocks...\n"
     ]
    }
   ],
   "source": [
    "dfs, sh_int, fin_sh = dp.load_stocks(stocks=None,\n",
    "                                     verbose=True,\n",
    "                                     short_interest=False,\n",
    "                                     TAs=False,\n",
    "                                     finra_shorts=False,\n",
    "                                     earliest_date=None)"
   ]
  },
  {
   "cell_type": "code",
   "execution_count": 5,
   "metadata": {},
   "outputs": [
    {
     "data": {
      "text/plain": [
       "11638"
      ]
     },
     "execution_count": 5,
     "metadata": {},
     "output_type": "execute_result"
    }
   ],
   "source": [
    "len(dfs.keys())"
   ]
  },
  {
   "cell_type": "code",
   "execution_count": 8,
   "metadata": {},
   "outputs": [
    {
     "data": {
      "image/png": "[encoded data removed]",
      "text/plain": [
       "<Figure size 432x288 with 1 Axes>"
      ]
     },
     "metadata": {},
     "output_type": "display_data"
    }
   ],
   "source": [
    "_ = dfs['SPY']['Adj_Close'].plot()"
   ]
  },
  {
   "cell_type": "code",
   "execution_count": 9,
   "metadata": {},
   "outputs": [],
   "source": [
    "df = dfs['SPY'].copy()"
   ]
  },
  {
   "cell_type": "code",
   "execution_count": 17,
   "metadata": {},
   "outputs": [],
   "source": [
    "past_days = 1\n",
    "col = 'Adj_Close'"
   ]
  },
  {
   "cell_type": "code",
   "execution_count": 19,
   "metadata": {},
   "outputs": [],
   "source": [
    "df[col + 'prev_price_' + str(past_days) + '_days'] = df.iloc[:-past_days][col].tolist() + past_days * [np.nan]"
   ]
  },
  {
   "cell_type": "code",
   "execution_count": 33,
   "metadata": {},
   "outputs": [],
   "source": [
    "def calc_pct_change(df, past_days=1, col='Adj_Close'):\n",
    "    \"\"\"\n",
    "    calculates the percent change of a stock from past_days days in the past\n",
    "    \"\"\"\n",
    "    df_copy = df.copy()\n",
    "    prev_price_col = col + '_prev_price_' + str(past_days) + '_days'\n",
    "    pct_change_col = col + '_pct_change_' + str(past_days) + '_days'\n",
    "    df_copy[prev_price_col] = past_days * [np.nan] + df_copy.iloc[:-past_days][col].tolist()\n",
    "    pct_changes = []\n",
    "    for i, r in df_copy.iloc[past_days:].iterrows():\n",
    "        pct_changes.append((r[col] - r[prev_price_col]) / r[prev_price_col])\n",
    "    \n",
    "    df_copy[pct_change_col] = past_days * [np.nan] + pct_changes\n",
    "    return df_copy"
   ]
  },
  {
   "cell_type": "code",
   "execution_count": 34,
   "metadata": {},
   "outputs": [],
   "source": [
    "df = calc_pct_change(dfs['SPY'])"
   ]
  },
  {
   "cell_type": "code",
   "execution_count": 35,
   "metadata": {},
   "outputs": [
    {
     "data": {
      "text/html": [
       "<div>\n",
       "<style scoped>\n",
       "    .dataframe tbody tr th:only-of-type {\n",
       "        vertical-align: middle;\n",
       "    }\n",
       "\n",
       "    .dataframe tbody tr th {\n",
       "        vertical-align: top;\n",
       "    }\n",
       "\n",
       "    .dataframe thead th {\n",
       "        text-align: right;\n",
       "    }\n",
       "</style>\n",
       "<table border=\"1\" class=\"dataframe\">\n",
       "  <thead>\n",
       "    <tr style=\"text-align: right;\">\n",
       "      <th></th>\n",
       "      <th>Ticker</th>\n",
       "      <th>Open</th>\n",
       "      <th>High</th>\n",
       "      <th>Low</th>\n",
       "      <th>Close</th>\n",
       "      <th>Volume</th>\n",
       "      <th>Dividend</th>\n",
       "      <th>Split</th>\n",
       "      <th>Adj_Open</th>\n",
       "      <th>Adj_High</th>\n",
       "      <th>Adj_Low</th>\n",
       "      <th>Adj_Close</th>\n",
       "      <th>Adj_Volume</th>\n",
       "      <th>Adj_Close_prev_price_1_days</th>\n",
       "      <th>Adj_Close_pct_change_1_days</th>\n",
       "    </tr>\n",
       "    <tr>\n",
       "      <th>Date</th>\n",
       "      <th></th>\n",
       "      <th></th>\n",
       "      <th></th>\n",
       "      <th></th>\n",
       "      <th></th>\n",
       "      <th></th>\n",
       "      <th></th>\n",
       "      <th></th>\n",
       "      <th></th>\n",
       "      <th></th>\n",
       "      <th></th>\n",
       "      <th></th>\n",
       "      <th></th>\n",
       "      <th></th>\n",
       "      <th></th>\n",
       "    </tr>\n",
       "  </thead>\n",
       "  <tbody>\n",
       "    <tr>\n",
       "      <th>1993-01-29</th>\n",
       "      <td>SPY</td>\n",
       "      <td>43.9687</td>\n",
       "      <td>43.9687</td>\n",
       "      <td>43.7500</td>\n",
       "      <td>43.9375</td>\n",
       "      <td>1003200.0</td>\n",
       "      <td>0.0</td>\n",
       "      <td>1.0</td>\n",
       "      <td>27.376159</td>\n",
       "      <td>27.376159</td>\n",
       "      <td>27.239990</td>\n",
       "      <td>27.356733</td>\n",
       "      <td>1003200.0</td>\n",
       "      <td>NaN</td>\n",
       "      <td>NaN</td>\n",
       "    </tr>\n",
       "    <tr>\n",
       "      <th>1993-02-01</th>\n",
       "      <td>SPY</td>\n",
       "      <td>43.9687</td>\n",
       "      <td>44.2500</td>\n",
       "      <td>43.9687</td>\n",
       "      <td>44.2500</td>\n",
       "      <td>480500.0</td>\n",
       "      <td>0.0</td>\n",
       "      <td>1.0</td>\n",
       "      <td>27.376159</td>\n",
       "      <td>27.551304</td>\n",
       "      <td>27.376159</td>\n",
       "      <td>27.551304</td>\n",
       "      <td>480500.0</td>\n",
       "      <td>27.356733</td>\n",
       "      <td>0.007112</td>\n",
       "    </tr>\n",
       "    <tr>\n",
       "      <th>1993-02-02</th>\n",
       "      <td>SPY</td>\n",
       "      <td>44.2187</td>\n",
       "      <td>44.3750</td>\n",
       "      <td>44.1250</td>\n",
       "      <td>44.3437</td>\n",
       "      <td>201300.0</td>\n",
       "      <td>0.0</td>\n",
       "      <td>1.0</td>\n",
       "      <td>27.531816</td>\n",
       "      <td>27.629133</td>\n",
       "      <td>27.473476</td>\n",
       "      <td>27.609644</td>\n",
       "      <td>201300.0</td>\n",
       "      <td>27.551304</td>\n",
       "      <td>0.002118</td>\n",
       "    </tr>\n",
       "    <tr>\n",
       "      <th>1993-02-03</th>\n",
       "      <td>SPY</td>\n",
       "      <td>44.4062</td>\n",
       "      <td>44.8437</td>\n",
       "      <td>44.3750</td>\n",
       "      <td>44.8125</td>\n",
       "      <td>529400.0</td>\n",
       "      <td>0.0</td>\n",
       "      <td>1.0</td>\n",
       "      <td>27.648559</td>\n",
       "      <td>27.920959</td>\n",
       "      <td>27.629133</td>\n",
       "      <td>27.901533</td>\n",
       "      <td>529400.0</td>\n",
       "      <td>27.609644</td>\n",
       "      <td>0.010572</td>\n",
       "    </tr>\n",
       "    <tr>\n",
       "      <th>1993-02-04</th>\n",
       "      <td>SPY</td>\n",
       "      <td>44.9687</td>\n",
       "      <td>45.0937</td>\n",
       "      <td>44.4687</td>\n",
       "      <td>45.0000</td>\n",
       "      <td>531500.0</td>\n",
       "      <td>0.0</td>\n",
       "      <td>1.0</td>\n",
       "      <td>27.998787</td>\n",
       "      <td>28.076616</td>\n",
       "      <td>27.687473</td>\n",
       "      <td>28.018275</td>\n",
       "      <td>531500.0</td>\n",
       "      <td>27.901533</td>\n",
       "      <td>0.004184</td>\n",
       "    </tr>\n",
       "  </tbody>\n",
       "</table>\n",
       "</div>"
      ],
      "text/plain": [
       "           Ticker     Open     High      Low    Close     Volume  Dividend  \\\n",
       "Date                                                                         \n",
       "1993-01-29    SPY  43.9687  43.9687  43.7500  43.9375  1003200.0       0.0   \n",
       "1993-02-01    SPY  43.9687  44.2500  43.9687  44.2500   480500.0       0.0   \n",
       "1993-02-02    SPY  44.2187  44.3750  44.1250  44.3437   201300.0       0.0   \n",
       "1993-02-03    SPY  44.4062  44.8437  44.3750  44.8125   529400.0       0.0   \n",
       "1993-02-04    SPY  44.9687  45.0937  44.4687  45.0000   531500.0       0.0   \n",
       "\n",
       "            Split   Adj_Open   Adj_High    Adj_Low  Adj_Close  Adj_Volume  \\\n",
       "Date                                                                        \n",
       "1993-01-29    1.0  27.376159  27.376159  27.239990  27.356733   1003200.0   \n",
       "1993-02-01    1.0  27.376159  27.551304  27.376159  27.551304    480500.0   \n",
       "1993-02-02    1.0  27.531816  27.629133  27.473476  27.609644    201300.0   \n",
       "1993-02-03    1.0  27.648559  27.920959  27.629133  27.901533    529400.0   \n",
       "1993-02-04    1.0  27.998787  28.076616  27.687473  28.018275    531500.0   \n",
       "\n",
       "            Adj_Close_prev_price_1_days  Adj_Close_pct_change_1_days  \n",
       "Date                                                                  \n",
       "1993-01-29                          NaN                          NaN  \n",
       "1993-02-01                    27.356733                     0.007112  \n",
       "1993-02-02                    27.551304                     0.002118  \n",
       "1993-02-03                    27.609644                     0.010572  \n",
       "1993-02-04                    27.901533                     0.004184  "
      ]
     },
     "execution_count": 35,
     "metadata": {},
     "output_type": "execute_result"
    }
   ],
   "source": [
    "df.head()"
   ]
  },
  {
   "cell_type": "code",
   "execution_count": 36,
   "metadata": {},
   "outputs": [
    {
     "data": {
      "text/plain": [
       "<matplotlib.axes._subplots.AxesSubplot at 0x7f0cf069c390>"
      ]
     },
     "execution_count": 36,
     "metadata": {},
     "output_type": "execute_result"
    },
    {
     "data": {
      "image/png": "[encoded data removed]",
      "text/plain": [
       "<Figure size 432x288 with 1 Axes>"
      ]
     },
     "metadata": {},
     "output_type": "display_data"
    }
   ],
   "source": [
    "df['Adj_Close_pct_change_1_days'].plot()"
   ]
  },
  {
   "cell_type": "code",
   "execution_count": 38,
   "metadata": {},
   "outputs": [
    {
     "data": {
      "text/plain": [
       "<matplotlib.axes._subplots.AxesSubplot at 0x7f0cf028bef0>"
      ]
     },
     "execution_count": 38,
     "metadata": {},
     "output_type": "execute_result"
    },
    {
     "data": {
      "image/png": "[encoded data removed]",
      "text/plain": [
       "<Figure size 432x288 with 1 Axes>"
      ]
     },
     "metadata": {},
     "output_type": "display_data"
    }
   ],
   "source": [
    "df['Adj_Close_pct_change_1_days'].hist(bins=50)"
   ]
  },
  {
   "cell_type": "code",
   "execution_count": 42,
   "metadata": {},
   "outputs": [],
   "source": [
    "df = calc_pct_change(dfs['SPY'], past_days=5)"
   ]
  },
  {
   "cell_type": "code",
   "execution_count": 43,
   "metadata": {},
   "outputs": [
    {
     "data": {
      "text/plain": [
       "<matplotlib.axes._subplots.AxesSubplot at 0x7f0cd9d73860>"
      ]
     },
     "execution_count": 43,
     "metadata": {},
     "output_type": "execute_result"
    },
    {
     "data": {
      "image/png": "[encoded data removed]",
      "text/plain": [
       "<Figure size 432x288 with 1 Axes>"
      ]
     },
     "metadata": {},
     "output_type": "display_data"
    }
   ],
   "source": [
    "df['Adj_Close_pct_change_5_days'].hist(bins=50)"
   ]
  },
  {
   "cell_type": "markdown",
   "metadata": {},
   "source": [
    "# idea: predict binary >=0 or arbitrary threshold to get market direction"
   ]
  },
  {
   "cell_type": "code",
   "execution_count": 51,
   "metadata": {},
   "outputs": [],
   "source": [
    "sp500_companies = pd.read_csv('~/github/s-and-p-500-companies/data/constituents.csv')\n",
    "# need to replace . with _ for consistency with quandl data\n",
    "sp500_companies['Symbol'].apply(lambda x: x.replace('.', '_'))\n",
    "sp500_companies.sort_values(by='Symbol', inplace=True)"
   ]
  },
  {
   "cell_type": "code",
   "execution_count": 52,
   "metadata": {},
   "outputs": [
    {
     "data": {
      "text/html": [
       "<div>\n",
       "<style scoped>\n",
       "    .dataframe tbody tr th:only-of-type {\n",
       "        vertical-align: middle;\n",
       "    }\n",
       "\n",
       "    .dataframe tbody tr th {\n",
       "        vertical-align: top;\n",
       "    }\n",
       "\n",
       "    .dataframe thead th {\n",
       "        text-align: right;\n",
       "    }\n",
       "</style>\n",
       "<table border=\"1\" class=\"dataframe\">\n",
       "  <thead>\n",
       "    <tr style=\"text-align: right;\">\n",
       "      <th></th>\n",
       "      <th>Symbol</th>\n",
       "      <th>Name</th>\n",
       "      <th>Sector</th>\n",
       "    </tr>\n",
       "  </thead>\n",
       "  <tbody>\n",
       "    <tr>\n",
       "      <th>14</th>\n",
       "      <td>A</td>\n",
       "      <td>Agilent Technologies Inc</td>\n",
       "      <td>Health Care</td>\n",
       "    </tr>\n",
       "    <tr>\n",
       "      <th>32</th>\n",
       "      <td>AAL</td>\n",
       "      <td>American Airlines Group</td>\n",
       "      <td>Industrials</td>\n",
       "    </tr>\n",
       "    <tr>\n",
       "      <th>8</th>\n",
       "      <td>AAP</td>\n",
       "      <td>Advance Auto Parts</td>\n",
       "      <td>Consumer Discretionary</td>\n",
       "    </tr>\n",
       "    <tr>\n",
       "      <th>51</th>\n",
       "      <td>AAPL</td>\n",
       "      <td>Apple Inc.</td>\n",
       "      <td>Information Technology</td>\n",
       "    </tr>\n",
       "    <tr>\n",
       "      <th>3</th>\n",
       "      <td>ABBV</td>\n",
       "      <td>AbbVie Inc.</td>\n",
       "      <td>Health Care</td>\n",
       "    </tr>\n",
       "    <tr>\n",
       "      <th>39</th>\n",
       "      <td>ABC</td>\n",
       "      <td>AmerisourceBergen Corp</td>\n",
       "      <td>Health Care</td>\n",
       "    </tr>\n",
       "    <tr>\n",
       "      <th>2</th>\n",
       "      <td>ABT</td>\n",
       "      <td>Abbott Laboratories</td>\n",
       "      <td>Health Care</td>\n",
       "    </tr>\n",
       "    <tr>\n",
       "      <th>4</th>\n",
       "      <td>ACN</td>\n",
       "      <td>Accenture plc</td>\n",
       "      <td>Information Technology</td>\n",
       "    </tr>\n",
       "    <tr>\n",
       "      <th>7</th>\n",
       "      <td>ADBE</td>\n",
       "      <td>Adobe Systems Inc</td>\n",
       "      <td>Information Technology</td>\n",
       "    </tr>\n",
       "    <tr>\n",
       "      <th>44</th>\n",
       "      <td>ADI</td>\n",
       "      <td>Analog Devices, Inc.</td>\n",
       "      <td>Information Technology</td>\n",
       "    </tr>\n",
       "    <tr>\n",
       "      <th>54</th>\n",
       "      <td>ADM</td>\n",
       "      <td>Archer-Daniels-Midland Co</td>\n",
       "      <td>Consumer Staples</td>\n",
       "    </tr>\n",
       "    <tr>\n",
       "      <th>60</th>\n",
       "      <td>ADP</td>\n",
       "      <td>Automatic Data Processing</td>\n",
       "      <td>Information Technology</td>\n",
       "    </tr>\n",
       "    <tr>\n",
       "      <th>24</th>\n",
       "      <td>ADS</td>\n",
       "      <td>Alliance Data Systems</td>\n",
       "      <td>Information Technology</td>\n",
       "    </tr>\n",
       "    <tr>\n",
       "      <th>59</th>\n",
       "      <td>ADSK</td>\n",
       "      <td>Autodesk Inc.</td>\n",
       "      <td>Information Technology</td>\n",
       "    </tr>\n",
       "    <tr>\n",
       "      <th>31</th>\n",
       "      <td>AEE</td>\n",
       "      <td>Ameren Corp</td>\n",
       "      <td>Utilities</td>\n",
       "    </tr>\n",
       "    <tr>\n",
       "      <th>33</th>\n",
       "      <td>AEP</td>\n",
       "      <td>American Electric Power</td>\n",
       "      <td>Utilities</td>\n",
       "    </tr>\n",
       "    <tr>\n",
       "      <th>10</th>\n",
       "      <td>AES</td>\n",
       "      <td>AES Corp</td>\n",
       "      <td>Utilities</td>\n",
       "    </tr>\n",
       "    <tr>\n",
       "      <th>11</th>\n",
       "      <td>AET</td>\n",
       "      <td>Aetna Inc</td>\n",
       "      <td>Health Care</td>\n",
       "    </tr>\n",
       "    <tr>\n",
       "      <th>13</th>\n",
       "      <td>AFL</td>\n",
       "      <td>AFLAC Inc</td>\n",
       "      <td>Financials</td>\n",
       "    </tr>\n",
       "    <tr>\n",
       "      <th>23</th>\n",
       "      <td>AGN</td>\n",
       "      <td>Allergan, Plc</td>\n",
       "      <td>Health Care</td>\n",
       "    </tr>\n",
       "    <tr>\n",
       "      <th>35</th>\n",
       "      <td>AIG</td>\n",
       "      <td>American International Group, Inc.</td>\n",
       "      <td>Financials</td>\n",
       "    </tr>\n",
       "    <tr>\n",
       "      <th>50</th>\n",
       "      <td>AIV</td>\n",
       "      <td>Apartment Investment &amp; Management</td>\n",
       "      <td>Real Estate</td>\n",
       "    </tr>\n",
       "    <tr>\n",
       "      <th>57</th>\n",
       "      <td>AIZ</td>\n",
       "      <td>Assurant Inc.</td>\n",
       "      <td>Financials</td>\n",
       "    </tr>\n",
       "    <tr>\n",
       "      <th>56</th>\n",
       "      <td>AJG</td>\n",
       "      <td>Arthur J. Gallagher &amp; Co.</td>\n",
       "      <td>Financials</td>\n",
       "    </tr>\n",
       "    <tr>\n",
       "      <th>16</th>\n",
       "      <td>AKAM</td>\n",
       "      <td>Akamai Technologies Inc</td>\n",
       "      <td>Information Technology</td>\n",
       "    </tr>\n",
       "    <tr>\n",
       "      <th>18</th>\n",
       "      <td>ALB</td>\n",
       "      <td>Albemarle Corp</td>\n",
       "      <td>Materials</td>\n",
       "    </tr>\n",
       "    <tr>\n",
       "      <th>21</th>\n",
       "      <td>ALGN</td>\n",
       "      <td>Align Technology</td>\n",
       "      <td>Health Care</td>\n",
       "    </tr>\n",
       "    <tr>\n",
       "      <th>17</th>\n",
       "      <td>ALK</td>\n",
       "      <td>Alaska Air Group Inc</td>\n",
       "      <td>Industrials</td>\n",
       "    </tr>\n",
       "    <tr>\n",
       "      <th>26</th>\n",
       "      <td>ALL</td>\n",
       "      <td>Allstate Corp</td>\n",
       "      <td>Financials</td>\n",
       "    </tr>\n",
       "    <tr>\n",
       "      <th>22</th>\n",
       "      <td>ALLE</td>\n",
       "      <td>Allegion</td>\n",
       "      <td>Industrials</td>\n",
       "    </tr>\n",
       "    <tr>\n",
       "      <th>...</th>\n",
       "      <td>...</td>\n",
       "      <td>...</td>\n",
       "      <td>...</td>\n",
       "    </tr>\n",
       "    <tr>\n",
       "      <th>471</th>\n",
       "      <td>VTR</td>\n",
       "      <td>Ventas Inc</td>\n",
       "      <td>Real Estate</td>\n",
       "    </tr>\n",
       "    <tr>\n",
       "      <th>474</th>\n",
       "      <td>VZ</td>\n",
       "      <td>Verizon Communications</td>\n",
       "      <td>Telecommunication Services</td>\n",
       "    </tr>\n",
       "    <tr>\n",
       "      <th>483</th>\n",
       "      <td>WAT</td>\n",
       "      <td>Waters Corporation</td>\n",
       "      <td>Health Care</td>\n",
       "    </tr>\n",
       "    <tr>\n",
       "      <th>481</th>\n",
       "      <td>WBA</td>\n",
       "      <td>Walgreens Boots Alliance</td>\n",
       "      <td>Consumer Staples</td>\n",
       "    </tr>\n",
       "    <tr>\n",
       "      <th>487</th>\n",
       "      <td>WDC</td>\n",
       "      <td>Western Digital</td>\n",
       "      <td>Information Technology</td>\n",
       "    </tr>\n",
       "    <tr>\n",
       "      <th>484</th>\n",
       "      <td>WEC</td>\n",
       "      <td>Wec Energy Group Inc</td>\n",
       "      <td>Utilities</td>\n",
       "    </tr>\n",
       "    <tr>\n",
       "      <th>486</th>\n",
       "      <td>WELL</td>\n",
       "      <td>Welltower Inc.</td>\n",
       "      <td>Real Estate</td>\n",
       "    </tr>\n",
       "    <tr>\n",
       "      <th>485</th>\n",
       "      <td>WFC</td>\n",
       "      <td>Wells Fargo</td>\n",
       "      <td>Financials</td>\n",
       "    </tr>\n",
       "    <tr>\n",
       "      <th>491</th>\n",
       "      <td>WHR</td>\n",
       "      <td>Whirlpool Corp.</td>\n",
       "      <td>Consumer Discretionary</td>\n",
       "    </tr>\n",
       "    <tr>\n",
       "      <th>493</th>\n",
       "      <td>WLTW</td>\n",
       "      <td>Willis Towers Watson</td>\n",
       "      <td>Financials</td>\n",
       "    </tr>\n",
       "    <tr>\n",
       "      <th>482</th>\n",
       "      <td>WM</td>\n",
       "      <td>Waste Management Inc.</td>\n",
       "      <td>Industrials</td>\n",
       "    </tr>\n",
       "    <tr>\n",
       "      <th>492</th>\n",
       "      <td>WMB</td>\n",
       "      <td>Williams Cos.</td>\n",
       "      <td>Energy</td>\n",
       "    </tr>\n",
       "    <tr>\n",
       "      <th>480</th>\n",
       "      <td>WMT</td>\n",
       "      <td>Wal-Mart Stores</td>\n",
       "      <td>Consumer Staples</td>\n",
       "    </tr>\n",
       "    <tr>\n",
       "      <th>489</th>\n",
       "      <td>WRK</td>\n",
       "      <td>WestRock Company</td>\n",
       "      <td>Materials</td>\n",
       "    </tr>\n",
       "    <tr>\n",
       "      <th>488</th>\n",
       "      <td>WU</td>\n",
       "      <td>Western Union Co</td>\n",
       "      <td>Information Technology</td>\n",
       "    </tr>\n",
       "    <tr>\n",
       "      <th>490</th>\n",
       "      <td>WY</td>\n",
       "      <td>Weyerhaeuser Corp.</td>\n",
       "      <td>Real Estate</td>\n",
       "    </tr>\n",
       "    <tr>\n",
       "      <th>494</th>\n",
       "      <td>WYN</td>\n",
       "      <td>Wyndham Worldwide</td>\n",
       "      <td>Consumer Discretionary</td>\n",
       "    </tr>\n",
       "    <tr>\n",
       "      <th>495</th>\n",
       "      <td>WYNN</td>\n",
       "      <td>Wynn Resorts Ltd</td>\n",
       "      <td>Consumer Discretionary</td>\n",
       "    </tr>\n",
       "    <tr>\n",
       "      <th>110</th>\n",
       "      <td>XEC</td>\n",
       "      <td>Cimarex Energy</td>\n",
       "      <td>Energy</td>\n",
       "    </tr>\n",
       "    <tr>\n",
       "      <th>496</th>\n",
       "      <td>XEL</td>\n",
       "      <td>Xcel Energy Inc</td>\n",
       "      <td>Utilities</td>\n",
       "    </tr>\n",
       "    <tr>\n",
       "      <th>499</th>\n",
       "      <td>XL</td>\n",
       "      <td>XL Capital</td>\n",
       "      <td>Financials</td>\n",
       "    </tr>\n",
       "    <tr>\n",
       "      <th>498</th>\n",
       "      <td>XLNX</td>\n",
       "      <td>Xilinx Inc</td>\n",
       "      <td>Information Technology</td>\n",
       "    </tr>\n",
       "    <tr>\n",
       "      <th>185</th>\n",
       "      <td>XOM</td>\n",
       "      <td>Exxon Mobil Corp.</td>\n",
       "      <td>Energy</td>\n",
       "    </tr>\n",
       "    <tr>\n",
       "      <th>143</th>\n",
       "      <td>XRAY</td>\n",
       "      <td>Dentsply Sirona</td>\n",
       "      <td>Health Care</td>\n",
       "    </tr>\n",
       "    <tr>\n",
       "      <th>497</th>\n",
       "      <td>XRX</td>\n",
       "      <td>Xerox Corp.</td>\n",
       "      <td>Information Technology</td>\n",
       "    </tr>\n",
       "    <tr>\n",
       "      <th>500</th>\n",
       "      <td>XYL</td>\n",
       "      <td>Xylem Inc.</td>\n",
       "      <td>Industrials</td>\n",
       "    </tr>\n",
       "    <tr>\n",
       "      <th>501</th>\n",
       "      <td>YUM</td>\n",
       "      <td>Yum! Brands Inc</td>\n",
       "      <td>Consumer Discretionary</td>\n",
       "    </tr>\n",
       "    <tr>\n",
       "      <th>502</th>\n",
       "      <td>ZBH</td>\n",
       "      <td>Zimmer Biomet Holdings</td>\n",
       "      <td>Health Care</td>\n",
       "    </tr>\n",
       "    <tr>\n",
       "      <th>503</th>\n",
       "      <td>ZION</td>\n",
       "      <td>Zions Bancorp</td>\n",
       "      <td>Financials</td>\n",
       "    </tr>\n",
       "    <tr>\n",
       "      <th>504</th>\n",
       "      <td>ZTS</td>\n",
       "      <td>Zoetis</td>\n",
       "      <td>Health Care</td>\n",
       "    </tr>\n",
       "  </tbody>\n",
       "</table>\n",
       "<p>505 rows × 3 columns</p>\n",
       "</div>"
      ],
      "text/plain": [
       "    Symbol                                Name                      Sector\n",
       "14       A            Agilent Technologies Inc                 Health Care\n",
       "32     AAL             American Airlines Group                 Industrials\n",
       "8      AAP                  Advance Auto Parts      Consumer Discretionary\n",
       "51    AAPL                          Apple Inc.      Information Technology\n",
       "3     ABBV                         AbbVie Inc.                 Health Care\n",
       "39     ABC              AmerisourceBergen Corp                 Health Care\n",
       "2      ABT                 Abbott Laboratories                 Health Care\n",
       "4      ACN                       Accenture plc      Information Technology\n",
       "7     ADBE                   Adobe Systems Inc      Information Technology\n",
       "44     ADI                Analog Devices, Inc.      Information Technology\n",
       "54     ADM           Archer-Daniels-Midland Co            Consumer Staples\n",
       "60     ADP           Automatic Data Processing      Information Technology\n",
       "24     ADS               Alliance Data Systems      Information Technology\n",
       "59    ADSK                       Autodesk Inc.      Information Technology\n",
       "31     AEE                         Ameren Corp                   Utilities\n",
       "33     AEP             American Electric Power                   Utilities\n",
       "10     AES                            AES Corp                   Utilities\n",
       "11     AET                           Aetna Inc                 Health Care\n",
       "13     AFL                           AFLAC Inc                  Financials\n",
       "23     AGN                       Allergan, Plc                 Health Care\n",
       "35     AIG  American International Group, Inc.                  Financials\n",
       "50     AIV   Apartment Investment & Management                 Real Estate\n",
       "57     AIZ                       Assurant Inc.                  Financials\n",
       "56     AJG           Arthur J. Gallagher & Co.                  Financials\n",
       "16    AKAM             Akamai Technologies Inc      Information Technology\n",
       "18     ALB                      Albemarle Corp                   Materials\n",
       "21    ALGN                    Align Technology                 Health Care\n",
       "17     ALK                Alaska Air Group Inc                 Industrials\n",
       "26     ALL                       Allstate Corp                  Financials\n",
       "22    ALLE                            Allegion                 Industrials\n",
       "..     ...                                 ...                         ...\n",
       "471    VTR                          Ventas Inc                 Real Estate\n",
       "474     VZ              Verizon Communications  Telecommunication Services\n",
       "483    WAT                  Waters Corporation                 Health Care\n",
       "481    WBA            Walgreens Boots Alliance            Consumer Staples\n",
       "487    WDC                     Western Digital      Information Technology\n",
       "484    WEC                Wec Energy Group Inc                   Utilities\n",
       "486   WELL                      Welltower Inc.                 Real Estate\n",
       "485    WFC                         Wells Fargo                  Financials\n",
       "491    WHR                     Whirlpool Corp.      Consumer Discretionary\n",
       "493   WLTW                Willis Towers Watson                  Financials\n",
       "482     WM               Waste Management Inc.                 Industrials\n",
       "492    WMB                       Williams Cos.                      Energy\n",
       "480    WMT                     Wal-Mart Stores            Consumer Staples\n",
       "489    WRK                    WestRock Company                   Materials\n",
       "488     WU                    Western Union Co      Information Technology\n",
       "490     WY                  Weyerhaeuser Corp.                 Real Estate\n",
       "494    WYN                   Wyndham Worldwide      Consumer Discretionary\n",
       "495   WYNN                    Wynn Resorts Ltd      Consumer Discretionary\n",
       "110    XEC                      Cimarex Energy                      Energy\n",
       "496    XEL                     Xcel Energy Inc                   Utilities\n",
       "499     XL                          XL Capital                  Financials\n",
       "498   XLNX                          Xilinx Inc      Information Technology\n",
       "185    XOM                   Exxon Mobil Corp.                      Energy\n",
       "143   XRAY                     Dentsply Sirona                 Health Care\n",
       "497    XRX                         Xerox Corp.      Information Technology\n",
       "500    XYL                          Xylem Inc.                 Industrials\n",
       "501    YUM                     Yum! Brands Inc      Consumer Discretionary\n",
       "502    ZBH              Zimmer Biomet Holdings                 Health Care\n",
       "503   ZION                       Zions Bancorp                  Financials\n",
       "504    ZTS                              Zoetis                 Health Care\n",
       "\n",
       "[505 rows x 3 columns]"
      ]
     },
     "execution_count": 52,
     "metadata": {},
     "output_type": "execute_result"
    }
   ],
   "source": [
    "sp500_companies"
   ]
  },
  {
   "cell_type": "code",
   "execution_count": 47,
   "metadata": {
    "scrolled": true
   },
   "outputs": [
    {
     "name": "stdout",
     "output_type": "stream",
     "text": [
      "MMM\n",
      "AOS\n",
      "ABT\n",
      "ABBV\n",
      "ACN\n",
      "ATVI\n",
      "AYI\n",
      "ADBE\n",
      "AAP\n",
      "AMD\n",
      "AES\n",
      "AET\n",
      "AMG\n",
      "AFL\n",
      "A\n",
      "APD\n",
      "AKAM\n",
      "ALK\n",
      "ALB\n",
      "ARE\n",
      "ALXN\n",
      "ALGN\n",
      "ALLE\n",
      "AGN\n",
      "ADS\n",
      "LNT\n",
      "ALL\n",
      "GOOGL\n",
      "GOOG\n",
      "MO\n",
      "AMZN\n",
      "AEE\n",
      "AAL\n",
      "AEP\n",
      "AXP\n",
      "AIG\n",
      "AMT\n",
      "AWK\n",
      "AMP\n",
      "ABC\n",
      "AME\n",
      "AMGN\n",
      "APH\n",
      "APC\n",
      "ADI\n",
      "ANDV\n",
      "ANSS\n",
      "ANTM\n",
      "AON\n",
      "APA\n",
      "AIV\n",
      "AAPL\n",
      "AMAT\n",
      "APTV\n",
      "ADM\n",
      "ARNC\n",
      "AJG\n",
      "AIZ\n",
      "T\n",
      "ADSK\n",
      "ADP\n",
      "AZO\n",
      "AVB\n",
      "AVY\n",
      "BHGE\n",
      "BLL\n",
      "BAC\n",
      "BAX\n",
      "BBT\n",
      "BDX\n",
      "BRK_B\n",
      "BBY\n",
      "BIIB\n",
      "BLK\n",
      "HRB\n",
      "BA\n",
      "BKNG\n",
      "BWA\n",
      "BXP\n",
      "BSX\n",
      "BHF\n",
      "BMY\n",
      "AVGO\n",
      "BF_B\n",
      "CHRW\n",
      "CA\n",
      "COG\n",
      "CDNS\n",
      "CPB\n",
      "COF\n",
      "CAH\n",
      "KMX\n",
      "CCL\n",
      "CAT\n",
      "CBOE\n",
      "CBRE\n",
      "CBS\n",
      "CELG\n",
      "CNC\n",
      "CNP\n",
      "CTL\n",
      "CERN\n",
      "CF\n",
      "SCHW\n",
      "CHTR\n",
      "CVX\n",
      "CMG\n",
      "CB\n",
      "CHD\n",
      "CI\n",
      "XEC\n",
      "CINF\n",
      "CTAS\n",
      "CSCO\n",
      "C\n",
      "CFG\n",
      "CTXS\n",
      "CME\n",
      "CMS\n",
      "KO\n",
      "CTSH\n",
      "CL\n",
      "CMCSA\n",
      "CMA\n",
      "CAG\n",
      "CXO\n",
      "COP\n",
      "ED\n",
      "STZ\n",
      "GLW\n",
      "COST\n",
      "COTY\n",
      "CCI\n",
      "CSRA\n",
      "CSX\n",
      "CMI\n",
      "CVS\n",
      "DHI\n",
      "DHR\n",
      "DRI\n",
      "DVA\n",
      "DE\n",
      "DAL\n",
      "XRAY\n",
      "DVN\n",
      "DLR\n",
      "DFS\n",
      "DISCA\n",
      "DISCK\n",
      "DISH\n",
      "DG\n",
      "DLTR\n",
      "D\n",
      "DOV\n",
      "DWDP\n",
      "DPS\n",
      "DTE\n",
      "DUK\n",
      "DRE\n",
      "DXC\n",
      "ETFC\n",
      "EMN\n",
      "ETN\n",
      "EBAY\n",
      "ECL\n",
      "EIX\n",
      "EW\n",
      "EA\n",
      "EMR\n",
      "ETR\n",
      "EVHC\n",
      "EOG\n",
      "EQT\n",
      "EFX\n",
      "EQIX\n",
      "EQR\n",
      "ESS\n",
      "EL\n",
      "RE\n",
      "ES\n",
      "EXC\n",
      "EXPE\n",
      "EXPD\n",
      "ESRX\n",
      "EXR\n",
      "XOM\n",
      "FFIV\n",
      "FB\n",
      "FAST\n",
      "FRT\n",
      "FDX\n",
      "FIS\n",
      "FITB\n",
      "FE\n",
      "FISV\n",
      "FLIR\n",
      "FLS\n",
      "FLR\n",
      "FMC\n",
      "FL\n",
      "F\n",
      "FTV\n",
      "FBHS\n",
      "BEN\n",
      "FCX\n",
      "GPS\n",
      "GRMN\n",
      "IT\n",
      "GD\n",
      "GE\n",
      "GGP\n",
      "GIS\n",
      "GM\n",
      "GPC\n",
      "GILD\n",
      "GPN\n",
      "GS\n",
      "GT\n",
      "GWW\n",
      "HAL\n",
      "HBI\n",
      "HOG\n",
      "HRS\n",
      "HIG\n",
      "HAS\n",
      "HCA\n",
      "HCP\n",
      "HP\n",
      "HSIC\n",
      "HES\n",
      "HPE\n",
      "HLT\n",
      "HOLX\n",
      "HD\n",
      "HON\n",
      "HRL\n",
      "HST\n",
      "HPQ\n",
      "HUM\n",
      "HBAN\n",
      "HII\n",
      "IDXX\n",
      "INFO\n",
      "ITW\n",
      "ILMN\n",
      "INCY\n",
      "IR\n",
      "INTC\n",
      "ICE\n",
      "IBM\n",
      "IP\n",
      "IPG\n",
      "IFF\n",
      "INTU\n",
      "ISRG\n",
      "IVZ\n",
      "IPGP\n",
      "IQV\n",
      "IRM\n",
      "JBHT\n",
      "JEC\n",
      "SJM\n",
      "JNJ\n",
      "JCI\n",
      "JPM\n",
      "JNPR\n",
      "KSU\n",
      "K\n",
      "KEY\n",
      "KMB\n",
      "KIM\n",
      "KMI\n",
      "KLAC\n",
      "KSS\n",
      "KHC\n",
      "KR\n",
      "LB\n",
      "LLL\n",
      "LH\n",
      "LRCX\n",
      "LEG\n",
      "LEN\n",
      "LUK\n",
      "LLY\n",
      "LNC\n",
      "LKQ\n",
      "LMT\n",
      "L\n",
      "LOW\n",
      "LYB\n",
      "MTB\n",
      "MAC\n",
      "M\n",
      "MRO\n",
      "MPC\n",
      "MAR\n",
      "MMC\n",
      "MLM\n",
      "MAS\n",
      "MA\n",
      "MAT\n",
      "MKC\n",
      "MCD\n",
      "MCK\n",
      "MDT\n",
      "MRK\n",
      "MET\n",
      "MTD\n",
      "MGM\n",
      "KORS\n",
      "MCHP\n",
      "MU\n",
      "MSFT\n",
      "MAA\n",
      "MHK\n",
      "TAP\n",
      "MDLZ\n",
      "MON\n",
      "MNST\n",
      "MCO\n",
      "MS\n",
      "MSI\n",
      "MYL\n",
      "NDAQ\n",
      "NOV\n",
      "NAVI\n",
      "NKTR\n",
      "NTAP\n",
      "NFLX\n",
      "NWL\n",
      "NFX\n",
      "NEM\n",
      "NWSA\n",
      "NWS\n",
      "NEE\n",
      "NLSN\n",
      "NKE\n",
      "NI\n",
      "NBL\n",
      "JWN\n",
      "NSC\n",
      "NTRS\n",
      "NOC\n",
      "NCLH\n",
      "NRG\n",
      "NUE\n",
      "NVDA\n",
      "ORLY\n",
      "OXY\n",
      "OMC\n",
      "OKE\n",
      "ORCL\n",
      "PCAR\n",
      "PKG\n",
      "PH\n",
      "PAYX\n",
      "PYPL\n",
      "PNR\n",
      "PBCT\n",
      "PEP\n",
      "PKI\n",
      "PRGO\n",
      "PFE\n",
      "PCG\n",
      "PM\n",
      "PSX\n",
      "PNW\n",
      "PXD\n",
      "PNC\n",
      "RL\n",
      "PPG\n",
      "PPL\n",
      "PX\n",
      "PFG\n",
      "PG\n",
      "PGR\n",
      "PLD\n",
      "PRU\n",
      "PEG\n",
      "PSA\n",
      "PHM\n",
      "PVH\n",
      "QRVO\n",
      "QCOM\n",
      "PWR\n",
      "DGX\n",
      "RRC\n",
      "RJF\n",
      "RTN\n",
      "O\n",
      "RHT\n",
      "REG\n",
      "REGN\n",
      "RF\n",
      "RSG\n",
      "RMD\n",
      "RHI\n",
      "ROK\n",
      "COL\n",
      "ROP\n",
      "ROST\n",
      "RCL\n",
      "SPGI\n",
      "CRM\n",
      "SBAC\n",
      "SCG\n",
      "SLB\n",
      "STX\n",
      "SEE\n",
      "SRE\n",
      "SHW\n",
      "SPG\n",
      "SWKS\n",
      "SLG\n",
      "SNA\n",
      "SO\n",
      "LUV\n",
      "SWK\n",
      "SBUX\n",
      "STT\n",
      "SRCL\n",
      "SYK\n",
      "STI\n",
      "SIVB\n",
      "SYMC\n",
      "SYF\n",
      "SNPS\n",
      "SYY\n",
      "TROW\n",
      "TTWO\n",
      "TPR\n",
      "TGT\n",
      "TEL\n",
      "FTI\n",
      "TXN\n",
      "TXT\n",
      "BK\n",
      "CLX\n",
      "COO\n",
      "HSY\n",
      "MOS\n",
      "TRV\n",
      "DIS\n",
      "TMO\n",
      "TIF\n",
      "TWX\n",
      "TJX\n",
      "TMK\n",
      "TSS\n",
      "TSCO\n",
      "TDG\n",
      "TRIP\n",
      "FOXA\n",
      "FOX\n",
      "TSN\n",
      "USB\n",
      "UDR\n",
      "ULTA\n",
      "UAA\n",
      "UA\n",
      "UNP\n",
      "UAL\n",
      "UNH\n",
      "UPS\n",
      "URI\n",
      "UTX\n",
      "UHS\n",
      "UNM\n",
      "VFC\n",
      "VLO\n",
      "VAR\n",
      "VTR\n",
      "VRSN\n",
      "VRSK\n",
      "VZ\n",
      "VRTX\n",
      "VIAB\n",
      "V\n",
      "VNO\n",
      "VMC\n",
      "WMT\n",
      "WBA\n",
      "WM\n",
      "WAT\n",
      "WEC\n",
      "WFC\n",
      "WELL\n",
      "WDC\n",
      "WU\n",
      "WRK\n",
      "WY\n",
      "WHR\n",
      "WMB\n",
      "WLTW\n",
      "WYN\n",
      "WYNN\n",
      "XEL\n",
      "XRX\n",
      "XLNX\n",
      "XL\n",
      "XYL\n",
      "YUM\n",
      "ZBH\n",
      "ZION\n",
      "ZTS\n"
     ]
    }
   ],
   "source": [
    "new_dfs = {}\n",
    "for s in sp500_companies['Symbol']:\n",
    "    print(s)\n",
    "    new_dfs[s] = calc_pct_change(dfs[s], past_days=5)"
   ]
  },
  {
   "cell_type": "code",
   "execution_count": 88,
   "metadata": {},
   "outputs": [],
   "source": [
    "new_dfs['SPY'] = calc_pct_change(dfs['SPY'], past_days=5)\n",
    "new_dfs['UVXY'] = calc_pct_change(dfs['UVXY'], past_days=5)\n",
    "new_dfs['UPRO'] = calc_pct_change(dfs['UPRO'], past_days=5)"
   ]
  },
  {
   "cell_type": "markdown",
   "metadata": {},
   "source": [
    "# Calculate correlation with S&P500"
   ]
  },
  {
   "cell_type": "code",
   "execution_count": 54,
   "metadata": {},
   "outputs": [],
   "source": [
    "from scipy.stats import pearsonr"
   ]
  },
  {
   "cell_type": "code",
   "execution_count": 73,
   "metadata": {},
   "outputs": [],
   "source": [
    "correlations = []\n",
    "stocks = []\n",
    "col = 'Adj_Close_pct_change_5_days'\n",
    "past_days = 5\n",
    "spy_len = new_dfs['SPY'].shape[0]\n",
    "for s in sorted(new_dfs.keys()):\n",
    "    stocks.append(s)\n",
    "    max_length = min(new_dfs[s].shape[0], spy_len) - past_days\n",
    "    correlations.append(pearsonr(new_dfs['SPY'][col].values[-max_length:], new_dfs[s][col].values[-max_length:]))"
   ]
  },
  {
   "cell_type": "code",
   "execution_count": 74,
   "metadata": {},
   "outputs": [
    {
     "data": {
      "text/plain": [
       "array([ 0.00370271,  0.01491247,  0.00642172, ..., -0.00197216,\n",
       "       -0.00224763, -0.01637056])"
      ]
     },
     "execution_count": 74,
     "metadata": {},
     "output_type": "execute_result"
    }
   ],
   "source": [
    "new_dfs['SPY'][col].values[-max_length:]"
   ]
  },
  {
   "cell_type": "code",
   "execution_count": 75,
   "metadata": {},
   "outputs": [
    {
     "data": {
      "text/plain": [
       "array([ 0.06578523,  0.07221148,  0.08698454, ...,  0.01767   ,\n",
       "        0.00756824, -0.01027111])"
      ]
     },
     "execution_count": 75,
     "metadata": {},
     "output_type": "execute_result"
    }
   ],
   "source": [
    "new_dfs[s][col].values[-max_length:]"
   ]
  },
  {
   "cell_type": "code",
   "execution_count": 76,
   "metadata": {},
   "outputs": [
    {
     "data": {
      "text/plain": [
       "[<matplotlib.lines.Line2D at 0x7f0cd8adecf8>]"
      ]
     },
     "execution_count": 76,
     "metadata": {},
     "output_type": "execute_result"
    },
    {
     "data": {
      "image/png": "[encoded data removed]",
      "text/plain": [
       "<Figure size 432x288 with 1 Axes>"
      ]
     },
     "metadata": {},
     "output_type": "display_data"
    }
   ],
   "source": [
    "plt.plot([c[0] for c in correlations])"
   ]
  },
  {
   "cell_type": "code",
   "execution_count": 77,
   "metadata": {},
   "outputs": [
    {
     "data": {
      "text/plain": [
       "(0.5561894467696833, 0.0)"
      ]
     },
     "execution_count": 77,
     "metadata": {},
     "output_type": "execute_result"
    }
   ],
   "source": [
    "correlations[0]"
   ]
  },
  {
   "cell_type": "code",
   "execution_count": 78,
   "metadata": {},
   "outputs": [
    {
     "data": {
      "image/png": "[encoded data removed]",
      "text/plain": [
       "<Figure size 432x288 with 1 Axes>"
      ]
     },
     "metadata": {},
     "output_type": "display_data"
    }
   ],
   "source": [
    "_ = plt.hist([c[0] for c in correlations], bins=50)"
   ]
  },
  {
   "cell_type": "code",
   "execution_count": 80,
   "metadata": {},
   "outputs": [
    {
     "data": {
      "text/plain": [
       "array(['ALXN', 'CHD', 'COO', 'COTY', 'DVA', 'EVHC', 'LH', 'MNST', 'NEM',\n",
       "       'PCG', 'PRGO', 'REGN', 'SO', 'SRCL', 'XEL'], dtype='<U5')"
      ]
     },
     "execution_count": 80,
     "metadata": {},
     "output_type": "execute_result"
    }
   ],
   "source": [
    "np.array(stocks)[np.where(np.array([c[0] for c in correlations]) < 0.3)]"
   ]
  },
  {
   "cell_type": "code",
   "execution_count": 84,
   "metadata": {},
   "outputs": [
    {
     "name": "stdout",
     "output_type": "stream",
     "text": [
      "6335\n"
     ]
    },
    {
     "data": {
      "image/png": "[encoded data removed]",
      "text/plain": [
       "<Figure size 432x288 with 1 Axes>"
      ]
     },
     "metadata": {},
     "output_type": "display_data"
    }
   ],
   "source": [
    "s = 'NEM'\n",
    "max_length = min(new_dfs[s].shape[0], spy_len) - past_days\n",
    "print(max_length)\n",
    "_ = plt.scatter(new_dfs['SPY'][col].values[-max_length:], new_dfs[s][col].values[-max_length:])"
   ]
  },
  {
   "cell_type": "code",
   "execution_count": 85,
   "metadata": {},
   "outputs": [
    {
     "name": "stdout",
     "output_type": "stream",
     "text": [
      "5557\n"
     ]
    },
    {
     "data": {
      "image/png": "[encoded data removed]",
      "text/plain": [
       "<Figure size 432x288 with 1 Axes>"
      ]
     },
     "metadata": {},
     "output_type": "display_data"
    }
   ],
   "source": [
    "s = 'ALXN'\n",
    "max_length = min(new_dfs[s].shape[0], spy_len) - past_days\n",
    "print(max_length)\n",
    "_ = plt.scatter(new_dfs['SPY'][col].values[-max_length:], new_dfs[s][col].values[-max_length:])"
   ]
  },
  {
   "cell_type": "code",
   "execution_count": 92,
   "metadata": {},
   "outputs": [
    {
     "name": "stdout",
     "output_type": "stream",
     "text": [
      "1629\n",
      "(-0.8038168687452735, 0.0)\n"
     ]
    },
    {
     "data": {
      "image/png": "[encoded data removed]",
      "text/plain": [
       "<Figure size 432x288 with 1 Axes>"
      ]
     },
     "metadata": {},
     "output_type": "display_data"
    }
   ],
   "source": [
    "s = 'UVXY'\n",
    "max_length = min(new_dfs[s].shape[0], spy_len) - past_days\n",
    "print(max_length)\n",
    "print(pearsonr(new_dfs['SPY'][col].values[-max_length:], new_dfs[s][col].values[-max_length:]))\n",
    "_ = plt.scatter(new_dfs['SPY'][col].values[-max_length:], new_dfs[s][col].values[-max_length:])"
   ]
  },
  {
   "cell_type": "code",
   "execution_count": 93,
   "metadata": {},
   "outputs": [
    {
     "data": {
      "text/plain": [
       "(0.1361854691847625, 3.596840438769752e-08)"
      ]
     },
     "execution_count": 93,
     "metadata": {},
     "output_type": "execute_result"
    }
   ],
   "source": [
    "pearsonr(new_dfs['SPY'][col].values[-max_length:][5:], new_dfs[s][col].values[-max_length:][:-5])"
   ]
  },
  {
   "cell_type": "code",
   "execution_count": 95,
   "metadata": {},
   "outputs": [
    {
     "data": {
      "text/plain": [
       "<matplotlib.collections.PathCollection at 0x7f0cd84b8e48>"
      ]
     },
     "execution_count": 95,
     "metadata": {},
     "output_type": "execute_result"
    },
    {
     "data": {
      "image/png": "[encoded data removed]",
      "text/plain": [
       "<Figure size 432x288 with 1 Axes>"
      ]
     },
     "metadata": {},
     "output_type": "display_data"
    }
   ],
   "source": [
    "plt.scatter(new_dfs[s][col].values[-max_length:][:-5], new_dfs['SPY'][col].values[-max_length:][5:])"
   ]
  },
  {
   "cell_type": "code",
   "execution_count": 100,
   "metadata": {},
   "outputs": [
    {
     "name": "stdout",
     "output_type": "stream",
     "text": [
      "(-0.004339584985055758, 0.8619154011940364)\n",
      "(0.010049686853984763, 0.6866247663180565)\n",
      "(0.035621976516740796, 0.15195446550864936)\n",
      "(0.1361854691847625, 3.596840438769752e-08)\n",
      "(-0.05436834785922255, 0.028408929199119366)\n",
      "(-0.24672232157261673, 5.6612098347295944e-24)\n",
      "(-0.4097520932003277, 6.707958986196255e-67)\n",
      "(-0.6113831904804895, 1.750845304682726e-167)\n",
      "(-0.8038168687452735, 0.0)\n"
     ]
    }
   ],
   "source": [
    "for i in [20, 15, 10, 5, 4, 3, 2, 1]:\n",
    "    print(pearsonr(new_dfs['SPY'][col].values[-max_length:][i:], new_dfs[s][col].values[-max_length:][:-i]))\n",
    "\n",
    "print(pearsonr(new_dfs['SPY'][col].values[-max_length:], new_dfs[s][col].values[-max_length:]))"
   ]
  },
  {
   "cell_type": "code",
   "execution_count": null,
   "metadata": {},
   "outputs": [],
   "source": [
    "dfs['VIXY']"
   ]
  },
  {
   "cell_type": "code",
   "execution_count": 90,
   "metadata": {},
   "outputs": [
    {
     "name": "stdout",
     "output_type": "stream",
     "text": [
      "2203\n",
      "(0.998600216159031, 0.0)\n"
     ]
    },
    {
     "data": {
      "image/png": "[encoded data removed]",
      "text/plain": [
       "<Figure size 432x288 with 1 Axes>"
      ]
     },
     "metadata": {},
     "output_type": "display_data"
    }
   ],
   "source": [
    "s = 'UPRO'\n",
    "max_length = min(new_dfs[s].shape[0], spy_len) - past_days\n",
    "print(max_length)\n",
    "print(pearsonr(new_dfs['SPY'][col].values[-max_length:], new_dfs[s][col].values[-max_length:]))\n",
    "_ = plt.scatter(new_dfs['SPY'][col].values[-max_length:], new_dfs[s][col].values[-max_length:])"
   ]
  },
  {
   "cell_type": "code",
   "execution_count": null,
   "metadata": {},
   "outputs": [],
   "source": []
  }
 ],
 "metadata": {
  "kernelspec": {
   "display_name": "Python 3",
   "language": "python",
   "name": "python3"
  },
  "language_info": {
   "codemirror_mode": {
    "name": "ipython",
    "version": 3
   },
   "file_extension": ".py",
   "mimetype": "text/x-python",
   "name": "python",
   "nbconvert_exporter": "python",
   "pygments_lexer": "ipython3",
   "version": "3.6.5"
  }
 },
 "nbformat": 4,
 "nbformat_minor": 2
}
