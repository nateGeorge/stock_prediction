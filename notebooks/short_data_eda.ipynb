{
 "cells": [
  {
   "cell_type": "code",
   "execution_count": 1,
   "metadata": {},
   "outputs": [
    {
     "name": "stderr",
     "output_type": "stream",
     "text": [
      "/usr/local/lib/python3.5/dist-packages/odo/backends/pandas.py:94: FutureWarning: pandas.tslib is deprecated and will be removed in a future version.\n",
      "You can access NaTType as type(pandas.NaT)\n",
      "  @convert.register((pd.Timestamp, pd.Timedelta), (pd.tslib.NaTType, type(None)))\n"
     ]
    }
   ],
   "source": [
    "# core\n",
    "import sys\n",
    "\n",
    "# custom\n",
    "sys.path.append('../code')\n",
    "import data_processing as dp\n",
    "import short_squeeze_eda as sse\n",
    "\n",
    "# installed\n",
    "import numpy as np\n",
    "\n",
    "# plotting\n",
    "import matplotlib.pyplot as plt\n",
    "%matplotlib inline"
   ]
  },
  {
   "cell_type": "code",
   "execution_count": 2,
   "metadata": {
    "scrolled": true
   },
   "outputs": [],
   "source": [
    "ss_sh = sse.get_short_interest_data(verbose=True)"
   ]
  },
  {
   "cell_type": "code",
   "execution_count": 3,
   "metadata": {},
   "outputs": [
    {
     "data": {
      "text/html": [
       "<div>\n",
       "<style scoped>\n",
       "    .dataframe tbody tr th:only-of-type {\n",
       "        vertical-align: middle;\n",
       "    }\n",
       "\n",
       "    .dataframe tbody tr th {\n",
       "        vertical-align: top;\n",
       "    }\n",
       "\n",
       "    .dataframe thead th {\n",
       "        text-align: right;\n",
       "    }\n",
       "</style>\n",
       "<table border=\"1\" class=\"dataframe\">\n",
       "  <thead>\n",
       "    <tr style=\"text-align: right;\">\n",
       "      <th></th>\n",
       "      <th>Symbol</th>\n",
       "      <th>Date</th>\n",
       "      <th>Total Short Interest</th>\n",
       "      <th>Days to Cover</th>\n",
       "      <th>Short % of Float</th>\n",
       "      <th>% Insider Ownership</th>\n",
       "      <th>% Institutional Ownership</th>\n",
       "      <th>Shares: Float</th>\n",
       "      <th>Short Squeeze Ranking</th>\n",
       "    </tr>\n",
       "  </thead>\n",
       "  <tbody>\n",
       "    <tr>\n",
       "      <th>0</th>\n",
       "      <td>A</td>\n",
       "      <td>2017-03-09</td>\n",
       "      <td>5321400.0</td>\n",
       "      <td>3.1</td>\n",
       "      <td>1.66</td>\n",
       "      <td>0.39</td>\n",
       "      <td>85.2</td>\n",
       "      <td>321523400.0</td>\n",
       "      <td>NaN</td>\n",
       "    </tr>\n",
       "    <tr>\n",
       "      <th>1</th>\n",
       "      <td>AA</td>\n",
       "      <td>2017-03-09</td>\n",
       "      <td>4901100.0</td>\n",
       "      <td>1.0</td>\n",
       "      <td>2.68</td>\n",
       "      <td>NaN</td>\n",
       "      <td>NaN</td>\n",
       "      <td>182788300.0</td>\n",
       "      <td>-0.09</td>\n",
       "    </tr>\n",
       "    <tr>\n",
       "      <th>2</th>\n",
       "      <td>AAALF</td>\n",
       "      <td>2017-03-09</td>\n",
       "      <td>17700.0</td>\n",
       "      <td>NaN</td>\n",
       "      <td>NaN</td>\n",
       "      <td>NaN</td>\n",
       "      <td>NaN</td>\n",
       "      <td>NaN</td>\n",
       "      <td>NaN</td>\n",
       "    </tr>\n",
       "    <tr>\n",
       "      <th>3</th>\n",
       "      <td>AAAP</td>\n",
       "      <td>2017-03-09</td>\n",
       "      <td>528500.0</td>\n",
       "      <td>2.8</td>\n",
       "      <td>2.67</td>\n",
       "      <td>NaN</td>\n",
       "      <td>NaN</td>\n",
       "      <td>19816200.0</td>\n",
       "      <td>NaN</td>\n",
       "    </tr>\n",
       "    <tr>\n",
       "      <th>4</th>\n",
       "      <td>AAC</td>\n",
       "      <td>2017-03-09</td>\n",
       "      <td>3012600.0</td>\n",
       "      <td>20.9</td>\n",
       "      <td>34.10</td>\n",
       "      <td>NaN</td>\n",
       "      <td>NaN</td>\n",
       "      <td>8834000.0</td>\n",
       "      <td>NaN</td>\n",
       "    </tr>\n",
       "  </tbody>\n",
       "</table>\n",
       "</div>"
      ],
      "text/plain": [
       "  Symbol       Date  Total Short Interest  Days to Cover  Short % of Float  \\\n",
       "0      A 2017-03-09             5321400.0            3.1              1.66   \n",
       "1     AA 2017-03-09             4901100.0            1.0              2.68   \n",
       "2  AAALF 2017-03-09               17700.0            NaN               NaN   \n",
       "3   AAAP 2017-03-09              528500.0            2.8              2.67   \n",
       "4    AAC 2017-03-09             3012600.0           20.9             34.10   \n",
       "\n",
       "   % Insider Ownership  % Institutional Ownership  Shares: Float  \\\n",
       "0                 0.39                       85.2    321523400.0   \n",
       "1                  NaN                        NaN    182788300.0   \n",
       "2                  NaN                        NaN            NaN   \n",
       "3                  NaN                        NaN     19816200.0   \n",
       "4                  NaN                        NaN      8834000.0   \n",
       "\n",
       "   Short Squeeze Ranking  \n",
       "0                    NaN  \n",
       "1                  -0.09  \n",
       "2                    NaN  \n",
       "3                    NaN  \n",
       "4                    NaN  "
      ]
     },
     "execution_count": 3,
     "metadata": {},
     "output_type": "execute_result"
    }
   ],
   "source": [
    "ss_sh.head()"
   ]
  },
  {
   "cell_type": "code",
   "execution_count": 4,
   "metadata": {},
   "outputs": [
    {
     "data": {
      "text/plain": [
       "Timestamp('2017-12-20 00:00:00')"
      ]
     },
     "execution_count": 4,
     "metadata": {},
     "output_type": "execute_result"
    }
   ],
   "source": [
    "ss_sh['Date'].max()"
   ]
  }
 ],
 "metadata": {
  "kernelspec": {
   "display_name": "Python 3",
   "language": "python",
   "name": "python3"
  },
  "language_info": {
   "codemirror_mode": {
    "name": "ipython",
    "version": 3
   },
   "file_extension": ".py",
   "mimetype": "text/x-python",
   "name": "python",
   "nbconvert_exporter": "python",
   "pygments_lexer": "ipython3",
   "version": "3.5.2"
  }
 },
 "nbformat": 4,
 "nbformat_minor": 2
}
