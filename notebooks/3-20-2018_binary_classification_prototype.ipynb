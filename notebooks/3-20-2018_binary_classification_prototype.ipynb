{
 "cells": [
  {
   "cell_type": "markdown",
   "metadata": {},
   "source": [
    "# The idea is to bin weekly % gains into >=5% (1) or <5% (0), then predict the outcome with binary classification.  This gives percent confidence in a prediction as well.\n",
    "Uses code from prototype_large_feature_target_creation_3-2018.ipynb"
   ]
  },
  {
   "cell_type": "code",
   "execution_count": 1,
   "metadata": {},
   "outputs": [],
   "source": [
    "# for auto-reloading external modules\n",
    "# see http://stackoverflow.com/questions/1907993/autoreload-of-modules-in-ipython\n",
    "%load_ext autoreload\n",
    "%autoreload 2"
   ]
  },
  {
   "cell_type": "code",
   "execution_count": 2,
   "metadata": {},
   "outputs": [
    {
     "name": "stderr",
     "output_type": "stream",
     "text": [
      "/usr/local/lib/python3.6/dist-packages/h5py/__init__.py:36: FutureWarning: Conversion of the second argument of issubdtype from `float` to `np.floating` is deprecated. In future, it will be treated as `np.float64 == np.dtype(float).type`.\n",
      "  from ._conv import register_converters as _register_converters\n",
      "/usr/local/lib/python3.6/dist-packages/odo/backends/pandas.py:94: FutureWarning: pandas.tslib is deprecated and will be removed in a future version.\n",
      "You can access NaTType as type(pandas.NaT)\n",
      "  @convert.register((pd.Timestamp, pd.Timedelta), (pd.tslib.NaTType, type(None)))\n"
     ]
    }
   ],
   "source": [
    "import pandas as pd\n",
    "import numpy as np\n",
    "\n",
    "import sys\n",
    "sys.path.append('../code')\n",
    "import data_processing as dp\n",
    "\n",
    "from concurrent.futures import ProcessPoolExecutor"
   ]
  },
  {
   "cell_type": "code",
   "execution_count": 3,
   "metadata": {},
   "outputs": [],
   "source": [
    "sorted_old = pd.read_csv('old_good_sorted_by_ewm.csv')"
   ]
  },
  {
   "cell_type": "code",
   "execution_count": 4,
   "metadata": {},
   "outputs": [
    {
     "data": {
      "text/html": [
       "<div>\n",
       "<style scoped>\n",
       "    .dataframe tbody tr th:only-of-type {\n",
       "        vertical-align: middle;\n",
       "    }\n",
       "\n",
       "    .dataframe tbody tr th {\n",
       "        vertical-align: top;\n",
       "    }\n",
       "\n",
       "    .dataframe thead th {\n",
       "        text-align: right;\n",
       "    }\n",
       "</style>\n",
       "<table border=\"1\" class=\"dataframe\">\n",
       "  <thead>\n",
       "    <tr style=\"text-align: right;\">\n",
       "      <th></th>\n",
       "      <th>Unnamed: 0</th>\n",
       "      <th>ewm_vols</th>\n",
       "      <th>mean_vol</th>\n",
       "      <th>ticker</th>\n",
       "    </tr>\n",
       "  </thead>\n",
       "  <tbody>\n",
       "    <tr>\n",
       "      <th>0</th>\n",
       "      <td>4</td>\n",
       "      <td>0.019357</td>\n",
       "      <td>0.017844</td>\n",
       "      <td>GGP</td>\n",
       "    </tr>\n",
       "    <tr>\n",
       "      <th>1</th>\n",
       "      <td>0</td>\n",
       "      <td>0.018310</td>\n",
       "      <td>0.021799</td>\n",
       "      <td>LNG</td>\n",
       "    </tr>\n",
       "    <tr>\n",
       "      <th>2</th>\n",
       "      <td>11</td>\n",
       "      <td>0.017963</td>\n",
       "      <td>0.016503</td>\n",
       "      <td>AKS</td>\n",
       "    </tr>\n",
       "    <tr>\n",
       "      <th>3</th>\n",
       "      <td>10</td>\n",
       "      <td>0.016127</td>\n",
       "      <td>0.016546</td>\n",
       "      <td>CHK</td>\n",
       "    </tr>\n",
       "    <tr>\n",
       "      <th>4</th>\n",
       "      <td>15</td>\n",
       "      <td>0.016113</td>\n",
       "      <td>0.016187</td>\n",
       "      <td>AMD</td>\n",
       "    </tr>\n",
       "  </tbody>\n",
       "</table>\n",
       "</div>"
      ],
      "text/plain": [
       "   Unnamed: 0  ewm_vols  mean_vol ticker\n",
       "0           4  0.019357  0.017844    GGP\n",
       "1           0  0.018310  0.021799    LNG\n",
       "2          11  0.017963  0.016503    AKS\n",
       "3          10  0.016127  0.016546    CHK\n",
       "4          15  0.016113  0.016187    AMD"
      ]
     },
     "execution_count": 4,
     "metadata": {},
     "output_type": "execute_result"
    }
   ],
   "source": [
    "sorted_old.head()"
   ]
  },
  {
   "cell_type": "code",
   "execution_count": 5,
   "metadata": {},
   "outputs": [
    {
     "data": {
      "text/plain": [
       "(391, 4)"
      ]
     },
     "execution_count": 5,
     "metadata": {},
     "output_type": "execute_result"
    }
   ],
   "source": [
    "sorted_old.shape"
   ]
  },
  {
   "cell_type": "code",
   "execution_count": 6,
   "metadata": {},
   "outputs": [],
   "source": [
    "top_stocks = sorted_old.loc[:, 'ticker'].tolist() + ['SPY', 'UPRO', 'QQQ', 'TQQQ', 'DIA', 'UBT']"
   ]
  },
  {
   "cell_type": "code",
   "execution_count": 7,
   "metadata": {},
   "outputs": [
    {
     "name": "stdout",
     "output_type": "stream",
     "text": [
      "loading stocks...\n",
      "calculating TAs...\n"
     ]
    }
   ],
   "source": [
    "dfs, _, _ = dp.load_stocks(stocks=top_stocks,\n",
    "                           finra_shorts=False,\n",
    "                           short_interest=False,\n",
    "                           earliest_date=None,\n",
    "                           calc_scores=False)"
   ]
  },
  {
   "cell_type": "code",
   "execution_count": 8,
   "metadata": {},
   "outputs": [],
   "source": [
    "def get_latest_earliest_date(dfs, verbose=False):\n",
    "    earliest_dates = []\n",
    "    for s in dfs.keys():\n",
    "        earliest_date = dfs[s].index.min()\n",
    "        if verbose:\n",
    "            print(s, earliest_date)\n",
    "            \n",
    "        earliest_dates.append(earliest_date)\n",
    "    \n",
    "    return max(earliest_dates), earliest_dates"
   ]
  },
  {
   "cell_type": "code",
   "execution_count": 10,
   "metadata": {},
   "outputs": [],
   "source": [
    "_, earliest_dates = get_latest_earliest_date(dfs)"
   ]
  },
  {
   "cell_type": "code",
   "execution_count": 11,
   "metadata": {},
   "outputs": [
    {
     "data": {
      "text/plain": [
       "394"
      ]
     },
     "execution_count": 11,
     "metadata": {},
     "output_type": "execute_result"
    }
   ],
   "source": [
    "len(earliest_dates)"
   ]
  },
  {
   "cell_type": "code",
   "execution_count": 12,
   "metadata": {},
   "outputs": [
    {
     "data": {
      "text/plain": [
       "397"
      ]
     },
     "execution_count": 12,
     "metadata": {},
     "output_type": "execute_result"
    }
   ],
   "source": [
    "len(top_stocks)"
   ]
  },
  {
   "cell_type": "code",
   "execution_count": 13,
   "metadata": {},
   "outputs": [],
   "source": [
    "earliest_dates_df = pd.DataFrame({'earliest_date': earliest_dates, 'ticker': list(dfs.keys())})"
   ]
  },
  {
   "cell_type": "code",
   "execution_count": 14,
   "metadata": {},
   "outputs": [],
   "source": [
    "earliest_dates_df.sort_values(by='earliest_date', inplace=True)"
   ]
  },
  {
   "cell_type": "code",
   "execution_count": 15,
   "metadata": {},
   "outputs": [
    {
     "data": {
      "text/plain": [
       "Timestamp('1962-01-02 00:00:00')"
      ]
     },
     "execution_count": 15,
     "metadata": {},
     "output_type": "execute_result"
    }
   ],
   "source": [
    "earliest_dates_df.iloc[0]['earliest_date']"
   ]
  },
  {
   "cell_type": "code",
   "execution_count": 16,
   "metadata": {},
   "outputs": [
    {
     "data": {
      "text/html": [
       "<div>\n",
       "<style scoped>\n",
       "    .dataframe tbody tr th:only-of-type {\n",
       "        vertical-align: middle;\n",
       "    }\n",
       "\n",
       "    .dataframe tbody tr th {\n",
       "        vertical-align: top;\n",
       "    }\n",
       "\n",
       "    .dataframe thead th {\n",
       "        text-align: right;\n",
       "    }\n",
       "</style>\n",
       "<table border=\"1\" class=\"dataframe\">\n",
       "  <thead>\n",
       "    <tr style=\"text-align: right;\">\n",
       "      <th></th>\n",
       "      <th>earliest_date</th>\n",
       "      <th>ticker</th>\n",
       "    </tr>\n",
       "  </thead>\n",
       "  <tbody>\n",
       "    <tr>\n",
       "      <th>194</th>\n",
       "      <td>1962-01-02</td>\n",
       "      <td>BA</td>\n",
       "    </tr>\n",
       "    <tr>\n",
       "      <th>201</th>\n",
       "      <td>1962-01-02</td>\n",
       "      <td>CAT</td>\n",
       "    </tr>\n",
       "    <tr>\n",
       "      <th>323</th>\n",
       "      <td>1962-01-02</td>\n",
       "      <td>IBM</td>\n",
       "    </tr>\n",
       "    <tr>\n",
       "      <th>256</th>\n",
       "      <td>1962-01-02</td>\n",
       "      <td>GE</td>\n",
       "    </tr>\n",
       "    <tr>\n",
       "      <th>119</th>\n",
       "      <td>1962-01-02</td>\n",
       "      <td>HPQ</td>\n",
       "    </tr>\n",
       "  </tbody>\n",
       "</table>\n",
       "</div>"
      ],
      "text/plain": [
       "    earliest_date ticker\n",
       "194    1962-01-02     BA\n",
       "201    1962-01-02    CAT\n",
       "323    1962-01-02    IBM\n",
       "256    1962-01-02     GE\n",
       "119    1962-01-02    HPQ"
      ]
     },
     "execution_count": 16,
     "metadata": {},
     "output_type": "execute_result"
    }
   ],
   "source": [
    "earliest_dates_df.head()"
   ]
  },
  {
   "cell_type": "code",
   "execution_count": 17,
   "metadata": {
    "scrolled": true
   },
   "outputs": [
    {
     "data": {
      "text/html": [
       "<div>\n",
       "<style scoped>\n",
       "    .dataframe tbody tr th:only-of-type {\n",
       "        vertical-align: middle;\n",
       "    }\n",
       "\n",
       "    .dataframe tbody tr th {\n",
       "        vertical-align: top;\n",
       "    }\n",
       "\n",
       "    .dataframe thead th {\n",
       "        text-align: right;\n",
       "    }\n",
       "</style>\n",
       "<table border=\"1\" class=\"dataframe\">\n",
       "  <thead>\n",
       "    <tr style=\"text-align: right;\">\n",
       "      <th></th>\n",
       "      <th>earliest_date</th>\n",
       "      <th>ticker</th>\n",
       "    </tr>\n",
       "  </thead>\n",
       "  <tbody>\n",
       "    <tr>\n",
       "      <th>194</th>\n",
       "      <td>1962-01-02</td>\n",
       "      <td>BA</td>\n",
       "    </tr>\n",
       "    <tr>\n",
       "      <th>201</th>\n",
       "      <td>1962-01-02</td>\n",
       "      <td>CAT</td>\n",
       "    </tr>\n",
       "    <tr>\n",
       "      <th>323</th>\n",
       "      <td>1962-01-02</td>\n",
       "      <td>IBM</td>\n",
       "    </tr>\n",
       "    <tr>\n",
       "      <th>256</th>\n",
       "      <td>1962-01-02</td>\n",
       "      <td>GE</td>\n",
       "    </tr>\n",
       "    <tr>\n",
       "      <th>119</th>\n",
       "      <td>1962-01-02</td>\n",
       "      <td>HPQ</td>\n",
       "    </tr>\n",
       "    <tr>\n",
       "      <th>356</th>\n",
       "      <td>1962-01-02</td>\n",
       "      <td>KO</td>\n",
       "    </tr>\n",
       "    <tr>\n",
       "      <th>213</th>\n",
       "      <td>1962-01-02</td>\n",
       "      <td>DIS</td>\n",
       "    </tr>\n",
       "    <tr>\n",
       "      <th>368</th>\n",
       "      <td>1970-01-02</td>\n",
       "      <td>PG</td>\n",
       "    </tr>\n",
       "    <tr>\n",
       "      <th>369</th>\n",
       "      <td>1970-01-02</td>\n",
       "      <td>AEP</td>\n",
       "    </tr>\n",
       "    <tr>\n",
       "      <th>322</th>\n",
       "      <td>1970-01-02</td>\n",
       "      <td>MCD</td>\n",
       "    </tr>\n",
       "    <tr>\n",
       "      <th>121</th>\n",
       "      <td>1970-01-02</td>\n",
       "      <td>MRO</td>\n",
       "    </tr>\n",
       "    <tr>\n",
       "      <th>302</th>\n",
       "      <td>1970-01-02</td>\n",
       "      <td>CVX</td>\n",
       "    </tr>\n",
       "    <tr>\n",
       "      <th>357</th>\n",
       "      <td>1970-01-02</td>\n",
       "      <td>JNJ</td>\n",
       "    </tr>\n",
       "    <tr>\n",
       "      <th>189</th>\n",
       "      <td>1970-01-02</td>\n",
       "      <td>IP</td>\n",
       "    </tr>\n",
       "    <tr>\n",
       "      <th>380</th>\n",
       "      <td>1970-01-02</td>\n",
       "      <td>DTE</td>\n",
       "    </tr>\n",
       "    <tr>\n",
       "      <th>245</th>\n",
       "      <td>1970-01-02</td>\n",
       "      <td>HON</td>\n",
       "    </tr>\n",
       "    <tr>\n",
       "      <th>382</th>\n",
       "      <td>1970-01-02</td>\n",
       "      <td>ED</td>\n",
       "    </tr>\n",
       "    <tr>\n",
       "      <th>288</th>\n",
       "      <td>1970-01-02</td>\n",
       "      <td>MRK</td>\n",
       "    </tr>\n",
       "    <tr>\n",
       "      <th>353</th>\n",
       "      <td>1970-01-02</td>\n",
       "      <td>MMM</td>\n",
       "    </tr>\n",
       "    <tr>\n",
       "      <th>345</th>\n",
       "      <td>1970-01-02</td>\n",
       "      <td>XOM</td>\n",
       "    </tr>\n",
       "    <tr>\n",
       "      <th>277</th>\n",
       "      <td>1970-01-02</td>\n",
       "      <td>UTX</td>\n",
       "    </tr>\n",
       "    <tr>\n",
       "      <th>105</th>\n",
       "      <td>1970-01-02</td>\n",
       "      <td>FL</td>\n",
       "    </tr>\n",
       "    <tr>\n",
       "      <th>330</th>\n",
       "      <td>1970-01-02</td>\n",
       "      <td>MO</td>\n",
       "    </tr>\n",
       "  </tbody>\n",
       "</table>\n",
       "</div>"
      ],
      "text/plain": [
       "    earliest_date ticker\n",
       "194    1962-01-02     BA\n",
       "201    1962-01-02    CAT\n",
       "323    1962-01-02    IBM\n",
       "256    1962-01-02     GE\n",
       "119    1962-01-02    HPQ\n",
       "356    1962-01-02     KO\n",
       "213    1962-01-02    DIS\n",
       "368    1970-01-02     PG\n",
       "369    1970-01-02    AEP\n",
       "322    1970-01-02    MCD\n",
       "121    1970-01-02    MRO\n",
       "302    1970-01-02    CVX\n",
       "357    1970-01-02    JNJ\n",
       "189    1970-01-02     IP\n",
       "380    1970-01-02    DTE\n",
       "245    1970-01-02    HON\n",
       "382    1970-01-02     ED\n",
       "288    1970-01-02    MRK\n",
       "353    1970-01-02    MMM\n",
       "345    1970-01-02    XOM\n",
       "277    1970-01-02    UTX\n",
       "105    1970-01-02     FL\n",
       "330    1970-01-02     MO"
      ]
     },
     "execution_count": 17,
     "metadata": {},
     "output_type": "execute_result"
    }
   ],
   "source": [
    "earliest_dates_df[earliest_dates_df['earliest_date'] <= pd.to_datetime('1-1-1971')]"
   ]
  },
  {
   "cell_type": "code",
   "execution_count": 18,
   "metadata": {},
   "outputs": [],
   "source": [
    "earliest_stocks = earliest_dates_df[earliest_dates_df['earliest_date'] <= pd.to_datetime('1-1-1971')]['ticker'].values"
   ]
  },
  {
   "cell_type": "code",
   "execution_count": 19,
   "metadata": {},
   "outputs": [
    {
     "data": {
      "text/plain": [
       "array(['BA', 'CAT', 'IBM', 'GE', 'HPQ', 'KO', 'DIS', 'PG', 'AEP', 'MCD',\n",
       "       'MRO', 'CVX', 'JNJ', 'IP', 'DTE', 'HON', 'ED', 'MRK', 'MMM', 'XOM',\n",
       "       'UTX', 'FL', 'MO'], dtype=object)"
      ]
     },
     "execution_count": 19,
     "metadata": {},
     "output_type": "execute_result"
    }
   ],
   "source": [
    "earliest_stocks"
   ]
  },
  {
   "cell_type": "code",
   "execution_count": 20,
   "metadata": {},
   "outputs": [],
   "source": [
    "earliest_dfs = {s: dfs[s] for s in dfs.keys() if s in earliest_stocks}"
   ]
  },
  {
   "cell_type": "code",
   "execution_count": 21,
   "metadata": {},
   "outputs": [],
   "source": [
    "latest_date, _ = get_latest_earliest_date(earliest_dfs)"
   ]
  },
  {
   "cell_type": "code",
   "execution_count": 22,
   "metadata": {},
   "outputs": [
    {
     "data": {
      "text/plain": [
       "Timestamp('1970-01-02 00:00:00')"
      ]
     },
     "execution_count": 22,
     "metadata": {},
     "output_type": "execute_result"
    }
   ],
   "source": [
    "latest_date"
   ]
  },
  {
   "cell_type": "code",
   "execution_count": 23,
   "metadata": {},
   "outputs": [],
   "source": [
    "for s in earliest_dfs.keys():\n",
    "    # standardize to latest date so they all have the same earliest time\n",
    "    earliest_dfs[s] = earliest_dfs[s][earliest_dfs[s].index > latest_date]"
   ]
  },
  {
   "cell_type": "code",
   "execution_count": 200,
   "metadata": {},
   "outputs": [],
   "source": [
    "def make_ohlcv_feats_targs_one(s, df, past_cols, fut_cols, past_periods, future_days, threshold=0.05, verbose=False):\n",
    "    if verbose:\n",
    "        print(s)\n",
    "        \n",
    "    epsilon = 0.001\n",
    "    past_pct_change_dict = {}\n",
    "    fut_pct_change_dict = {}\n",
    "    for c in past_cols:\n",
    "        for p in past_periods:\n",
    "            past_pct_change_dict[c + '_pct_change_p=' + str(p)] = []\n",
    "\n",
    "    for c in fut_cols:\n",
    "        for f in future_days:\n",
    "            fut_pct_change_dict[c + '_pct_change_f=' + str(f) + '_gt_' + str(threshold)] = []\n",
    "            fut_pct_change_dict[c + '_pct_change_f=' + str(f) + '_lt_-' + str(threshold)] = []\n",
    "\n",
    "    last_idx = df.shape[0] - 1\n",
    "    for i, (index, r) in enumerate(df.iterrows()):\n",
    "        # create time-lagged percent difference features for OHLCV (and maybe eventually TAs) not bound to a range\n",
    "        for c in past_cols:\n",
    "            for p in past_periods:\n",
    "                if i >= p: # if on day 2 (index 1), then the lag would be current - 0\n",
    "                    old = df[c].iloc[i-p] + epsilon\n",
    "                    new = df[c].iloc[i]\n",
    "                    pct_change = (new - old) / old\n",
    "                    past_pct_change_dict[c + '_pct_change_p=' + str(p)].append(pct_change)\n",
    "                else:\n",
    "                    past_pct_change_dict[c + '_pct_change_p=' + str(p)].append(np.nan)\n",
    "        # create future targets for each of future_days\n",
    "        for c in fut_cols:\n",
    "            for f in future_days:\n",
    "                if i + f <= last_idx: # if on day 2 (index 1), then the lag would be current - 0\n",
    "                    old = df[c].iloc[i] + epsilon\n",
    "                    new = df[c].iloc[i + f]\n",
    "                    pct_change = (new - old) / old\n",
    "                    if pct_change >= threshold:\n",
    "                        fut_pct_change_dict[c + '_pct_change_f=' + str(f) + '_gt_' + str(threshold)].append(1)\n",
    "                    else:\n",
    "                        fut_pct_change_dict[c + '_pct_change_f=' + str(f) + '_gt_' + str(threshold)].append(0)\n",
    "                    if pct_change <= -threshold:\n",
    "                        fut_pct_change_dict[c + '_pct_change_f=' + str(f) + '_lt_-' + str(threshold)].append(1)\n",
    "                    else:\n",
    "                        fut_pct_change_dict[c + '_pct_change_f=' + str(f) + '_lt_-' + str(threshold)].append(0)\n",
    "                else:\n",
    "                    fut_pct_change_dict[c + '_pct_change_f=' + str(f) + '_gt_' + str(threshold)].append(np.nan)\n",
    "                    fut_pct_change_dict[c + '_pct_change_f=' + str(f) + '_lt_-' + str(threshold)].append(np.nan)\n",
    "\n",
    "    # add to dataframe\n",
    "    df = df.assign(**past_pct_change_dict)\n",
    "    df = df.assign(**fut_pct_change_dict)\n",
    "    df.drop(past_cols, inplace=True, axis=1)\n",
    "    return df"
   ]
  },
  {
   "cell_type": "code",
   "execution_count": 201,
   "metadata": {},
   "outputs": [],
   "source": [
    "def make_ohlcv_feats_targs_multithread(dfs,\n",
    "                           past_periods=[1, 2, 3, 5, 10, 20, 30, 50, 100],\n",
    "                           future_days=range(1, 11),\n",
    "                           threshold=0.05,\n",
    "                           verbose=True,\n",
    "                           debug=False):\n",
    "    # columns for past data creation\n",
    "    past_cols = ['Adj_Open', 'Adj_Close', 'Adj_High', 'Adj_Low', 'Adj_Volume', 'typical_price']\n",
    "    # columns used for future targets\n",
    "    fut_cols = ['Adj_Close']\n",
    "    \n",
    "    if debug:\n",
    "        for s in dfs.keys():\n",
    "            if verbose:\n",
    "                print(s)\n",
    "            \n",
    "            dfs[s] = make_ohlcv_feats_targs_one(dfs[s], past_cols, fut_cols, past_periods, future_days)\n",
    "            \n",
    "        return\n",
    "    \n",
    "    jobs = []\n",
    "    with ProcessPoolExecutor(max_workers=None) as executor:\n",
    "        for s in dfs.keys():\n",
    "            r = executor.submit(make_ohlcv_feats_targs_one,\n",
    "                                s,\n",
    "                                dfs[s],\n",
    "                                past_cols,\n",
    "                                fut_cols,\n",
    "                                past_periods,\n",
    "                                future_days,\n",
    "                                threshold,\n",
    "                                verbose)\n",
    "            jobs.append((s, r))\n",
    "\n",
    "    for s, r in jobs:\n",
    "        res = r.result()\n",
    "        if res is not None:\n",
    "            dfs[s] = res\n",
    "        else:\n",
    "                print('result is None for', s)\n",
    "\n",
    "        # no need to return anything, all updates made in-place"
   ]
  },
  {
   "cell_type": "code",
   "execution_count": 26,
   "metadata": {},
   "outputs": [],
   "source": [
    "def drop_cols(dfs):\n",
    "    # find TAS not bound to range -- from EDA short data 1-2-2018.ipynb file\n",
    "\n",
    "    # columns to ignore because they have large outliers that can't really be ignored\n",
    "    ignore_cols = set(['Open',\n",
    "                        'Close',\n",
    "                        'Low', \n",
    "                        'High',\n",
    "                        'Volume',\n",
    "                        'Dividend',\n",
    "                        'Split',\n",
    "                        'bband_u_cl',\n",
    "                        'bband_m_cl',\n",
    "                        'bband_l_cl',\n",
    "                        'bband_u_tp',\n",
    "                        'bband_m_tp',\n",
    "                        'bband_l_tp',\n",
    "                        'dema_cl',\n",
    "                        'dema_tp',\n",
    "                        'ema_cl',\n",
    "                        'ema_tp',\n",
    "                        'ht_tl_cl',\n",
    "                        'ht_tl_tp',\n",
    "                        'kama_cl',\n",
    "                        'kama_tp',\n",
    "                        'mavp_cl',\n",
    "                        'mavp_tp',\n",
    "                        'midp_cl',\n",
    "                        'midp_tp',\n",
    "                        'midpr',\n",
    "                        'sar',\n",
    "                        'sma_10_cl',\n",
    "                        'sma_10_tp',\n",
    "                        'sma_20_cl',\n",
    "                        'sma_20_tp',\n",
    "                        'sma_30_cl',\n",
    "                        'sma_30_tp',\n",
    "                        'sma_40_cl',\n",
    "                        'sma_40_tp',\n",
    "                        'tema_cl',\n",
    "                        'tema_tp',\n",
    "                        'trima_cl',\n",
    "                        'trima_tp',\n",
    "                        'wma_cl',\n",
    "                        'wma_tp',\n",
    "                        'mdm',\n",
    "                        'pldm',\n",
    "                        'rocr_cl_100', # already have the same data /100 as rocr\n",
    "                        'rocr_tp_100',\n",
    "                        'atr',\n",
    "                        'natr',\n",
    "                        'trange',\n",
    "                        'Shares_Float',\n",
    "                        'Shares_Outstanding',\n",
    "                        'Avg._Daily_Vol.',\n",
    "                        'Ticker'])\n",
    "\n",
    "    first = list(dfs.keys())[0]\n",
    "    keep_cols = [c for c in dfs[first].columns.tolist() if c not in ignore_cols]\n",
    "    for s in dfs.keys():\n",
    "        dfs[s] = dfs[s][keep_cols]"
   ]
  },
  {
   "cell_type": "code",
   "execution_count": 27,
   "metadata": {},
   "outputs": [],
   "source": [
    "drop_cols(earliest_dfs)"
   ]
  },
  {
   "cell_type": "code",
   "execution_count": 28,
   "metadata": {},
   "outputs": [
    {
     "data": {
      "text/html": [
       "<div>\n",
       "<style scoped>\n",
       "    .dataframe tbody tr th:only-of-type {\n",
       "        vertical-align: middle;\n",
       "    }\n",
       "\n",
       "    .dataframe tbody tr th {\n",
       "        vertical-align: top;\n",
       "    }\n",
       "\n",
       "    .dataframe thead th {\n",
       "        text-align: right;\n",
       "    }\n",
       "</style>\n",
       "<table border=\"1\" class=\"dataframe\">\n",
       "  <thead>\n",
       "    <tr style=\"text-align: right;\">\n",
       "      <th></th>\n",
       "      <th>Adj_Open</th>\n",
       "      <th>Adj_High</th>\n",
       "      <th>Adj_Low</th>\n",
       "      <th>Adj_Close</th>\n",
       "      <th>Adj_Volume</th>\n",
       "      <th>typical_price</th>\n",
       "      <th>bband_u_cl_diff</th>\n",
       "      <th>bband_m_cl_diff</th>\n",
       "      <th>bband_l_cl_diff</th>\n",
       "      <th>bband_u_cl_diff_hi</th>\n",
       "      <th>...</th>\n",
       "      <th>ht_ph_cl</th>\n",
       "      <th>ht_ph_tp</th>\n",
       "      <th>ht_q_cl</th>\n",
       "      <th>ht_q_tp</th>\n",
       "      <th>ht_s_cl</th>\n",
       "      <th>ht_s_tp</th>\n",
       "      <th>ht_ls_cl</th>\n",
       "      <th>ht_ls_tp</th>\n",
       "      <th>ht_tr_cl</th>\n",
       "      <th>ht_tr_tp</th>\n",
       "    </tr>\n",
       "    <tr>\n",
       "      <th>Date</th>\n",
       "      <th></th>\n",
       "      <th></th>\n",
       "      <th></th>\n",
       "      <th></th>\n",
       "      <th></th>\n",
       "      <th></th>\n",
       "      <th></th>\n",
       "      <th></th>\n",
       "      <th></th>\n",
       "      <th></th>\n",
       "      <th></th>\n",
       "      <th></th>\n",
       "      <th></th>\n",
       "      <th></th>\n",
       "      <th></th>\n",
       "      <th></th>\n",
       "      <th></th>\n",
       "      <th></th>\n",
       "      <th></th>\n",
       "      <th></th>\n",
       "      <th></th>\n",
       "    </tr>\n",
       "  </thead>\n",
       "  <tbody>\n",
       "    <tr>\n",
       "      <th>1970-01-05</th>\n",
       "      <td>1.794257</td>\n",
       "      <td>1.823809</td>\n",
       "      <td>1.776900</td>\n",
       "      <td>1.776900</td>\n",
       "      <td>32800.0</td>\n",
       "      <td>38.213333</td>\n",
       "      <td>1.363667</td>\n",
       "      <td>0.35</td>\n",
       "      <td>-0.663667</td>\n",
       "      <td>1.113667</td>\n",
       "      <td>...</td>\n",
       "      <td>-0.768839</td>\n",
       "      <td>-0.666338</td>\n",
       "      <td>-0.508365</td>\n",
       "      <td>-0.734924</td>\n",
       "      <td>0.982634</td>\n",
       "      <td>0.972172</td>\n",
       "      <td>0.826035</td>\n",
       "      <td>0.853082</td>\n",
       "      <td>0</td>\n",
       "      <td>0</td>\n",
       "    </tr>\n",
       "    <tr>\n",
       "      <th>1970-01-06</th>\n",
       "      <td>1.771289</td>\n",
       "      <td>1.776900</td>\n",
       "      <td>1.759131</td>\n",
       "      <td>1.776900</td>\n",
       "      <td>48400.0</td>\n",
       "      <td>37.873333</td>\n",
       "      <td>1.363667</td>\n",
       "      <td>0.35</td>\n",
       "      <td>-0.663667</td>\n",
       "      <td>1.113667</td>\n",
       "      <td>...</td>\n",
       "      <td>-0.768839</td>\n",
       "      <td>-0.666338</td>\n",
       "      <td>-0.508365</td>\n",
       "      <td>-0.734924</td>\n",
       "      <td>0.982634</td>\n",
       "      <td>0.972172</td>\n",
       "      <td>0.826035</td>\n",
       "      <td>0.853082</td>\n",
       "      <td>0</td>\n",
       "      <td>0</td>\n",
       "    </tr>\n",
       "    <tr>\n",
       "      <th>1970-01-07</th>\n",
       "      <td>1.772760</td>\n",
       "      <td>1.772760</td>\n",
       "      <td>1.749280</td>\n",
       "      <td>1.749280</td>\n",
       "      <td>31200.0</td>\n",
       "      <td>37.416667</td>\n",
       "      <td>1.363667</td>\n",
       "      <td>0.35</td>\n",
       "      <td>-0.663667</td>\n",
       "      <td>1.113667</td>\n",
       "      <td>...</td>\n",
       "      <td>-0.768839</td>\n",
       "      <td>-0.666338</td>\n",
       "      <td>-0.508365</td>\n",
       "      <td>-0.734924</td>\n",
       "      <td>0.982634</td>\n",
       "      <td>0.972172</td>\n",
       "      <td>0.826035</td>\n",
       "      <td>0.853082</td>\n",
       "      <td>0</td>\n",
       "      <td>0</td>\n",
       "    </tr>\n",
       "    <tr>\n",
       "      <th>1970-01-08</th>\n",
       "      <td>1.746764</td>\n",
       "      <td>1.770210</td>\n",
       "      <td>1.735040</td>\n",
       "      <td>1.758487</td>\n",
       "      <td>40400.0</td>\n",
       "      <td>37.416667</td>\n",
       "      <td>1.363667</td>\n",
       "      <td>0.35</td>\n",
       "      <td>-0.663667</td>\n",
       "      <td>1.113667</td>\n",
       "      <td>...</td>\n",
       "      <td>-0.768839</td>\n",
       "      <td>-0.666338</td>\n",
       "      <td>-0.508365</td>\n",
       "      <td>-0.734924</td>\n",
       "      <td>0.982634</td>\n",
       "      <td>0.972172</td>\n",
       "      <td>0.826035</td>\n",
       "      <td>0.853082</td>\n",
       "      <td>0</td>\n",
       "      <td>0</td>\n",
       "    </tr>\n",
       "    <tr>\n",
       "      <th>1970-01-09</th>\n",
       "      <td>1.748643</td>\n",
       "      <td>1.748643</td>\n",
       "      <td>1.730867</td>\n",
       "      <td>1.730867</td>\n",
       "      <td>35600.0</td>\n",
       "      <td>37.126667</td>\n",
       "      <td>1.363667</td>\n",
       "      <td>0.35</td>\n",
       "      <td>-0.663667</td>\n",
       "      <td>1.113667</td>\n",
       "      <td>...</td>\n",
       "      <td>-0.768839</td>\n",
       "      <td>-0.666338</td>\n",
       "      <td>-0.508365</td>\n",
       "      <td>-0.734924</td>\n",
       "      <td>0.982634</td>\n",
       "      <td>0.972172</td>\n",
       "      <td>0.826035</td>\n",
       "      <td>0.853082</td>\n",
       "      <td>0</td>\n",
       "      <td>0</td>\n",
       "    </tr>\n",
       "  </tbody>\n",
       "</table>\n",
       "<p>5 rows × 99 columns</p>\n",
       "</div>"
      ],
      "text/plain": [
       "            Adj_Open  Adj_High   Adj_Low  Adj_Close  Adj_Volume  \\\n",
       "Date                                                              \n",
       "1970-01-05  1.794257  1.823809  1.776900   1.776900     32800.0   \n",
       "1970-01-06  1.771289  1.776900  1.759131   1.776900     48400.0   \n",
       "1970-01-07  1.772760  1.772760  1.749280   1.749280     31200.0   \n",
       "1970-01-08  1.746764  1.770210  1.735040   1.758487     40400.0   \n",
       "1970-01-09  1.748643  1.748643  1.730867   1.730867     35600.0   \n",
       "\n",
       "            typical_price  bband_u_cl_diff  bband_m_cl_diff  bband_l_cl_diff  \\\n",
       "Date                                                                           \n",
       "1970-01-05      38.213333         1.363667             0.35        -0.663667   \n",
       "1970-01-06      37.873333         1.363667             0.35        -0.663667   \n",
       "1970-01-07      37.416667         1.363667             0.35        -0.663667   \n",
       "1970-01-08      37.416667         1.363667             0.35        -0.663667   \n",
       "1970-01-09      37.126667         1.363667             0.35        -0.663667   \n",
       "\n",
       "            bband_u_cl_diff_hi    ...     ht_ph_cl  ht_ph_tp   ht_q_cl  \\\n",
       "Date                              ...                                    \n",
       "1970-01-05            1.113667    ...    -0.768839 -0.666338 -0.508365   \n",
       "1970-01-06            1.113667    ...    -0.768839 -0.666338 -0.508365   \n",
       "1970-01-07            1.113667    ...    -0.768839 -0.666338 -0.508365   \n",
       "1970-01-08            1.113667    ...    -0.768839 -0.666338 -0.508365   \n",
       "1970-01-09            1.113667    ...    -0.768839 -0.666338 -0.508365   \n",
       "\n",
       "             ht_q_tp   ht_s_cl   ht_s_tp  ht_ls_cl  ht_ls_tp  ht_tr_cl  \\\n",
       "Date                                                                     \n",
       "1970-01-05 -0.734924  0.982634  0.972172  0.826035  0.853082         0   \n",
       "1970-01-06 -0.734924  0.982634  0.972172  0.826035  0.853082         0   \n",
       "1970-01-07 -0.734924  0.982634  0.972172  0.826035  0.853082         0   \n",
       "1970-01-08 -0.734924  0.982634  0.972172  0.826035  0.853082         0   \n",
       "1970-01-09 -0.734924  0.982634  0.972172  0.826035  0.853082         0   \n",
       "\n",
       "            ht_tr_tp  \n",
       "Date                  \n",
       "1970-01-05         0  \n",
       "1970-01-06         0  \n",
       "1970-01-07         0  \n",
       "1970-01-08         0  \n",
       "1970-01-09         0  \n",
       "\n",
       "[5 rows x 99 columns]"
      ]
     },
     "execution_count": 28,
     "metadata": {},
     "output_type": "execute_result"
    }
   ],
   "source": [
    "earliest_dfs['FL'].head()"
   ]
  },
  {
   "cell_type": "code",
   "execution_count": 29,
   "metadata": {},
   "outputs": [
    {
     "name": "stdout",
     "output_type": "stream",
     "text": [
      "FL\n",
      "HPQ\n",
      "MRO\n",
      "IP\n",
      "BA\n",
      "CAT\n",
      "DIS\n",
      "HON\n",
      "GE\n",
      "UTX\n",
      "MRK\n",
      "CVX\n",
      "MCD\n",
      "IBM\n",
      "MO\n",
      "XOM\n",
      "MMM\n",
      "KO\n",
      "JNJ\n",
      "PG\n",
      "AEP\n",
      "DTE\n",
      "ED\n"
     ]
    }
   ],
   "source": [
    "make_ohlcv_feats_targs_multithread(earliest_dfs)"
   ]
  },
  {
   "cell_type": "code",
   "execution_count": 30,
   "metadata": {},
   "outputs": [],
   "source": [
    "s = 'FL'"
   ]
  },
  {
   "cell_type": "code",
   "execution_count": 83,
   "metadata": {},
   "outputs": [],
   "source": [
    "targ_cols = [c for c in earliest_dfs[s].columns if 'f=' in c]\n",
    "feat_cols = [c for c in earliest_dfs[s].columns if c not in set(targ_cols)]\n",
    "\n",
    "no_missing = earliest_dfs[s].dropna()\n",
    "s_features = no_missing[feat_cols]\n",
    "\n",
    "feat_labels = []\n",
    "targ_labels = []\n",
    "feat_labels.extend([s + '_' + c for c in s_features.columns.tolist()])\n",
    "s_targets = no_missing[targ_cols]\n",
    "targ_labels.extend([s + '_' + c for c in s_targets.columns.tolist()])\n",
    "features = s_features.values\n",
    "\n",
    "targets = s_targets.values\n",
    "# only use 5 days in future as target\n",
    "#targets = s_targets.values[:, 4].reshape(-1, 1)\n",
    "\n",
    "train_frac = 0.8\n",
    "train_size = int(features.shape[0] * train_frac)\n",
    "train_features = features[:train_size]\n",
    "test_features = features[train_size:]\n",
    "train_targets = targets[:train_size]\n",
    "test_targets = targets[train_size:]"
   ]
  },
  {
   "cell_type": "code",
   "execution_count": 84,
   "metadata": {},
   "outputs": [
    {
     "data": {
      "text/plain": [
       "(9642, 147)"
      ]
     },
     "execution_count": 84,
     "metadata": {},
     "output_type": "execute_result"
    }
   ],
   "source": [
    "train_features.shape"
   ]
  },
  {
   "cell_type": "code",
   "execution_count": 85,
   "metadata": {},
   "outputs": [
    {
     "data": {
      "text/plain": [
       "(9642, 10)"
      ]
     },
     "execution_count": 85,
     "metadata": {},
     "output_type": "execute_result"
    }
   ],
   "source": [
    "train_targets.shape"
   ]
  },
  {
   "cell_type": "code",
   "execution_count": 86,
   "metadata": {},
   "outputs": [
    {
     "data": {
      "text/plain": [
       "['FL_Adj_Close_pct_change_f=1_gt_0.05',\n",
       " 'FL_Adj_Close_pct_change_f=2_gt_0.05',\n",
       " 'FL_Adj_Close_pct_change_f=3_gt_0.05',\n",
       " 'FL_Adj_Close_pct_change_f=4_gt_0.05',\n",
       " 'FL_Adj_Close_pct_change_f=5_gt_0.05',\n",
       " 'FL_Adj_Close_pct_change_f=6_gt_0.05',\n",
       " 'FL_Adj_Close_pct_change_f=7_gt_0.05',\n",
       " 'FL_Adj_Close_pct_change_f=8_gt_0.05',\n",
       " 'FL_Adj_Close_pct_change_f=9_gt_0.05',\n",
       " 'FL_Adj_Close_pct_change_f=10_gt_0.05']"
      ]
     },
     "execution_count": 86,
     "metadata": {},
     "output_type": "execute_result"
    }
   ],
   "source": [
    "targ_labels"
   ]
  },
  {
   "cell_type": "code",
   "execution_count": 87,
   "metadata": {},
   "outputs": [],
   "source": [
    "import matplotlib.pyplot as plt\n",
    "%matplotlib inline"
   ]
  },
  {
   "cell_type": "code",
   "execution_count": 107,
   "metadata": {},
   "outputs": [
    {
     "data": {
      "text/plain": [
       "<matplotlib.axes._subplots.AxesSubplot at 0x7f7f34206eb8>"
      ]
     },
     "execution_count": 107,
     "metadata": {},
     "output_type": "execute_result"
    },
    {
     "data": {
      "image/png": "[encoded data removed]",
      "text/plain": [
       "<Figure size 432x288 with 1 Axes>"
      ]
     },
     "metadata": {},
     "output_type": "display_data"
    }
   ],
   "source": [
    "pd.value_counts(targets[:, 4]).plot.bar()\n",
    "# pd.value_counts(targets[:, 0]).plot.bar()"
   ]
  },
  {
   "cell_type": "code",
   "execution_count": 108,
   "metadata": {},
   "outputs": [
    {
     "data": {
      "text/plain": [
       "0.0    10433\n",
       "1.0     1620\n",
       "dtype: int64"
      ]
     },
     "execution_count": 108,
     "metadata": {},
     "output_type": "execute_result"
    }
   ],
   "source": [
    "pd.value_counts(targets[:, 4])\n",
    "# pd.value_counts(targets[:, 0])"
   ]
  },
  {
   "cell_type": "code",
   "execution_count": 109,
   "metadata": {},
   "outputs": [
    {
     "data": {
      "text/plain": [
       "0.8655936281423712"
      ]
     },
     "execution_count": 109,
     "metadata": {},
     "output_type": "execute_result"
    }
   ],
   "source": [
    "# no information rate -- always guess 0 -- need to beat this accuracy\n",
    "pd.value_counts(targets[:, 4])[0] / pd.value_counts(targets[:, 4]).sum()\n",
    "# pd.value_counts(targets[:, 0])[0] / pd.value_counts(targets[:, 0]).sum()"
   ]
  },
  {
   "cell_type": "code",
   "execution_count": 91,
   "metadata": {},
   "outputs": [],
   "source": [
    "from keras.layers import Input, Dense, Dropout, BatchNormalization, LSTM, Conv1D, MaxPooling1D, Activation, Flatten, Concatenate, Reshape\n",
    "from keras.models import Model, load_model\n",
    "from keras import optimizers\n",
    "from keras.callbacks import EarlyStopping, ModelCheckpoint, TensorBoard\n",
    "from keras.regularizers import l1_l2\n",
    "import keras.backend as K\n",
    "import keras.losses"
   ]
  },
  {
   "cell_type": "code",
   "execution_count": 92,
   "metadata": {},
   "outputs": [
    {
     "data": {
      "text/plain": [
       "(9642, 147)"
      ]
     },
     "execution_count": 92,
     "metadata": {},
     "output_type": "execute_result"
    }
   ],
   "source": [
    "train_features.shape"
   ]
  },
  {
   "cell_type": "code",
   "execution_count": 99,
   "metadata": {},
   "outputs": [],
   "source": [
    "K.clear_session()\n",
    "\n",
    "timesteps = 1\n",
    "input_dim = train_features.shape[1]\n",
    "output_dim = train_targets.shape[1]\n",
    "\n",
    "inputs = Input(shape=(timesteps*input_dim, ))\n",
    "x = BatchNormalization()(inputs)\n",
    "x = Dense(3000, activation='elu')(x)\n",
    "x = BatchNormalization()(x)\n",
    "x = Dropout(0.4)(x)\n",
    "x = Dense(2000, activation='elu')(x)\n",
    "x = BatchNormalization()(x)\n",
    "x = Dropout(0.3)(x)\n",
    "x = Dense(1000, activation='elu')(x)\n",
    "x = BatchNormalization()(x)\n",
    "x = Dropout(0.2)(x)\n",
    "x = Dense(500, activation='elu')(x)\n",
    "x = BatchNormalization()(x)\n",
    "x = Dropout(0.1)(x)\n",
    "x = Dense(100, activation='elu')(x)\n",
    "x = BatchNormalization()(x)\n",
    "x = Dense(output_dim, activation='sigmoid')(x)\n",
    "\n",
    "mod = Model(inputs, x)\n",
    "mod.compile(optimizer='adam', loss='binary_crossentropy', metrics=['accuracy'])"
   ]
  },
  {
   "cell_type": "code",
   "execution_count": 100,
   "metadata": {
    "scrolled": true
   },
   "outputs": [
    {
     "name": "stdout",
     "output_type": "stream",
     "text": [
      "Train on 8677 samples, validate on 965 samples\n",
      "Epoch 1/300\n",
      "8677/8677 [==============================] - 1s 87us/step - loss: 0.8889 - acc: 0.5240 - val_loss: 1.0708 - val_acc: 0.4255\n",
      "Epoch 2/300\n",
      "8677/8677 [==============================] - 0s 23us/step - loss: 0.7016 - acc: 0.5528 - val_loss: 0.9324 - val_acc: 0.3542\n",
      "Epoch 3/300\n",
      "8677/8677 [==============================] - 0s 22us/step - loss: 0.6796 - acc: 0.5869 - val_loss: 0.9224 - val_acc: 0.3372\n",
      "Epoch 4/300\n",
      "8677/8677 [==============================] - 0s 23us/step - loss: 0.6660 - acc: 0.6278 - val_loss: 0.9065 - val_acc: 0.3226\n",
      "Epoch 5/300\n",
      "8677/8677 [==============================] - 0s 22us/step - loss: 0.6548 - acc: 0.6630 - val_loss: 0.8503 - val_acc: 0.3426\n",
      "Epoch 6/300\n",
      "8677/8677 [==============================] - 0s 22us/step - loss: 0.6440 - acc: 0.6852 - val_loss: 0.8157 - val_acc: 0.3869\n",
      "Epoch 7/300\n",
      "8677/8677 [==============================] - 0s 22us/step - loss: 0.6336 - acc: 0.7096 - val_loss: 0.7636 - val_acc: 0.4598\n",
      "Epoch 8/300\n",
      "8677/8677 [==============================] - 0s 22us/step - loss: 0.6227 - acc: 0.7357 - val_loss: 0.7391 - val_acc: 0.5079\n",
      "Epoch 9/300\n",
      "8677/8677 [==============================] - 0s 20us/step - loss: 0.6100 - acc: 0.7560 - val_loss: 0.7144 - val_acc: 0.5418\n",
      "Epoch 10/300\n",
      "8677/8677 [==============================] - 0s 21us/step - loss: 0.5983 - acc: 0.7680 - val_loss: 0.6783 - val_acc: 0.6173\n",
      "Epoch 11/300\n",
      "8677/8677 [==============================] - 0s 21us/step - loss: 0.5843 - acc: 0.7810 - val_loss: 0.6518 - val_acc: 0.6612\n",
      "Epoch 12/300\n",
      "8677/8677 [==============================] - 0s 21us/step - loss: 0.5707 - acc: 0.7944 - val_loss: 0.6359 - val_acc: 0.6924\n",
      "Epoch 13/300\n",
      "8677/8677 [==============================] - 0s 22us/step - loss: 0.5547 - acc: 0.8079 - val_loss: 0.6216 - val_acc: 0.7163\n",
      "Epoch 14/300\n",
      "8677/8677 [==============================] - 0s 21us/step - loss: 0.5376 - acc: 0.8222 - val_loss: 0.5732 - val_acc: 0.7809\n",
      "Epoch 15/300\n",
      "8677/8677 [==============================] - 0s 21us/step - loss: 0.5213 - acc: 0.8308 - val_loss: 0.5572 - val_acc: 0.7858\n",
      "Epoch 16/300\n",
      "8677/8677 [==============================] - 0s 21us/step - loss: 0.5046 - acc: 0.8367 - val_loss: 0.5202 - val_acc: 0.8323\n",
      "Epoch 17/300\n",
      "8677/8677 [==============================] - 0s 21us/step - loss: 0.4872 - acc: 0.8440 - val_loss: 0.5196 - val_acc: 0.8178\n",
      "Epoch 18/300\n",
      "8677/8677 [==============================] - 0s 21us/step - loss: 0.4700 - acc: 0.8509 - val_loss: 0.5049 - val_acc: 0.8177\n",
      "Epoch 19/300\n",
      "8677/8677 [==============================] - 0s 21us/step - loss: 0.4548 - acc: 0.8552 - val_loss: 0.4895 - val_acc: 0.8258\n",
      "Epoch 20/300\n",
      "8677/8677 [==============================] - 0s 21us/step - loss: 0.4393 - acc: 0.8600 - val_loss: 0.4404 - val_acc: 0.8525\n",
      "Epoch 21/300\n",
      "8677/8677 [==============================] - 0s 22us/step - loss: 0.4214 - acc: 0.8669 - val_loss: 0.4778 - val_acc: 0.8199\n",
      "Epoch 22/300\n",
      "8677/8677 [==============================] - 0s 21us/step - loss: 0.4048 - acc: 0.8679 - val_loss: 0.4383 - val_acc: 0.8379\n",
      "Epoch 23/300\n",
      "8677/8677 [==============================] - 0s 21us/step - loss: 0.3925 - acc: 0.8659 - val_loss: 0.4202 - val_acc: 0.8484\n",
      "Epoch 24/300\n",
      "8677/8677 [==============================] - 0s 21us/step - loss: 0.3797 - acc: 0.8728 - val_loss: 0.4473 - val_acc: 0.8311\n",
      "Epoch 25/300\n",
      "8677/8677 [==============================] - 0s 21us/step - loss: 0.3649 - acc: 0.8748 - val_loss: 0.4256 - val_acc: 0.8389\n",
      "Epoch 26/300\n",
      "8677/8677 [==============================] - 0s 20us/step - loss: 0.3556 - acc: 0.8773 - val_loss: 0.4080 - val_acc: 0.8535\n",
      "Epoch 27/300\n",
      "8677/8677 [==============================] - 0s 21us/step - loss: 0.3450 - acc: 0.8780 - val_loss: 0.4138 - val_acc: 0.8440\n",
      "Epoch 28/300\n",
      "8677/8677 [==============================] - 0s 21us/step - loss: 0.3363 - acc: 0.8790 - val_loss: 0.4047 - val_acc: 0.8426\n",
      "Epoch 29/300\n",
      "8677/8677 [==============================] - 0s 20us/step - loss: 0.3268 - acc: 0.8827 - val_loss: 0.4299 - val_acc: 0.8283\n",
      "Epoch 30/300\n",
      "8677/8677 [==============================] - 0s 21us/step - loss: 0.3188 - acc: 0.8842 - val_loss: 0.4136 - val_acc: 0.8437\n",
      "Epoch 31/300\n",
      "8677/8677 [==============================] - 0s 21us/step - loss: 0.3106 - acc: 0.8849 - val_loss: 0.4179 - val_acc: 0.8397\n",
      "Epoch 32/300\n",
      "8677/8677 [==============================] - 0s 21us/step - loss: 0.3042 - acc: 0.8883 - val_loss: 0.4225 - val_acc: 0.8344\n",
      "Epoch 33/300\n",
      "8677/8677 [==============================] - 0s 21us/step - loss: 0.2968 - acc: 0.8904 - val_loss: 0.4043 - val_acc: 0.8498\n",
      "Epoch 34/300\n",
      "8677/8677 [==============================] - 0s 22us/step - loss: 0.2938 - acc: 0.8896 - val_loss: 0.4316 - val_acc: 0.8375\n",
      "Epoch 35/300\n",
      "8677/8677 [==============================] - 0s 21us/step - loss: 0.2863 - acc: 0.8920 - val_loss: 0.4065 - val_acc: 0.8374\n",
      "Epoch 36/300\n",
      "8677/8677 [==============================] - 0s 22us/step - loss: 0.2797 - acc: 0.8944 - val_loss: 0.4219 - val_acc: 0.8461\n",
      "Epoch 37/300\n",
      "8677/8677 [==============================] - 0s 21us/step - loss: 0.2732 - acc: 0.8957 - val_loss: 0.4178 - val_acc: 0.8498\n",
      "Epoch 38/300\n",
      "8677/8677 [==============================] - 0s 20us/step - loss: 0.2658 - acc: 0.8988 - val_loss: 0.4338 - val_acc: 0.8422\n",
      "Epoch 39/300\n",
      "8677/8677 [==============================] - 0s 20us/step - loss: 0.2627 - acc: 0.9002 - val_loss: 0.4095 - val_acc: 0.8555\n",
      "Epoch 40/300\n",
      "8677/8677 [==============================] - 0s 21us/step - loss: 0.2577 - acc: 0.9021 - val_loss: 0.4351 - val_acc: 0.8441\n",
      "Epoch 41/300\n",
      "8677/8677 [==============================] - 0s 22us/step - loss: 0.2538 - acc: 0.9028 - val_loss: 0.4249 - val_acc: 0.8612\n",
      "Epoch 42/300\n",
      "8677/8677 [==============================] - 0s 21us/step - loss: 0.2461 - acc: 0.9069 - val_loss: 0.4534 - val_acc: 0.8301\n",
      "Epoch 43/300\n",
      "8677/8677 [==============================] - 0s 21us/step - loss: 0.2402 - acc: 0.9082 - val_loss: 0.4545 - val_acc: 0.8427\n"
     ]
    }
   ],
   "source": [
    "es = EarlyStopping(monitor='val_loss', patience=10)\n",
    "\n",
    "history = mod.fit(train_features,\n",
    "            train_targets,\n",
    "            epochs=300,\n",
    "            validation_split=0.1,\n",
    "            batch_size=2000,\n",
    "            callbacks=[es])"
   ]
  },
  {
   "cell_type": "code",
   "execution_count": 101,
   "metadata": {},
   "outputs": [
    {
     "data": {
      "text/plain": [
       "Text(0,0.5,'val loss')"
      ]
     },
     "execution_count": 101,
     "metadata": {},
     "output_type": "execute_result"
    },
    {
     "data": {
      "image/png": "[encoded data removed]",
      "text/plain": [
       "<Figure size 432x288 with 2 Axes>"
      ]
     },
     "metadata": {},
     "output_type": "display_data"
    }
   ],
   "source": [
    "fig, ax1 = plt.subplots()\n",
    "_ = ax1.plot(history.history['loss'])\n",
    "ax2 = ax1.twinx()\n",
    "_ = ax2.plot(history.history['val_loss'], c='orange')\n",
    "ax2.set_ylabel('val loss')"
   ]
  },
  {
   "cell_type": "code",
   "execution_count": 102,
   "metadata": {},
   "outputs": [
    {
     "data": {
      "text/plain": [
       "Text(0,0.5,'val accuracy')"
      ]
     },
     "execution_count": 102,
     "metadata": {},
     "output_type": "execute_result"
    },
    {
     "data": {
      "image/png": "[encoded data removed]",
      "text/plain": [
       "<Figure size 432x288 with 2 Axes>"
      ]
     },
     "metadata": {},
     "output_type": "display_data"
    }
   ],
   "source": [
    "fig, ax1 = plt.subplots()\n",
    "_ = ax1.plot(history.history['acc'])\n",
    "ax2 = ax1.twinx()\n",
    "_ = ax2.plot(history.history['val_acc'], c='orange')\n",
    "ax2.set_ylabel('val accuracy')"
   ]
  },
  {
   "cell_type": "code",
   "execution_count": 103,
   "metadata": {},
   "outputs": [
    {
     "name": "stdout",
     "output_type": "stream",
     "text": [
      "9642/9642 [==============================] - 1s 79us/step\n"
     ]
    },
    {
     "data": {
      "text/plain": [
       "[0.2492317281751508, 0.9023957695488216]"
      ]
     },
     "execution_count": 103,
     "metadata": {},
     "output_type": "execute_result"
    }
   ],
   "source": [
    "mod.evaluate(train_features, train_targets)"
   ]
  },
  {
   "cell_type": "code",
   "execution_count": 104,
   "metadata": {},
   "outputs": [
    {
     "name": "stdout",
     "output_type": "stream",
     "text": [
      "2411/2411 [==============================] - 0s 79us/step\n"
     ]
    },
    {
     "data": {
      "text/plain": [
       "[0.5575952847089969, 0.8357113214114651]"
      ]
     },
     "execution_count": 104,
     "metadata": {},
     "output_type": "execute_result"
    }
   ],
   "source": [
    "mod.evaluate(test_features, test_targets)"
   ]
  },
  {
   "cell_type": "code",
   "execution_count": 105,
   "metadata": {},
   "outputs": [
    {
     "name": "stdout",
     "output_type": "stream",
     "text": [
      "8678/8678 [==============================] - 1s 78us/step\n"
     ]
    },
    {
     "data": {
      "text/plain": [
       "[0.2263802840263012, 0.9090458634098051]"
      ]
     },
     "execution_count": 105,
     "metadata": {},
     "output_type": "execute_result"
    }
   ],
   "source": [
    "val_size = int(0.1 * train_targets.shape[0])\n",
    "mod.evaluate(train_features[:-val_size], train_targets[:-val_size])"
   ]
  },
  {
   "cell_type": "code",
   "execution_count": 106,
   "metadata": {},
   "outputs": [
    {
     "name": "stdout",
     "output_type": "stream",
     "text": [
      "964/964 [==============================] - 0s 76us/step\n"
     ]
    },
    {
     "data": {
      "text/plain": [
       "[0.45494214103738795, 0.8425311270591135]"
      ]
     },
     "execution_count": 106,
     "metadata": {},
     "output_type": "execute_result"
    }
   ],
   "source": [
    "mod.evaluate(train_features[-val_size:], train_targets[-val_size:])"
   ]
  },
  {
   "cell_type": "markdown",
   "metadata": {},
   "source": [
    "# Shrink net to prevent overfitting"
   ]
  },
  {
   "cell_type": "code",
   "execution_count": 110,
   "metadata": {},
   "outputs": [],
   "source": [
    "K.clear_session()\n",
    "\n",
    "timesteps = 1\n",
    "input_dim = train_features.shape[1]\n",
    "output_dim = train_targets.shape[1]\n",
    "\n",
    "inputs = Input(shape=(timesteps*input_dim, ))\n",
    "x = BatchNormalization()(inputs)\n",
    "x = Dense(1000, activation='elu')(x)\n",
    "x = BatchNormalization()(x)\n",
    "x = Dropout(0.5)(x)\n",
    "x = Dense(500, activation='elu')(x)\n",
    "x = BatchNormalization()(x)\n",
    "x = Dropout(0.5)(x)\n",
    "x = Dense(100, activation='elu')(x)\n",
    "x = BatchNormalization()(x)\n",
    "x = Dense(output_dim, activation='sigmoid')(x)\n",
    "\n",
    "mod = Model(inputs, x)\n",
    "mod.compile(optimizer='adam', loss='binary_crossentropy', metrics=['accuracy'])"
   ]
  },
  {
   "cell_type": "code",
   "execution_count": 127,
   "metadata": {},
   "outputs": [
    {
     "name": "stdout",
     "output_type": "stream",
     "text": [
      "_________________________________________________________________\n",
      "Layer (type)                 Output Shape              Param #   \n",
      "=================================================================\n",
      "input_1 (InputLayer)         (None, 147)               0         \n",
      "_________________________________________________________________\n",
      "batch_normalization_1 (Batch (None, 147)               588       \n",
      "_________________________________________________________________\n",
      "dense_1 (Dense)              (None, 1000)              148000    \n",
      "_________________________________________________________________\n",
      "batch_normalization_2 (Batch (None, 1000)              4000      \n",
      "_________________________________________________________________\n",
      "dropout_1 (Dropout)          (None, 1000)              0         \n",
      "_________________________________________________________________\n",
      "dense_2 (Dense)              (None, 500)               500500    \n",
      "_________________________________________________________________\n",
      "batch_normalization_3 (Batch (None, 500)               2000      \n",
      "_________________________________________________________________\n",
      "dropout_2 (Dropout)          (None, 500)               0         \n",
      "_________________________________________________________________\n",
      "dense_3 (Dense)              (None, 100)               50100     \n",
      "_________________________________________________________________\n",
      "batch_normalization_4 (Batch (None, 100)               400       \n",
      "_________________________________________________________________\n",
      "dropout_3 (Dropout)          (None, 100)               0         \n",
      "_________________________________________________________________\n",
      "dense_4 (Dense)              (None, 10)                1010      \n",
      "_________________________________________________________________\n",
      "batch_normalization_5 (Batch (None, 10)                40        \n",
      "_________________________________________________________________\n",
      "dense_5 (Dense)              (None, 10)                110       \n",
      "=================================================================\n",
      "Total params: 706,748\n",
      "Trainable params: 703,234\n",
      "Non-trainable params: 3,514\n",
      "_________________________________________________________________\n"
     ]
    }
   ],
   "source": [
    "mod.summary()"
   ]
  },
  {
   "cell_type": "code",
   "execution_count": 111,
   "metadata": {},
   "outputs": [
    {
     "name": "stdout",
     "output_type": "stream",
     "text": [
      "Train on 8677 samples, validate on 965 samples\n",
      "Epoch 1/300\n",
      "8677/8677 [==============================] - 1s 58us/step - loss: 0.8402 - acc: 0.5041 - val_loss: 0.8254 - val_acc: 0.3679\n",
      "Epoch 2/300\n",
      "8677/8677 [==============================] - 0s 8us/step - loss: 0.7495 - acc: 0.5335 - val_loss: 0.7793 - val_acc: 0.3969\n",
      "Epoch 3/300\n",
      "8677/8677 [==============================] - 0s 9us/step - loss: 0.7109 - acc: 0.5583 - val_loss: 0.7460 - val_acc: 0.4428\n",
      "Epoch 4/300\n",
      "8677/8677 [==============================] - 0s 9us/step - loss: 0.6860 - acc: 0.5893 - val_loss: 0.7377 - val_acc: 0.4426\n",
      "Epoch 5/300\n",
      "8677/8677 [==============================] - 0s 8us/step - loss: 0.6716 - acc: 0.6132 - val_loss: 0.7335 - val_acc: 0.4591\n",
      "Epoch 6/300\n",
      "8677/8677 [==============================] - 0s 10us/step - loss: 0.6583 - acc: 0.6415 - val_loss: 0.7226 - val_acc: 0.4825\n",
      "Epoch 7/300\n",
      "8677/8677 [==============================] - 0s 9us/step - loss: 0.6458 - acc: 0.6718 - val_loss: 0.7131 - val_acc: 0.5030\n",
      "Epoch 8/300\n",
      "8677/8677 [==============================] - 0s 9us/step - loss: 0.6331 - acc: 0.6990 - val_loss: 0.6959 - val_acc: 0.5597\n",
      "Epoch 9/300\n",
      "8677/8677 [==============================] - 0s 8us/step - loss: 0.6205 - acc: 0.7240 - val_loss: 0.6816 - val_acc: 0.5951\n",
      "Epoch 10/300\n",
      "8677/8677 [==============================] - 0s 8us/step - loss: 0.6070 - acc: 0.7465 - val_loss: 0.6699 - val_acc: 0.6325\n",
      "Epoch 11/300\n",
      "8677/8677 [==============================] - 0s 9us/step - loss: 0.5917 - acc: 0.7683 - val_loss: 0.6531 - val_acc: 0.6790\n",
      "Epoch 12/300\n",
      "8677/8677 [==============================] - 0s 8us/step - loss: 0.5752 - acc: 0.7883 - val_loss: 0.6238 - val_acc: 0.7335\n",
      "Epoch 13/300\n",
      "8677/8677 [==============================] - 0s 9us/step - loss: 0.5588 - acc: 0.8037 - val_loss: 0.5998 - val_acc: 0.7772\n",
      "Epoch 14/300\n",
      "8677/8677 [==============================] - 0s 8us/step - loss: 0.5402 - acc: 0.8187 - val_loss: 0.5763 - val_acc: 0.8016\n",
      "Epoch 15/300\n",
      "8677/8677 [==============================] - 0s 10us/step - loss: 0.5219 - acc: 0.8300 - val_loss: 0.5416 - val_acc: 0.8351\n",
      "Epoch 16/300\n",
      "8677/8677 [==============================] - 0s 9us/step - loss: 0.5032 - acc: 0.8382 - val_loss: 0.5267 - val_acc: 0.8429\n",
      "Epoch 17/300\n",
      "8677/8677 [==============================] - 0s 8us/step - loss: 0.4852 - acc: 0.8423 - val_loss: 0.5087 - val_acc: 0.8480\n",
      "Epoch 18/300\n",
      "8677/8677 [==============================] - 0s 8us/step - loss: 0.4669 - acc: 0.8501 - val_loss: 0.4846 - val_acc: 0.8600\n",
      "Epoch 19/300\n",
      "8677/8677 [==============================] - 0s 8us/step - loss: 0.4499 - acc: 0.8553 - val_loss: 0.4634 - val_acc: 0.8639\n",
      "Epoch 20/300\n",
      "8677/8677 [==============================] - 0s 8us/step - loss: 0.4339 - acc: 0.8593 - val_loss: 0.4461 - val_acc: 0.8681\n",
      "Epoch 21/300\n",
      "8677/8677 [==============================] - 0s 8us/step - loss: 0.4207 - acc: 0.8597 - val_loss: 0.4232 - val_acc: 0.8762\n",
      "Epoch 22/300\n",
      "8677/8677 [==============================] - 0s 8us/step - loss: 0.4084 - acc: 0.8618 - val_loss: 0.4101 - val_acc: 0.8730\n",
      "Epoch 23/300\n",
      "8677/8677 [==============================] - 0s 9us/step - loss: 0.3971 - acc: 0.8619 - val_loss: 0.3915 - val_acc: 0.8791\n",
      "Epoch 24/300\n",
      "8677/8677 [==============================] - 0s 8us/step - loss: 0.3877 - acc: 0.8639 - val_loss: 0.3810 - val_acc: 0.8831\n",
      "Epoch 25/300\n",
      "8677/8677 [==============================] - 0s 9us/step - loss: 0.3811 - acc: 0.8639 - val_loss: 0.3753 - val_acc: 0.8810\n",
      "Epoch 26/300\n",
      "8677/8677 [==============================] - 0s 8us/step - loss: 0.3745 - acc: 0.8643 - val_loss: 0.3666 - val_acc: 0.8820\n",
      "Epoch 27/300\n",
      "8677/8677 [==============================] - 0s 8us/step - loss: 0.3688 - acc: 0.8649 - val_loss: 0.3647 - val_acc: 0.8818\n",
      "Epoch 28/300\n",
      "8677/8677 [==============================] - 0s 8us/step - loss: 0.3637 - acc: 0.8648 - val_loss: 0.3643 - val_acc: 0.8788\n",
      "Epoch 29/300\n",
      "8677/8677 [==============================] - 0s 8us/step - loss: 0.3593 - acc: 0.8673 - val_loss: 0.3581 - val_acc: 0.8813\n",
      "Epoch 30/300\n",
      "8677/8677 [==============================] - 0s 8us/step - loss: 0.3564 - acc: 0.8675 - val_loss: 0.3486 - val_acc: 0.8850\n",
      "Epoch 31/300\n",
      "8677/8677 [==============================] - 0s 9us/step - loss: 0.3543 - acc: 0.8665 - val_loss: 0.3443 - val_acc: 0.8847\n",
      "Epoch 32/300\n",
      "8677/8677 [==============================] - 0s 8us/step - loss: 0.3513 - acc: 0.8661 - val_loss: 0.3423 - val_acc: 0.8877\n",
      "Epoch 33/300\n",
      "8677/8677 [==============================] - 0s 8us/step - loss: 0.3491 - acc: 0.8670 - val_loss: 0.3434 - val_acc: 0.8879\n",
      "Epoch 34/300\n",
      "8677/8677 [==============================] - 0s 8us/step - loss: 0.3483 - acc: 0.8662 - val_loss: 0.3476 - val_acc: 0.8863\n",
      "Epoch 35/300\n",
      "8677/8677 [==============================] - 0s 8us/step - loss: 0.3455 - acc: 0.8669 - val_loss: 0.3394 - val_acc: 0.8892\n",
      "Epoch 36/300\n",
      "8677/8677 [==============================] - 0s 8us/step - loss: 0.3453 - acc: 0.8666 - val_loss: 0.3417 - val_acc: 0.8870\n",
      "Epoch 37/300\n",
      "8677/8677 [==============================] - 0s 8us/step - loss: 0.3425 - acc: 0.8673 - val_loss: 0.3419 - val_acc: 0.8888\n",
      "Epoch 38/300\n",
      "8677/8677 [==============================] - 0s 8us/step - loss: 0.3401 - acc: 0.8684 - val_loss: 0.3437 - val_acc: 0.8869\n",
      "Epoch 39/300\n",
      "8677/8677 [==============================] - 0s 8us/step - loss: 0.3377 - acc: 0.8695 - val_loss: 0.3398 - val_acc: 0.8873\n",
      "Epoch 40/300\n",
      "8677/8677 [==============================] - 0s 8us/step - loss: 0.3375 - acc: 0.8688 - val_loss: 0.3433 - val_acc: 0.8850\n",
      "Epoch 41/300\n",
      "8677/8677 [==============================] - 0s 8us/step - loss: 0.3339 - acc: 0.8697 - val_loss: 0.3459 - val_acc: 0.8832\n",
      "Epoch 42/300\n",
      "8677/8677 [==============================] - 0s 8us/step - loss: 0.3330 - acc: 0.8701 - val_loss: 0.3458 - val_acc: 0.8857\n",
      "Epoch 43/300\n",
      "8677/8677 [==============================] - 0s 9us/step - loss: 0.3341 - acc: 0.8699 - val_loss: 0.3539 - val_acc: 0.8791\n",
      "Epoch 44/300\n",
      "8677/8677 [==============================] - 0s 8us/step - loss: 0.3301 - acc: 0.8703 - val_loss: 0.3437 - val_acc: 0.8822\n",
      "Epoch 45/300\n",
      "8677/8677 [==============================] - 0s 8us/step - loss: 0.3295 - acc: 0.8703 - val_loss: 0.3403 - val_acc: 0.8861\n"
     ]
    }
   ],
   "source": [
    "es = EarlyStopping(monitor='val_loss', patience=10)\n",
    "\n",
    "history = mod.fit(train_features,\n",
    "            train_targets,\n",
    "            epochs=300,\n",
    "            validation_split=0.1,\n",
    "            batch_size=2000,\n",
    "            callbacks=[es])"
   ]
  },
  {
   "cell_type": "code",
   "execution_count": 112,
   "metadata": {},
   "outputs": [
    {
     "data": {
      "text/plain": [
       "Text(0,0.5,'val accuracy')"
      ]
     },
     "execution_count": 112,
     "metadata": {},
     "output_type": "execute_result"
    },
    {
     "data": {
      "image/png": "[encoded data removed]",
      "text/plain": [
       "<Figure size 432x288 with 2 Axes>"
      ]
     },
     "metadata": {},
     "output_type": "display_data"
    }
   ],
   "source": [
    "fig, ax1 = plt.subplots()\n",
    "_ = ax1.plot(history.history['acc'])\n",
    "ax2 = ax1.twinx()\n",
    "_ = ax2.plot(history.history['val_acc'], c='orange')\n",
    "ax2.set_ylabel('val accuracy')"
   ]
  },
  {
   "cell_type": "markdown",
   "metadata": {},
   "source": [
    "# Went a bit too small, try adding a few layers at the end"
   ]
  },
  {
   "cell_type": "code",
   "execution_count": 116,
   "metadata": {},
   "outputs": [],
   "source": [
    "K.clear_session()\n",
    "\n",
    "timesteps = 1\n",
    "input_dim = train_features.shape[1]\n",
    "output_dim = train_targets.shape[1]\n",
    "\n",
    "inputs = Input(shape=(timesteps*input_dim, ))\n",
    "x = BatchNormalization()(inputs)\n",
    "x = Dense(1000, activation='elu')(x)\n",
    "x = BatchNormalization()(x)\n",
    "x = Dropout(0.5)(x)\n",
    "x = Dense(500, activation='elu')(x)\n",
    "x = BatchNormalization()(x)\n",
    "x = Dropout(0.5)(x)\n",
    "x = Dense(100, activation='elu')(x)\n",
    "x = BatchNormalization()(x)\n",
    "x = Dropout(0.5)(x)\n",
    "x = Dense(10, activation='elu')(x)\n",
    "x = BatchNormalization()(x)\n",
    "x = Dense(output_dim, activation='sigmoid')(x)\n",
    "\n",
    "mod = Model(inputs, x)\n",
    "mod.compile(optimizer='adam', loss='binary_crossentropy', metrics=['accuracy'])"
   ]
  },
  {
   "cell_type": "code",
   "execution_count": 117,
   "metadata": {
    "scrolled": true
   },
   "outputs": [
    {
     "name": "stdout",
     "output_type": "stream",
     "text": [
      "Train on 8677 samples, validate on 965 samples\n",
      "Epoch 1/300\n",
      "8677/8677 [==============================] - 1s 66us/step - loss: 0.7937 - acc: 0.5063 - val_loss: 0.8285 - val_acc: 0.3916\n",
      "Epoch 2/300\n",
      "8677/8677 [==============================] - 0s 9us/step - loss: 0.7477 - acc: 0.5192 - val_loss: 0.8434 - val_acc: 0.4180\n",
      "Epoch 3/300\n",
      "8677/8677 [==============================] - 0s 10us/step - loss: 0.7269 - acc: 0.5299 - val_loss: 0.8104 - val_acc: 0.4279\n",
      "Epoch 4/300\n",
      "8677/8677 [==============================] - 0s 9us/step - loss: 0.7150 - acc: 0.5451 - val_loss: 0.7841 - val_acc: 0.4309\n",
      "Epoch 5/300\n",
      "8677/8677 [==============================] - 0s 10us/step - loss: 0.7058 - acc: 0.5562 - val_loss: 0.7756 - val_acc: 0.4250\n",
      "Epoch 6/300\n",
      "8677/8677 [==============================] - 0s 9us/step - loss: 0.6974 - acc: 0.5672 - val_loss: 0.7684 - val_acc: 0.4204\n",
      "Epoch 7/300\n",
      "8677/8677 [==============================] - 0s 9us/step - loss: 0.6907 - acc: 0.5763 - val_loss: 0.7645 - val_acc: 0.4148\n",
      "Epoch 8/300\n",
      "8677/8677 [==============================] - 0s 10us/step - loss: 0.6850 - acc: 0.5875 - val_loss: 0.7632 - val_acc: 0.4130\n",
      "Epoch 9/300\n",
      "8677/8677 [==============================] - 0s 10us/step - loss: 0.6785 - acc: 0.6005 - val_loss: 0.7578 - val_acc: 0.4148\n",
      "Epoch 10/300\n",
      "8677/8677 [==============================] - 0s 10us/step - loss: 0.6722 - acc: 0.6138 - val_loss: 0.7516 - val_acc: 0.4224\n",
      "Epoch 11/300\n",
      "8677/8677 [==============================] - 0s 9us/step - loss: 0.6675 - acc: 0.6252 - val_loss: 0.7412 - val_acc: 0.4477\n",
      "Epoch 12/300\n",
      "8677/8677 [==============================] - 0s 10us/step - loss: 0.6626 - acc: 0.6387 - val_loss: 0.7360 - val_acc: 0.4594\n",
      "Epoch 13/300\n",
      "8677/8677 [==============================] - 0s 10us/step - loss: 0.6572 - acc: 0.6559 - val_loss: 0.7273 - val_acc: 0.4817\n",
      "Epoch 14/300\n",
      "8677/8677 [==============================] - 0s 9us/step - loss: 0.6523 - acc: 0.6694 - val_loss: 0.7198 - val_acc: 0.4956\n",
      "Epoch 15/300\n",
      "8677/8677 [==============================] - 0s 10us/step - loss: 0.6474 - acc: 0.6827 - val_loss: 0.7141 - val_acc: 0.5120\n",
      "Epoch 16/300\n",
      "8677/8677 [==============================] - 0s 9us/step - loss: 0.6417 - acc: 0.6949 - val_loss: 0.7156 - val_acc: 0.5151\n",
      "Epoch 17/300\n",
      "8677/8677 [==============================] - 0s 10us/step - loss: 0.6369 - acc: 0.7060 - val_loss: 0.7117 - val_acc: 0.5335\n",
      "Epoch 18/300\n",
      "8677/8677 [==============================] - 0s 9us/step - loss: 0.6330 - acc: 0.7144 - val_loss: 0.7056 - val_acc: 0.5462\n",
      "Epoch 19/300\n",
      "8677/8677 [==============================] - 0s 10us/step - loss: 0.6274 - acc: 0.7285 - val_loss: 0.7016 - val_acc: 0.5535\n",
      "Epoch 20/300\n",
      "8677/8677 [==============================] - 0s 9us/step - loss: 0.6219 - acc: 0.7357 - val_loss: 0.6939 - val_acc: 0.5684\n",
      "Epoch 21/300\n",
      "8677/8677 [==============================] - 0s 10us/step - loss: 0.6154 - acc: 0.7448 - val_loss: 0.6877 - val_acc: 0.5856\n",
      "Epoch 22/300\n",
      "8677/8677 [==============================] - 0s 9us/step - loss: 0.6113 - acc: 0.7500 - val_loss: 0.6880 - val_acc: 0.5852\n",
      "Epoch 23/300\n",
      "8677/8677 [==============================] - 0s 10us/step - loss: 0.6061 - acc: 0.7635 - val_loss: 0.6822 - val_acc: 0.6047\n",
      "Epoch 24/300\n",
      "8677/8677 [==============================] - 0s 9us/step - loss: 0.6005 - acc: 0.7695 - val_loss: 0.6628 - val_acc: 0.6513\n",
      "Epoch 25/300\n",
      "8677/8677 [==============================] - 0s 10us/step - loss: 0.5948 - acc: 0.7774 - val_loss: 0.6489 - val_acc: 0.6798\n",
      "Epoch 26/300\n",
      "8677/8677 [==============================] - 0s 10us/step - loss: 0.5873 - acc: 0.7861 - val_loss: 0.6536 - val_acc: 0.6636\n",
      "Epoch 27/300\n",
      "8677/8677 [==============================] - 0s 10us/step - loss: 0.5833 - acc: 0.7867 - val_loss: 0.6547 - val_acc: 0.6616\n",
      "Epoch 28/300\n",
      "8677/8677 [==============================] - 0s 9us/step - loss: 0.5768 - acc: 0.7935 - val_loss: 0.6442 - val_acc: 0.6847\n",
      "Epoch 29/300\n",
      "8677/8677 [==============================] - 0s 9us/step - loss: 0.5705 - acc: 0.7980 - val_loss: 0.6233 - val_acc: 0.7178\n",
      "Epoch 30/300\n",
      "8677/8677 [==============================] - 0s 9us/step - loss: 0.5638 - acc: 0.8046 - val_loss: 0.6089 - val_acc: 0.7454\n",
      "Epoch 31/300\n",
      "8677/8677 [==============================] - 0s 9us/step - loss: 0.5583 - acc: 0.8088 - val_loss: 0.6064 - val_acc: 0.7475\n",
      "Epoch 32/300\n",
      "8677/8677 [==============================] - 0s 9us/step - loss: 0.5516 - acc: 0.8146 - val_loss: 0.5994 - val_acc: 0.7602\n",
      "Epoch 33/300\n",
      "8677/8677 [==============================] - 0s 10us/step - loss: 0.5460 - acc: 0.8176 - val_loss: 0.5884 - val_acc: 0.7654\n",
      "Epoch 34/300\n",
      "8677/8677 [==============================] - 0s 9us/step - loss: 0.5383 - acc: 0.8233 - val_loss: 0.5795 - val_acc: 0.7699\n",
      "Epoch 35/300\n",
      "8677/8677 [==============================] - 0s 9us/step - loss: 0.5317 - acc: 0.8251 - val_loss: 0.5677 - val_acc: 0.7909\n",
      "Epoch 36/300\n",
      "8677/8677 [==============================] - 0s 9us/step - loss: 0.5243 - acc: 0.8302 - val_loss: 0.5648 - val_acc: 0.7937\n",
      "Epoch 37/300\n",
      "8677/8677 [==============================] - 0s 9us/step - loss: 0.5184 - acc: 0.8304 - val_loss: 0.5647 - val_acc: 0.7891\n",
      "Epoch 38/300\n",
      "8677/8677 [==============================] - 0s 9us/step - loss: 0.5127 - acc: 0.8331 - val_loss: 0.5559 - val_acc: 0.8005\n",
      "Epoch 39/300\n",
      "8677/8677 [==============================] - 0s 8us/step - loss: 0.5046 - acc: 0.8383 - val_loss: 0.5312 - val_acc: 0.8283\n",
      "Epoch 40/300\n",
      "8677/8677 [==============================] - 0s 9us/step - loss: 0.4998 - acc: 0.8393 - val_loss: 0.5234 - val_acc: 0.8275\n",
      "Epoch 41/300\n",
      "8677/8677 [==============================] - 0s 9us/step - loss: 0.4927 - acc: 0.8433 - val_loss: 0.5269 - val_acc: 0.8227\n",
      "Epoch 42/300\n",
      "8677/8677 [==============================] - 0s 8us/step - loss: 0.4853 - acc: 0.8462 - val_loss: 0.5214 - val_acc: 0.8315\n",
      "Epoch 43/300\n",
      "8677/8677 [==============================] - 0s 9us/step - loss: 0.4794 - acc: 0.8451 - val_loss: 0.5135 - val_acc: 0.8319\n",
      "Epoch 44/300\n",
      "8677/8677 [==============================] - 0s 9us/step - loss: 0.4742 - acc: 0.8460 - val_loss: 0.4984 - val_acc: 0.8446\n",
      "Epoch 45/300\n",
      "8677/8677 [==============================] - 0s 10us/step - loss: 0.4678 - acc: 0.8487 - val_loss: 0.4874 - val_acc: 0.8530\n",
      "Epoch 46/300\n",
      "8677/8677 [==============================] - 0s 9us/step - loss: 0.4612 - acc: 0.8506 - val_loss: 0.4931 - val_acc: 0.8444\n",
      "Epoch 47/300\n",
      "8677/8677 [==============================] - 0s 9us/step - loss: 0.4576 - acc: 0.8509 - val_loss: 0.4840 - val_acc: 0.8494\n",
      "Epoch 48/300\n",
      "8677/8677 [==============================] - 0s 9us/step - loss: 0.4496 - acc: 0.8527 - val_loss: 0.4932 - val_acc: 0.8410\n",
      "Epoch 49/300\n",
      "8677/8677 [==============================] - 0s 9us/step - loss: 0.4436 - acc: 0.8542 - val_loss: 0.4735 - val_acc: 0.8525\n",
      "Epoch 50/300\n",
      "8677/8677 [==============================] - 0s 9us/step - loss: 0.4386 - acc: 0.8554 - val_loss: 0.4559 - val_acc: 0.8633\n",
      "Epoch 51/300\n",
      "8677/8677 [==============================] - 0s 9us/step - loss: 0.4343 - acc: 0.8549 - val_loss: 0.4751 - val_acc: 0.8493\n",
      "Epoch 52/300\n",
      "8677/8677 [==============================] - 0s 9us/step - loss: 0.4287 - acc: 0.8561 - val_loss: 0.4728 - val_acc: 0.8501\n",
      "Epoch 53/300\n",
      "8677/8677 [==============================] - 0s 11us/step - loss: 0.4234 - acc: 0.8576 - val_loss: 0.4498 - val_acc: 0.8613\n",
      "Epoch 54/300\n",
      "8677/8677 [==============================] - 0s 9us/step - loss: 0.4185 - acc: 0.8589 - val_loss: 0.4546 - val_acc: 0.8597\n",
      "Epoch 55/300\n",
      "8677/8677 [==============================] - 0s 9us/step - loss: 0.4155 - acc: 0.8576 - val_loss: 0.4444 - val_acc: 0.8653\n",
      "Epoch 56/300\n",
      "8677/8677 [==============================] - 0s 9us/step - loss: 0.4093 - acc: 0.8616 - val_loss: 0.4486 - val_acc: 0.8589\n",
      "Epoch 57/300\n",
      "8677/8677 [==============================] - 0s 9us/step - loss: 0.4051 - acc: 0.8613 - val_loss: 0.4397 - val_acc: 0.8644\n",
      "Epoch 58/300\n",
      "8677/8677 [==============================] - 0s 9us/step - loss: 0.4014 - acc: 0.8610 - val_loss: 0.4332 - val_acc: 0.8666\n",
      "Epoch 59/300\n",
      "8677/8677 [==============================] - 0s 8us/step - loss: 0.3978 - acc: 0.8632 - val_loss: 0.4175 - val_acc: 0.8704\n",
      "Epoch 60/300\n",
      "8677/8677 [==============================] - 0s 9us/step - loss: 0.3935 - acc: 0.8617 - val_loss: 0.4254 - val_acc: 0.8670\n"
     ]
    },
    {
     "name": "stdout",
     "output_type": "stream",
     "text": [
      "Epoch 61/300\n",
      "8677/8677 [==============================] - 0s 9us/step - loss: 0.3895 - acc: 0.8651 - val_loss: 0.4268 - val_acc: 0.8611\n",
      "Epoch 62/300\n",
      "8677/8677 [==============================] - 0s 9us/step - loss: 0.3865 - acc: 0.8648 - val_loss: 0.4128 - val_acc: 0.8683\n",
      "Epoch 63/300\n",
      "8677/8677 [==============================] - 0s 8us/step - loss: 0.3846 - acc: 0.8643 - val_loss: 0.4097 - val_acc: 0.8710\n",
      "Epoch 64/300\n",
      "8677/8677 [==============================] - 0s 8us/step - loss: 0.3800 - acc: 0.8653 - val_loss: 0.4263 - val_acc: 0.8587\n",
      "Epoch 65/300\n",
      "8677/8677 [==============================] - 0s 9us/step - loss: 0.3782 - acc: 0.8649 - val_loss: 0.4060 - val_acc: 0.8704\n",
      "Epoch 66/300\n",
      "8677/8677 [==============================] - 0s 9us/step - loss: 0.3731 - acc: 0.8667 - val_loss: 0.4046 - val_acc: 0.8719\n",
      "Epoch 67/300\n",
      "8677/8677 [==============================] - 0s 9us/step - loss: 0.3729 - acc: 0.8665 - val_loss: 0.3944 - val_acc: 0.8779\n",
      "Epoch 68/300\n",
      "8677/8677 [==============================] - 0s 8us/step - loss: 0.3679 - acc: 0.8681 - val_loss: 0.4061 - val_acc: 0.8665\n",
      "Epoch 69/300\n",
      "8677/8677 [==============================] - 0s 9us/step - loss: 0.3657 - acc: 0.8682 - val_loss: 0.3969 - val_acc: 0.8680\n",
      "Epoch 70/300\n",
      "8677/8677 [==============================] - 0s 9us/step - loss: 0.3643 - acc: 0.8691 - val_loss: 0.3986 - val_acc: 0.8693\n",
      "Epoch 71/300\n",
      "8677/8677 [==============================] - 0s 9us/step - loss: 0.3623 - acc: 0.8674 - val_loss: 0.3942 - val_acc: 0.8697\n",
      "Epoch 72/300\n",
      "8677/8677 [==============================] - 0s 9us/step - loss: 0.3583 - acc: 0.8693 - val_loss: 0.3881 - val_acc: 0.8726\n",
      "Epoch 73/300\n",
      "8677/8677 [==============================] - 0s 9us/step - loss: 0.3570 - acc: 0.8686 - val_loss: 0.3835 - val_acc: 0.8751\n",
      "Epoch 74/300\n",
      "8677/8677 [==============================] - 0s 9us/step - loss: 0.3555 - acc: 0.8685 - val_loss: 0.3821 - val_acc: 0.8765\n",
      "Epoch 75/300\n",
      "8677/8677 [==============================] - 0s 9us/step - loss: 0.3527 - acc: 0.8693 - val_loss: 0.3779 - val_acc: 0.8769\n",
      "Epoch 76/300\n",
      "8677/8677 [==============================] - 0s 9us/step - loss: 0.3496 - acc: 0.8707 - val_loss: 0.3752 - val_acc: 0.8767\n",
      "Epoch 77/300\n",
      "8677/8677 [==============================] - 0s 9us/step - loss: 0.3495 - acc: 0.8697 - val_loss: 0.3845 - val_acc: 0.8721\n",
      "Epoch 78/300\n",
      "8677/8677 [==============================] - 0s 9us/step - loss: 0.3463 - acc: 0.8715 - val_loss: 0.3752 - val_acc: 0.8764\n",
      "Epoch 79/300\n",
      "8677/8677 [==============================] - 0s 10us/step - loss: 0.3450 - acc: 0.8723 - val_loss: 0.3724 - val_acc: 0.8772\n",
      "Epoch 80/300\n",
      "8677/8677 [==============================] - 0s 9us/step - loss: 0.3446 - acc: 0.8718 - val_loss: 0.3721 - val_acc: 0.8760\n",
      "Epoch 81/300\n",
      "8677/8677 [==============================] - 0s 9us/step - loss: 0.3426 - acc: 0.8720 - val_loss: 0.3753 - val_acc: 0.8691\n",
      "Epoch 82/300\n",
      "8677/8677 [==============================] - 0s 9us/step - loss: 0.3411 - acc: 0.8712 - val_loss: 0.3702 - val_acc: 0.8716\n",
      "Epoch 83/300\n",
      "8677/8677 [==============================] - 0s 10us/step - loss: 0.3394 - acc: 0.8731 - val_loss: 0.3703 - val_acc: 0.8718\n",
      "Epoch 84/300\n",
      "8677/8677 [==============================] - 0s 10us/step - loss: 0.3385 - acc: 0.8728 - val_loss: 0.3768 - val_acc: 0.8679\n",
      "Epoch 85/300\n",
      "8677/8677 [==============================] - 0s 9us/step - loss: 0.3370 - acc: 0.8730 - val_loss: 0.3816 - val_acc: 0.8648\n",
      "Epoch 86/300\n",
      "8677/8677 [==============================] - 0s 9us/step - loss: 0.3374 - acc: 0.8725 - val_loss: 0.3771 - val_acc: 0.8687\n",
      "Epoch 87/300\n",
      "8677/8677 [==============================] - 0s 9us/step - loss: 0.3334 - acc: 0.8735 - val_loss: 0.3812 - val_acc: 0.8625\n",
      "Epoch 88/300\n",
      "8677/8677 [==============================] - 0s 9us/step - loss: 0.3325 - acc: 0.8758 - val_loss: 0.3899 - val_acc: 0.8553\n",
      "Epoch 89/300\n",
      "8677/8677 [==============================] - 0s 9us/step - loss: 0.3336 - acc: 0.8732 - val_loss: 0.3775 - val_acc: 0.8632\n",
      "Epoch 90/300\n",
      "8677/8677 [==============================] - 0s 9us/step - loss: 0.3316 - acc: 0.8743 - val_loss: 0.3755 - val_acc: 0.8627\n",
      "Epoch 91/300\n",
      "8677/8677 [==============================] - 0s 8us/step - loss: 0.3303 - acc: 0.8742 - val_loss: 0.3732 - val_acc: 0.8644\n",
      "Epoch 92/300\n",
      "8677/8677 [==============================] - 0s 9us/step - loss: 0.3295 - acc: 0.8749 - val_loss: 0.3802 - val_acc: 0.8577\n"
     ]
    }
   ],
   "source": [
    "es = EarlyStopping(monitor='val_loss', patience=10)\n",
    "\n",
    "history = mod.fit(train_features,\n",
    "            train_targets,\n",
    "            epochs=300,\n",
    "            validation_split=0.1,\n",
    "            batch_size=2000,\n",
    "            callbacks=[es])"
   ]
  },
  {
   "cell_type": "code",
   "execution_count": 118,
   "metadata": {},
   "outputs": [
    {
     "data": {
      "text/plain": [
       "Text(0,0.5,'val accuracy')"
      ]
     },
     "execution_count": 118,
     "metadata": {},
     "output_type": "execute_result"
    },
    {
     "data": {
      "image/png": "[encoded data removed]",
      "text/plain": [
       "<Figure size 432x288 with 2 Axes>"
      ]
     },
     "metadata": {},
     "output_type": "display_data"
    }
   ],
   "source": [
    "fig, ax1 = plt.subplots()\n",
    "_ = ax1.plot(history.history['acc'])\n",
    "ax2 = ax1.twinx()\n",
    "_ = ax2.plot(history.history['val_acc'], c='orange')\n",
    "ax2.set_ylabel('val accuracy')"
   ]
  },
  {
   "cell_type": "markdown",
   "metadata": {},
   "source": [
    "# try halfway between input (about 150) and output (about 10) dimensions"
   ]
  },
  {
   "cell_type": "code",
   "execution_count": 137,
   "metadata": {},
   "outputs": [],
   "source": [
    "K.clear_session()\n",
    "\n",
    "timesteps = 1\n",
    "input_dim = train_features.shape[1]\n",
    "output_dim = train_targets.shape[1]\n",
    "\n",
    "inputs = Input(shape=(timesteps*input_dim, ))\n",
    "x = BatchNormalization()(inputs)\n",
    "x = Dense(500, activation='elu')(x)\n",
    "x = BatchNormalization()(x)\n",
    "x = Dropout(0.5)(x)\n",
    "x = Dense(100, activation='elu')(x)\n",
    "x = BatchNormalization()(x)\n",
    "x = Dropout(0.2)(x)\n",
    "x = Dense(50, activation='elu')(x)\n",
    "x = BatchNormalization()(x)\n",
    "x = Dropout(0.1)(x)\n",
    "x = Dense(20, activation='elu')(x)\n",
    "x = BatchNormalization()(x)\n",
    "x = Dense(output_dim, activation='sigmoid')(x)\n",
    "\n",
    "mod = Model(inputs, x)\n",
    "mod.compile(optimizer='adam', loss='binary_crossentropy', metrics=['accuracy'])"
   ]
  },
  {
   "cell_type": "code",
   "execution_count": 138,
   "metadata": {
    "scrolled": true
   },
   "outputs": [
    {
     "name": "stdout",
     "output_type": "stream",
     "text": [
      "Train on 8677 samples, validate on 965 samples\n",
      "Epoch 1/300\n",
      "8677/8677 [==============================] - 1s 98us/step - loss: 0.8038 - acc: 0.4971 - val_loss: 0.7767 - val_acc: 0.4307\n",
      "Epoch 2/300\n",
      "8677/8677 [==============================] - 0s 9us/step - loss: 0.7506 - acc: 0.5010 - val_loss: 0.7611 - val_acc: 0.4395\n",
      "Epoch 3/300\n",
      "8677/8677 [==============================] - 0s 9us/step - loss: 0.7222 - acc: 0.5101 - val_loss: 0.7593 - val_acc: 0.4451\n",
      "Epoch 4/300\n",
      "8677/8677 [==============================] - 0s 9us/step - loss: 0.7063 - acc: 0.5230 - val_loss: 0.7533 - val_acc: 0.4505\n",
      "Epoch 5/300\n",
      "8677/8677 [==============================] - 0s 9us/step - loss: 0.6977 - acc: 0.5361 - val_loss: 0.7456 - val_acc: 0.4461\n",
      "Epoch 6/300\n",
      "8677/8677 [==============================] - 0s 9us/step - loss: 0.6888 - acc: 0.5519 - val_loss: 0.7384 - val_acc: 0.4493\n",
      "Epoch 7/300\n",
      "8677/8677 [==============================] - 0s 9us/step - loss: 0.6827 - acc: 0.5640 - val_loss: 0.7363 - val_acc: 0.4432\n",
      "Epoch 8/300\n",
      "8677/8677 [==============================] - 0s 8us/step - loss: 0.6763 - acc: 0.5833 - val_loss: 0.7335 - val_acc: 0.4413\n",
      "Epoch 9/300\n",
      "8677/8677 [==============================] - 0s 9us/step - loss: 0.6700 - acc: 0.6014 - val_loss: 0.7322 - val_acc: 0.4425\n",
      "Epoch 10/300\n",
      "8677/8677 [==============================] - 0s 9us/step - loss: 0.6641 - acc: 0.6197 - val_loss: 0.7292 - val_acc: 0.4458\n",
      "Epoch 11/300\n",
      "8677/8677 [==============================] - 0s 8us/step - loss: 0.6585 - acc: 0.6373 - val_loss: 0.7248 - val_acc: 0.4513\n",
      "Epoch 12/300\n",
      "8677/8677 [==============================] - 0s 8us/step - loss: 0.6525 - acc: 0.6510 - val_loss: 0.7214 - val_acc: 0.4585\n",
      "Epoch 13/300\n",
      "8677/8677 [==============================] - 0s 9us/step - loss: 0.6453 - acc: 0.6725 - val_loss: 0.7182 - val_acc: 0.4648\n",
      "Epoch 14/300\n",
      "8677/8677 [==============================] - 0s 8us/step - loss: 0.6396 - acc: 0.6888 - val_loss: 0.7138 - val_acc: 0.4769\n",
      "Epoch 15/300\n",
      "8677/8677 [==============================] - 0s 8us/step - loss: 0.6320 - acc: 0.7045 - val_loss: 0.7084 - val_acc: 0.4949\n",
      "Epoch 16/300\n",
      "8677/8677 [==============================] - 0s 9us/step - loss: 0.6247 - acc: 0.7187 - val_loss: 0.6996 - val_acc: 0.5260\n",
      "Epoch 17/300\n",
      "8677/8677 [==============================] - 0s 8us/step - loss: 0.6168 - acc: 0.7348 - val_loss: 0.6915 - val_acc: 0.5540\n",
      "Epoch 18/300\n",
      "8677/8677 [==============================] - 0s 8us/step - loss: 0.6089 - acc: 0.7474 - val_loss: 0.6849 - val_acc: 0.5756\n",
      "Epoch 19/300\n",
      "8677/8677 [==============================] - 0s 8us/step - loss: 0.6008 - acc: 0.7619 - val_loss: 0.6696 - val_acc: 0.6215\n",
      "Epoch 20/300\n",
      "8677/8677 [==============================] - 0s 9us/step - loss: 0.5936 - acc: 0.7729 - val_loss: 0.6532 - val_acc: 0.6696\n",
      "Epoch 21/300\n",
      "8677/8677 [==============================] - 0s 8us/step - loss: 0.5839 - acc: 0.7855 - val_loss: 0.6362 - val_acc: 0.7065\n",
      "Epoch 22/300\n",
      "8677/8677 [==============================] - 0s 8us/step - loss: 0.5749 - acc: 0.7963 - val_loss: 0.6195 - val_acc: 0.7417\n",
      "Epoch 23/300\n",
      "8677/8677 [==============================] - 0s 8us/step - loss: 0.5648 - acc: 0.8091 - val_loss: 0.6114 - val_acc: 0.7582\n",
      "Epoch 24/300\n",
      "8677/8677 [==============================] - 0s 8us/step - loss: 0.5560 - acc: 0.8139 - val_loss: 0.6028 - val_acc: 0.7695\n",
      "Epoch 25/300\n",
      "8677/8677 [==============================] - 0s 8us/step - loss: 0.5453 - acc: 0.8206 - val_loss: 0.5880 - val_acc: 0.7905\n",
      "Epoch 26/300\n",
      "8677/8677 [==============================] - 0s 9us/step - loss: 0.5358 - acc: 0.8297 - val_loss: 0.5640 - val_acc: 0.8223\n",
      "Epoch 27/300\n",
      "8677/8677 [==============================] - 0s 9us/step - loss: 0.5244 - acc: 0.8367 - val_loss: 0.5498 - val_acc: 0.8332\n",
      "Epoch 28/300\n",
      "8677/8677 [==============================] - 0s 8us/step - loss: 0.5149 - acc: 0.8422 - val_loss: 0.5392 - val_acc: 0.8442\n",
      "Epoch 29/300\n",
      "8677/8677 [==============================] - 0s 8us/step - loss: 0.5053 - acc: 0.8439 - val_loss: 0.5316 - val_acc: 0.8435\n",
      "Epoch 30/300\n",
      "8677/8677 [==============================] - 0s 8us/step - loss: 0.4956 - acc: 0.8472 - val_loss: 0.5162 - val_acc: 0.8546\n",
      "Epoch 31/300\n",
      "8677/8677 [==============================] - 0s 9us/step - loss: 0.4867 - acc: 0.8490 - val_loss: 0.5046 - val_acc: 0.8635\n",
      "Epoch 32/300\n",
      "8677/8677 [==============================] - 0s 9us/step - loss: 0.4757 - acc: 0.8545 - val_loss: 0.4977 - val_acc: 0.8656\n",
      "Epoch 33/300\n",
      "8677/8677 [==============================] - 0s 8us/step - loss: 0.4678 - acc: 0.8554 - val_loss: 0.4941 - val_acc: 0.8600\n",
      "Epoch 34/300\n",
      "8677/8677 [==============================] - 0s 8us/step - loss: 0.4588 - acc: 0.8565 - val_loss: 0.4985 - val_acc: 0.8518\n",
      "Epoch 35/300\n",
      "8677/8677 [==============================] - 0s 8us/step - loss: 0.4515 - acc: 0.8567 - val_loss: 0.4828 - val_acc: 0.8609\n",
      "Epoch 36/300\n",
      "8677/8677 [==============================] - 0s 7us/step - loss: 0.4431 - acc: 0.8593 - val_loss: 0.4558 - val_acc: 0.8755\n",
      "Epoch 37/300\n",
      "8677/8677 [==============================] - 0s 8us/step - loss: 0.4352 - acc: 0.8602 - val_loss: 0.4390 - val_acc: 0.8800\n",
      "Epoch 38/300\n",
      "8677/8677 [==============================] - 0s 9us/step - loss: 0.4282 - acc: 0.8596 - val_loss: 0.4362 - val_acc: 0.8743\n",
      "Epoch 39/300\n",
      "8677/8677 [==============================] - 0s 9us/step - loss: 0.4212 - acc: 0.8613 - val_loss: 0.4313 - val_acc: 0.8732\n",
      "Epoch 40/300\n",
      "8677/8677 [==============================] - 0s 8us/step - loss: 0.4159 - acc: 0.8624 - val_loss: 0.4247 - val_acc: 0.8758\n",
      "Epoch 41/300\n",
      "8677/8677 [==============================] - 0s 8us/step - loss: 0.4093 - acc: 0.8640 - val_loss: 0.4182 - val_acc: 0.8770\n",
      "Epoch 42/300\n",
      "8677/8677 [==============================] - 0s 8us/step - loss: 0.4048 - acc: 0.8647 - val_loss: 0.4127 - val_acc: 0.8766\n",
      "Epoch 43/300\n",
      "8677/8677 [==============================] - 0s 8us/step - loss: 0.4003 - acc: 0.8629 - val_loss: 0.4056 - val_acc: 0.8763\n",
      "Epoch 44/300\n",
      "8677/8677 [==============================] - 0s 8us/step - loss: 0.3951 - acc: 0.8635 - val_loss: 0.4005 - val_acc: 0.8796\n",
      "Epoch 45/300\n",
      "8677/8677 [==============================] - 0s 9us/step - loss: 0.3904 - acc: 0.8659 - val_loss: 0.4041 - val_acc: 0.8777\n",
      "Epoch 46/300\n",
      "8677/8677 [==============================] - 0s 8us/step - loss: 0.3861 - acc: 0.8653 - val_loss: 0.4015 - val_acc: 0.8771\n",
      "Epoch 47/300\n",
      "8677/8677 [==============================] - 0s 8us/step - loss: 0.3837 - acc: 0.8652 - val_loss: 0.3934 - val_acc: 0.8783\n",
      "Epoch 48/300\n",
      "8677/8677 [==============================] - 0s 8us/step - loss: 0.3791 - acc: 0.8661 - val_loss: 0.3906 - val_acc: 0.8782\n",
      "Epoch 49/300\n",
      "8677/8677 [==============================] - 0s 8us/step - loss: 0.3769 - acc: 0.8650 - val_loss: 0.3904 - val_acc: 0.8797\n",
      "Epoch 50/300\n",
      "8677/8677 [==============================] - 0s 8us/step - loss: 0.3737 - acc: 0.8664 - val_loss: 0.3904 - val_acc: 0.8804\n",
      "Epoch 51/300\n",
      "8677/8677 [==============================] - 0s 9us/step - loss: 0.3695 - acc: 0.8667 - val_loss: 0.3878 - val_acc: 0.8782\n",
      "Epoch 52/300\n",
      "8677/8677 [==============================] - 0s 8us/step - loss: 0.3676 - acc: 0.8665 - val_loss: 0.3782 - val_acc: 0.8806\n",
      "Epoch 53/300\n",
      "8677/8677 [==============================] - 0s 9us/step - loss: 0.3661 - acc: 0.8667 - val_loss: 0.3743 - val_acc: 0.8830\n",
      "Epoch 54/300\n",
      "8677/8677 [==============================] - 0s 8us/step - loss: 0.3630 - acc: 0.8675 - val_loss: 0.3762 - val_acc: 0.8813\n",
      "Epoch 55/300\n",
      "8677/8677 [==============================] - 0s 8us/step - loss: 0.3604 - acc: 0.8676 - val_loss: 0.3659 - val_acc: 0.8853\n",
      "Epoch 56/300\n",
      "8677/8677 [==============================] - 0s 9us/step - loss: 0.3597 - acc: 0.8681 - val_loss: 0.3618 - val_acc: 0.8833\n",
      "Epoch 57/300\n",
      "8677/8677 [==============================] - 0s 8us/step - loss: 0.3578 - acc: 0.8674 - val_loss: 0.3601 - val_acc: 0.8825\n",
      "Epoch 58/300\n",
      "8677/8677 [==============================] - 0s 8us/step - loss: 0.3560 - acc: 0.8678 - val_loss: 0.3624 - val_acc: 0.8818\n",
      "Epoch 59/300\n",
      "8677/8677 [==============================] - 0s 9us/step - loss: 0.3545 - acc: 0.8672 - val_loss: 0.3687 - val_acc: 0.8802\n",
      "Epoch 60/300\n",
      "8677/8677 [==============================] - 0s 9us/step - loss: 0.3508 - acc: 0.8686 - val_loss: 0.3662 - val_acc: 0.8811\n"
     ]
    },
    {
     "name": "stdout",
     "output_type": "stream",
     "text": [
      "Epoch 61/300\n",
      "8677/8677 [==============================] - 0s 8us/step - loss: 0.3501 - acc: 0.8677 - val_loss: 0.3628 - val_acc: 0.8805\n",
      "Epoch 62/300\n",
      "8677/8677 [==============================] - 0s 9us/step - loss: 0.3482 - acc: 0.8686 - val_loss: 0.3593 - val_acc: 0.8837\n",
      "Epoch 63/300\n",
      "8677/8677 [==============================] - 0s 9us/step - loss: 0.3478 - acc: 0.8694 - val_loss: 0.3659 - val_acc: 0.8823\n",
      "Epoch 64/300\n",
      "8677/8677 [==============================] - 0s 8us/step - loss: 0.3458 - acc: 0.8708 - val_loss: 0.3654 - val_acc: 0.8804\n",
      "Epoch 65/300\n",
      "8677/8677 [==============================] - 0s 9us/step - loss: 0.3450 - acc: 0.8684 - val_loss: 0.3591 - val_acc: 0.8812\n",
      "Epoch 66/300\n",
      "8677/8677 [==============================] - 0s 8us/step - loss: 0.3436 - acc: 0.8702 - val_loss: 0.3619 - val_acc: 0.8791\n",
      "Epoch 67/300\n",
      "8677/8677 [==============================] - 0s 9us/step - loss: 0.3418 - acc: 0.8702 - val_loss: 0.3649 - val_acc: 0.8777\n",
      "Epoch 68/300\n",
      "8677/8677 [==============================] - 0s 8us/step - loss: 0.3403 - acc: 0.8709 - val_loss: 0.3657 - val_acc: 0.8801\n",
      "Epoch 69/300\n",
      "8677/8677 [==============================] - 0s 8us/step - loss: 0.3383 - acc: 0.8708 - val_loss: 0.3601 - val_acc: 0.8825\n",
      "Epoch 70/300\n",
      "8677/8677 [==============================] - 0s 9us/step - loss: 0.3381 - acc: 0.8706 - val_loss: 0.3657 - val_acc: 0.8765\n",
      "Epoch 71/300\n",
      "8677/8677 [==============================] - 0s 8us/step - loss: 0.3374 - acc: 0.8712 - val_loss: 0.3632 - val_acc: 0.8761\n",
      "Epoch 72/300\n",
      "8677/8677 [==============================] - 0s 8us/step - loss: 0.3334 - acc: 0.8720 - val_loss: 0.3601 - val_acc: 0.8787\n",
      "Epoch 73/300\n",
      "8677/8677 [==============================] - 0s 9us/step - loss: 0.3343 - acc: 0.8724 - val_loss: 0.3655 - val_acc: 0.8751\n",
      "Epoch 74/300\n",
      "8677/8677 [==============================] - 0s 8us/step - loss: 0.3340 - acc: 0.8707 - val_loss: 0.3636 - val_acc: 0.8782\n",
      "Epoch 75/300\n",
      "8677/8677 [==============================] - 0s 8us/step - loss: 0.3309 - acc: 0.8738 - val_loss: 0.3645 - val_acc: 0.8747\n"
     ]
    }
   ],
   "source": [
    "es = EarlyStopping(monitor='val_loss', patience=10)\n",
    "\n",
    "history = mod.fit(train_features,\n",
    "            train_targets,\n",
    "            epochs=300,\n",
    "            validation_split=0.1,\n",
    "            batch_size=2000,\n",
    "            callbacks=[es])"
   ]
  },
  {
   "cell_type": "code",
   "execution_count": 139,
   "metadata": {},
   "outputs": [
    {
     "data": {
      "text/plain": [
       "Text(0,0.5,'val accuracy')"
      ]
     },
     "execution_count": 139,
     "metadata": {},
     "output_type": "execute_result"
    },
    {
     "data": {
      "image/png": "[encoded data removed]",
      "text/plain": [
       "<Figure size 432x288 with 2 Axes>"
      ]
     },
     "metadata": {},
     "output_type": "display_data"
    }
   ],
   "source": [
    "fig, ax1 = plt.subplots()\n",
    "_ = ax1.plot(history.history['acc'])\n",
    "ax2 = ax1.twinx()\n",
    "_ = ax2.plot(history.history['val_acc'], c='orange')\n",
    "ax2.set_ylabel('val accuracy')"
   ]
  },
  {
   "cell_type": "markdown",
   "metadata": {},
   "source": [
    "# combine data from oldest stocks into giant feature/training set -- use all stocks' features as features"
   ]
  },
  {
   "cell_type": "code",
   "execution_count": 141,
   "metadata": {},
   "outputs": [],
   "source": [
    "feat_labels = []\n",
    "targ_labels = []\n",
    "features = None\n",
    "for s in earliest_dfs.keys():\n",
    "    targ_cols = [c for c in earliest_dfs[s].columns if 'f=' in c]\n",
    "    feat_cols = [c for c in earliest_dfs[s].columns if c not in set(targ_cols)]\n",
    "    no_missing = earliest_dfs[s].dropna()\n",
    "    s_features = no_missing[feat_cols]\n",
    "    feat_labels.extend([s + '_' + c for c in s_features.columns.tolist()])\n",
    "    s_targets = no_missing[targ_cols]\n",
    "    targ_labels.extend([s + '_' + c for c in s_targets.columns.tolist()])\n",
    "    if features is None:\n",
    "        features = s_features.values\n",
    "        targets = s_targets.values\n",
    "    else:\n",
    "        features = np.hstack((features, s_features))\n",
    "        targets = np.hstack((targets, s_targets))\n",
    "\n",
    "train_size = int(features.shape[0] * train_frac)\n",
    "train_features = features[:train_size]\n",
    "test_features = features[train_size:]\n",
    "train_targets = targets[:train_size]\n",
    "test_targets = targets[train_size:]"
   ]
  },
  {
   "cell_type": "code",
   "execution_count": 142,
   "metadata": {},
   "outputs": [
    {
     "data": {
      "text/plain": [
       "(12053, 3381)"
      ]
     },
     "execution_count": 142,
     "metadata": {},
     "output_type": "execute_result"
    }
   ],
   "source": [
    "features.shape"
   ]
  },
  {
   "cell_type": "code",
   "execution_count": 143,
   "metadata": {},
   "outputs": [
    {
     "data": {
      "text/plain": [
       "(12053, 230)"
      ]
     },
     "execution_count": 143,
     "metadata": {},
     "output_type": "execute_result"
    }
   ],
   "source": [
    "targets.shape"
   ]
  },
  {
   "cell_type": "code",
   "execution_count": 144,
   "metadata": {},
   "outputs": [],
   "source": [
    "K.clear_session()\n",
    "\n",
    "timesteps = 1\n",
    "input_dim = train_features.shape[1]\n",
    "output_dim = train_targets.shape[1]\n",
    "\n",
    "inputs = Input(shape=(timesteps*input_dim, ))\n",
    "x = BatchNormalization()(inputs)\n",
    "x = Dense(3000, activation='elu')(x)\n",
    "x = BatchNormalization()(x)\n",
    "x = Dropout(0.4)(x)\n",
    "x = Dense(2000, activation='elu')(x)\n",
    "x = BatchNormalization()(x)\n",
    "x = Dropout(0.3)(x)\n",
    "x = Dense(1000, activation='elu')(x)\n",
    "x = BatchNormalization()(x)\n",
    "x = Dropout(0.2)(x)\n",
    "x = Dense(500, activation='elu')(x)\n",
    "x = BatchNormalization()(x)\n",
    "x = Dropout(0.1)(x)\n",
    "x = Dense(100, activation='elu')(x)\n",
    "x = BatchNormalization()(x)\n",
    "x = Dense(output_dim, activation='sigmoid')(x)\n",
    "\n",
    "mod = Model(inputs, x)\n",
    "mod.compile(optimizer='adam', loss='binary_crossentropy', metrics=['accuracy'])"
   ]
  },
  {
   "cell_type": "code",
   "execution_count": 145,
   "metadata": {
    "scrolled": true
   },
   "outputs": [
    {
     "name": "stdout",
     "output_type": "stream",
     "text": [
      "Train on 8677 samples, validate on 965 samples\n",
      "Epoch 1/300\n",
      "8677/8677 [==============================] - 1s 172us/step - loss: 0.7410 - acc: 0.5100 - val_loss: 0.8408 - val_acc: 0.4986\n",
      "Epoch 2/300\n",
      "8677/8677 [==============================] - 1s 89us/step - loss: 0.7050 - acc: 0.5294 - val_loss: 0.8070 - val_acc: 0.4981\n",
      "Epoch 3/300\n",
      "8677/8677 [==============================] - 1s 87us/step - loss: 0.6904 - acc: 0.5532 - val_loss: 0.7665 - val_acc: 0.5045\n",
      "Epoch 4/300\n",
      "8677/8677 [==============================] - 1s 89us/step - loss: 0.6807 - acc: 0.5850 - val_loss: 0.7078 - val_acc: 0.5608\n",
      "Epoch 5/300\n",
      "8677/8677 [==============================] - 1s 90us/step - loss: 0.6714 - acc: 0.6204 - val_loss: 0.6639 - val_acc: 0.6406\n",
      "Epoch 6/300\n",
      "8677/8677 [==============================] - 1s 90us/step - loss: 0.6608 - acc: 0.6618 - val_loss: 0.6867 - val_acc: 0.6487\n",
      "Epoch 7/300\n",
      "8677/8677 [==============================] - 1s 87us/step - loss: 0.6498 - acc: 0.7039 - val_loss: 0.6164 - val_acc: 0.7957\n",
      "Epoch 8/300\n",
      "8677/8677 [==============================] - 1s 88us/step - loss: 0.6380 - acc: 0.7338 - val_loss: 0.6560 - val_acc: 0.7271\n",
      "Epoch 9/300\n",
      "8677/8677 [==============================] - 1s 89us/step - loss: 0.6256 - acc: 0.7657 - val_loss: 0.6237 - val_acc: 0.7637\n",
      "Epoch 10/300\n",
      "8677/8677 [==============================] - 1s 89us/step - loss: 0.6107 - acc: 0.7859 - val_loss: 0.6166 - val_acc: 0.7900\n",
      "Epoch 11/300\n",
      "8677/8677 [==============================] - 1s 87us/step - loss: 0.5936 - acc: 0.8042 - val_loss: 0.5630 - val_acc: 0.8575\n",
      "Epoch 12/300\n",
      "8677/8677 [==============================] - 1s 88us/step - loss: 0.5745 - acc: 0.8243 - val_loss: 0.5849 - val_acc: 0.8312\n",
      "Epoch 13/300\n",
      "8677/8677 [==============================] - 1s 89us/step - loss: 0.5530 - acc: 0.8434 - val_loss: 0.5342 - val_acc: 0.8716\n",
      "Epoch 14/300\n",
      "8677/8677 [==============================] - 1s 88us/step - loss: 0.5291 - acc: 0.8571 - val_loss: 0.5062 - val_acc: 0.9022\n",
      "Epoch 15/300\n",
      "8677/8677 [==============================] - 1s 88us/step - loss: 0.5038 - acc: 0.8723 - val_loss: 0.4925 - val_acc: 0.9001\n",
      "Epoch 16/300\n",
      "8677/8677 [==============================] - 1s 87us/step - loss: 0.4764 - acc: 0.8854 - val_loss: 0.4772 - val_acc: 0.8998\n",
      "Epoch 17/300\n",
      "8677/8677 [==============================] - 1s 88us/step - loss: 0.4482 - acc: 0.8950 - val_loss: 0.4487 - val_acc: 0.9012\n",
      "Epoch 18/300\n",
      "8677/8677 [==============================] - 1s 87us/step - loss: 0.4207 - acc: 0.9033 - val_loss: 0.4176 - val_acc: 0.9037\n",
      "Epoch 19/300\n",
      "8677/8677 [==============================] - 1s 88us/step - loss: 0.3938 - acc: 0.9089 - val_loss: 0.3877 - val_acc: 0.9151\n",
      "Epoch 20/300\n",
      "8677/8677 [==============================] - 1s 87us/step - loss: 0.3672 - acc: 0.9143 - val_loss: 0.3534 - val_acc: 0.9190\n",
      "Epoch 21/300\n",
      "8677/8677 [==============================] - 1s 87us/step - loss: 0.3428 - acc: 0.9177 - val_loss: 0.3594 - val_acc: 0.9152\n",
      "Epoch 22/300\n",
      "8677/8677 [==============================] - 1s 88us/step - loss: 0.3202 - acc: 0.9212 - val_loss: 0.3359 - val_acc: 0.9194\n",
      "Epoch 23/300\n",
      "8677/8677 [==============================] - 1s 89us/step - loss: 0.2994 - acc: 0.9247 - val_loss: 0.3259 - val_acc: 0.9183\n",
      "Epoch 24/300\n",
      "8677/8677 [==============================] - 1s 87us/step - loss: 0.2813 - acc: 0.9273 - val_loss: 0.2873 - val_acc: 0.9263\n",
      "Epoch 25/300\n",
      "8677/8677 [==============================] - 1s 87us/step - loss: 0.2649 - acc: 0.9287 - val_loss: 0.3017 - val_acc: 0.9203\n",
      "Epoch 26/300\n",
      "8677/8677 [==============================] - 1s 87us/step - loss: 0.2506 - acc: 0.9305 - val_loss: 0.2861 - val_acc: 0.9204\n",
      "Epoch 27/300\n",
      "8677/8677 [==============================] - 1s 87us/step - loss: 0.2387 - acc: 0.9317 - val_loss: 0.2719 - val_acc: 0.9243\n",
      "Epoch 28/300\n",
      "8677/8677 [==============================] - 1s 88us/step - loss: 0.2274 - acc: 0.9330 - val_loss: 0.2703 - val_acc: 0.9229\n",
      "Epoch 29/300\n",
      "8677/8677 [==============================] - 1s 87us/step - loss: 0.2176 - acc: 0.9346 - val_loss: 0.2635 - val_acc: 0.9248\n",
      "Epoch 30/300\n",
      "8677/8677 [==============================] - 1s 87us/step - loss: 0.2096 - acc: 0.9355 - val_loss: 0.2567 - val_acc: 0.9262\n",
      "Epoch 31/300\n",
      "8677/8677 [==============================] - 1s 87us/step - loss: 0.2024 - acc: 0.9365 - val_loss: 0.2415 - val_acc: 0.9294\n",
      "Epoch 32/300\n",
      "8677/8677 [==============================] - 1s 87us/step - loss: 0.1956 - acc: 0.9377 - val_loss: 0.2561 - val_acc: 0.9232\n",
      "Epoch 33/300\n",
      "8677/8677 [==============================] - 1s 88us/step - loss: 0.1893 - acc: 0.9390 - val_loss: 0.2405 - val_acc: 0.9282\n",
      "Epoch 34/300\n",
      "8677/8677 [==============================] - 1s 88us/step - loss: 0.1841 - acc: 0.9398 - val_loss: 0.2501 - val_acc: 0.9258\n",
      "Epoch 35/300\n",
      "8677/8677 [==============================] - 1s 87us/step - loss: 0.1788 - acc: 0.9411 - val_loss: 0.2446 - val_acc: 0.9272\n",
      "Epoch 36/300\n",
      "8677/8677 [==============================] - 1s 86us/step - loss: 0.1742 - acc: 0.9418 - val_loss: 0.2583 - val_acc: 0.9216\n",
      "Epoch 37/300\n",
      "8677/8677 [==============================] - 1s 88us/step - loss: 0.1695 - acc: 0.9432 - val_loss: 0.2531 - val_acc: 0.9233\n",
      "Epoch 38/300\n",
      "8677/8677 [==============================] - 1s 88us/step - loss: 0.1652 - acc: 0.9444 - val_loss: 0.2489 - val_acc: 0.9242\n",
      "Epoch 39/300\n",
      "8677/8677 [==============================] - 1s 88us/step - loss: 0.1617 - acc: 0.9451 - val_loss: 0.2505 - val_acc: 0.9241\n",
      "Epoch 40/300\n",
      "8677/8677 [==============================] - 1s 87us/step - loss: 0.1584 - acc: 0.9459 - val_loss: 0.2544 - val_acc: 0.9232\n",
      "Epoch 41/300\n",
      "8677/8677 [==============================] - 1s 86us/step - loss: 0.1553 - acc: 0.9466 - val_loss: 0.2519 - val_acc: 0.9255\n",
      "Epoch 42/300\n",
      "8677/8677 [==============================] - 1s 87us/step - loss: 0.1523 - acc: 0.9474 - val_loss: 0.2546 - val_acc: 0.9228\n",
      "Epoch 43/300\n",
      "8677/8677 [==============================] - 1s 87us/step - loss: 0.1493 - acc: 0.9482 - val_loss: 0.2569 - val_acc: 0.9248\n"
     ]
    }
   ],
   "source": [
    "es = EarlyStopping(monitor='val_loss', patience=10)\n",
    "\n",
    "history = mod.fit(train_features,\n",
    "            train_targets,\n",
    "            epochs=300,\n",
    "            validation_split=0.1,\n",
    "            batch_size=2000,\n",
    "            callbacks=[es])"
   ]
  },
  {
   "cell_type": "code",
   "execution_count": 146,
   "metadata": {},
   "outputs": [
    {
     "data": {
      "text/plain": [
       "Text(0,0.5,'val accuracy')"
      ]
     },
     "execution_count": 146,
     "metadata": {},
     "output_type": "execute_result"
    },
    {
     "data": {
      "image/png": "[encoded data removed]",
      "text/plain": [
       "<Figure size 432x288 with 2 Axes>"
      ]
     },
     "metadata": {},
     "output_type": "display_data"
    }
   ],
   "source": [
    "fig, ax1 = plt.subplots()\n",
    "_ = ax1.plot(history.history['acc'])\n",
    "ax2 = ax1.twinx()\n",
    "_ = ax2.plot(history.history['val_acc'], c='orange')\n",
    "ax2.set_ylabel('val accuracy')"
   ]
  },
  {
   "cell_type": "code",
   "execution_count": 151,
   "metadata": {},
   "outputs": [],
   "source": [
    "targ_df = pd.DataFrame(targets, columns=targ_labels)"
   ]
  },
  {
   "cell_type": "code",
   "execution_count": 153,
   "metadata": {},
   "outputs": [
    {
     "data": {
      "text/plain": [
       "(12053, 230)"
      ]
     },
     "execution_count": 153,
     "metadata": {},
     "output_type": "execute_result"
    }
   ],
   "source": [
    "targets.shape"
   ]
  },
  {
   "cell_type": "code",
   "execution_count": 154,
   "metadata": {},
   "outputs": [
    {
     "data": {
      "text/plain": [
       "(12053, 230)"
      ]
     },
     "execution_count": 154,
     "metadata": {},
     "output_type": "execute_result"
    }
   ],
   "source": [
    "targ_df.shape"
   ]
  },
  {
   "cell_type": "code",
   "execution_count": 157,
   "metadata": {},
   "outputs": [],
   "source": [
    "tot_0 = 0\n",
    "tot_1 = 0\n",
    "for c in targ_df.columns:\n",
    "    vc = targ_df[c].value_counts()\n",
    "    tot_0 += vc[0]\n",
    "    tot_1 += vc[1]"
   ]
  },
  {
   "cell_type": "code",
   "execution_count": 158,
   "metadata": {},
   "outputs": [
    {
     "data": {
      "text/plain": [
       "0.9147399709255137"
      ]
     },
     "execution_count": 158,
     "metadata": {},
     "output_type": "execute_result"
    }
   ],
   "source": [
    "tot_0/(tot_0 + tot_1)"
   ]
  },
  {
   "cell_type": "code",
   "execution_count": 215,
   "metadata": {},
   "outputs": [],
   "source": [
    "def get_no_info_rate(targets, targ_labels):\n",
    "    targ_df = pd.DataFrame(targets, columns=targ_labels)\n",
    "    tot_0 = 0\n",
    "    tot_1 = 0\n",
    "    for c in targ_df.columns:\n",
    "        vc = targ_df[c].value_counts()\n",
    "        tot_0 += vc[0]\n",
    "        tot_1 += vc[1]\n",
    "    \n",
    "    if tot_0 > tot_1:\n",
    "        print('no info rate:', str(tot_0 / (tot_0 + tot_1)))\n",
    "    else:\n",
    "        print('no info rate:', str(tot_1 / (tot_0 + tot_1)))"
   ]
  },
  {
   "cell_type": "code",
   "execution_count": 160,
   "metadata": {},
   "outputs": [
    {
     "name": "stdout",
     "output_type": "stream",
     "text": [
      "no info rate: 0.9147399709255137\n"
     ]
    }
   ],
   "source": [
    "get_no_info_rate(targets, targ_labels)"
   ]
  },
  {
   "cell_type": "markdown",
   "metadata": {},
   "source": [
    "# set threshold to 1% -- need to reload data first"
   ]
  },
  {
   "cell_type": "code",
   "execution_count": 202,
   "metadata": {},
   "outputs": [
    {
     "name": "stdout",
     "output_type": "stream",
     "text": [
      "loading stocks...\n",
      "calculating TAs...\n"
     ]
    }
   ],
   "source": [
    "dfs, _, _ = dp.load_stocks(stocks=top_stocks,\n",
    "                           finra_shorts=False,\n",
    "                           short_interest=False,\n",
    "                           earliest_date=None,\n",
    "                           calc_scores=False)"
   ]
  },
  {
   "cell_type": "code",
   "execution_count": 203,
   "metadata": {},
   "outputs": [],
   "source": [
    "earliest_dfs = {s: dfs[s] for s in dfs.keys() if s in earliest_stocks}"
   ]
  },
  {
   "cell_type": "code",
   "execution_count": 204,
   "metadata": {},
   "outputs": [],
   "source": [
    "for s in earliest_dfs.keys():\n",
    "    # standardize to latest date so they all have the same earliest time\n",
    "    earliest_dfs[s] = earliest_dfs[s][earliest_dfs[s].index > latest_date]"
   ]
  },
  {
   "cell_type": "code",
   "execution_count": 205,
   "metadata": {},
   "outputs": [],
   "source": [
    "drop_cols(earliest_dfs)"
   ]
  },
  {
   "cell_type": "code",
   "execution_count": 206,
   "metadata": {},
   "outputs": [
    {
     "name": "stdout",
     "output_type": "stream",
     "text": [
      "FL\n",
      "HPQ\n",
      "MRO\n",
      "IP\n",
      "BA\n",
      "CAT\n",
      "DIS\n",
      "HON\n",
      "UTX\n",
      "GE\n",
      "MRK\n",
      "CVX\n",
      "MCD\n",
      "IBM\n",
      "MO\n",
      "XOM\n",
      "MMM\n",
      "KO\n",
      "JNJ\n",
      "PG\n",
      "AEP\n",
      "DTE\n",
      "ED\n"
     ]
    }
   ],
   "source": [
    "make_ohlcv_feats_targs_multithread(earliest_dfs, threshold=0.01)"
   ]
  },
  {
   "cell_type": "code",
   "execution_count": 207,
   "metadata": {},
   "outputs": [],
   "source": [
    "feat_labels = []\n",
    "targ_labels = []\n",
    "features = None\n",
    "for s in earliest_dfs.keys():\n",
    "    targ_cols = [c for c in earliest_dfs[s].columns if 'f=' in c]\n",
    "    feat_cols = [c for c in earliest_dfs[s].columns if c not in set(targ_cols)]\n",
    "    no_missing = earliest_dfs[s].dropna()\n",
    "    s_features = no_missing[feat_cols]\n",
    "    feat_labels.extend([s + '_' + c for c in s_features.columns.tolist()])\n",
    "    s_targets = no_missing[targ_cols]\n",
    "    targ_labels.extend([s + '_' + c for c in s_targets.columns.tolist()])\n",
    "    if features is None:\n",
    "        features = s_features.values\n",
    "        targets = s_targets.values\n",
    "    else:\n",
    "        features = np.hstack((features, s_features))\n",
    "        targets = np.hstack((targets, s_targets))\n",
    "\n",
    "train_size = int(features.shape[0] * train_frac)\n",
    "train_features = features[:train_size]\n",
    "test_features = features[train_size:]\n",
    "train_targets = targets[:train_size]\n",
    "test_targets = targets[train_size:]"
   ]
  },
  {
   "cell_type": "code",
   "execution_count": 208,
   "metadata": {},
   "outputs": [
    {
     "data": {
      "text/plain": [
       "['Adj_Close_pct_change_f=1_gt_0.01',\n",
       " 'Adj_Close_pct_change_f=1_lt_-0.01',\n",
       " 'Adj_Close_pct_change_f=2_gt_0.01',\n",
       " 'Adj_Close_pct_change_f=2_lt_-0.01',\n",
       " 'Adj_Close_pct_change_f=3_gt_0.01',\n",
       " 'Adj_Close_pct_change_f=3_lt_-0.01',\n",
       " 'Adj_Close_pct_change_f=4_gt_0.01',\n",
       " 'Adj_Close_pct_change_f=4_lt_-0.01',\n",
       " 'Adj_Close_pct_change_f=5_gt_0.01',\n",
       " 'Adj_Close_pct_change_f=5_lt_-0.01',\n",
       " 'Adj_Close_pct_change_f=6_gt_0.01',\n",
       " 'Adj_Close_pct_change_f=6_lt_-0.01',\n",
       " 'Adj_Close_pct_change_f=7_gt_0.01',\n",
       " 'Adj_Close_pct_change_f=7_lt_-0.01',\n",
       " 'Adj_Close_pct_change_f=8_gt_0.01',\n",
       " 'Adj_Close_pct_change_f=8_lt_-0.01',\n",
       " 'Adj_Close_pct_change_f=9_gt_0.01',\n",
       " 'Adj_Close_pct_change_f=9_lt_-0.01',\n",
       " 'Adj_Close_pct_change_f=10_gt_0.01',\n",
       " 'Adj_Close_pct_change_f=10_lt_-0.01']"
      ]
     },
     "execution_count": 208,
     "metadata": {},
     "output_type": "execute_result"
    }
   ],
   "source": [
    "targ_cols"
   ]
  },
  {
   "cell_type": "code",
   "execution_count": 209,
   "metadata": {},
   "outputs": [
    {
     "data": {
      "text/plain": [
       "(12053, 3381)"
      ]
     },
     "execution_count": 209,
     "metadata": {},
     "output_type": "execute_result"
    }
   ],
   "source": [
    "features.shape"
   ]
  },
  {
   "cell_type": "code",
   "execution_count": 210,
   "metadata": {},
   "outputs": [
    {
     "data": {
      "text/plain": [
       "(12053, 460)"
      ]
     },
     "execution_count": 210,
     "metadata": {},
     "output_type": "execute_result"
    }
   ],
   "source": [
    "targets.shape"
   ]
  },
  {
   "cell_type": "code",
   "execution_count": 216,
   "metadata": {},
   "outputs": [
    {
     "name": "stdout",
     "output_type": "stream",
     "text": [
      "no info rate: 0.6507537362157716\n"
     ]
    }
   ],
   "source": [
    "get_no_info_rate(targets, targ_labels)"
   ]
  },
  {
   "cell_type": "code",
   "execution_count": 212,
   "metadata": {},
   "outputs": [],
   "source": [
    "K.clear_session()\n",
    "\n",
    "timesteps = 1\n",
    "input_dim = train_features.shape[1]\n",
    "output_dim = train_targets.shape[1]\n",
    "\n",
    "inputs = Input(shape=(timesteps*input_dim, ))\n",
    "x = BatchNormalization()(inputs)\n",
    "x = Dense(3000, activation='elu')(x)\n",
    "x = BatchNormalization()(x)\n",
    "x = Dropout(0.4)(x)\n",
    "x = Dense(2000, activation='elu')(x)\n",
    "x = BatchNormalization()(x)\n",
    "x = Dropout(0.3)(x)\n",
    "x = Dense(1000, activation='elu')(x)\n",
    "x = BatchNormalization()(x)\n",
    "x = Dropout(0.2)(x)\n",
    "x = Dense(500, activation='elu')(x)\n",
    "x = BatchNormalization()(x)\n",
    "x = Dense(output_dim, activation='sigmoid')(x)\n",
    "\n",
    "mod = Model(inputs, x)\n",
    "mod.compile(optimizer='adam', loss='binary_crossentropy', metrics=['accuracy'])"
   ]
  },
  {
   "cell_type": "code",
   "execution_count": 213,
   "metadata": {
    "scrolled": true
   },
   "outputs": [
    {
     "name": "stdout",
     "output_type": "stream",
     "text": [
      "Train on 8677 samples, validate on 965 samples\n",
      "Epoch 1/300\n",
      "8677/8677 [==============================] - 1s 156us/step - loss: 0.7726 - acc: 0.5136 - val_loss: 0.8262 - val_acc: 0.5093\n",
      "Epoch 2/300\n",
      "8677/8677 [==============================] - 1s 94us/step - loss: 0.6992 - acc: 0.5482 - val_loss: 0.8207 - val_acc: 0.5140\n",
      "Epoch 3/300\n",
      "8677/8677 [==============================] - 1s 96us/step - loss: 0.6766 - acc: 0.5759 - val_loss: 0.7769 - val_acc: 0.5197\n",
      "Epoch 4/300\n",
      "8677/8677 [==============================] - 1s 97us/step - loss: 0.6588 - acc: 0.6053 - val_loss: 0.7803 - val_acc: 0.5269\n",
      "Epoch 5/300\n",
      "8677/8677 [==============================] - 1s 96us/step - loss: 0.6423 - acc: 0.6295 - val_loss: 0.7703 - val_acc: 0.5365\n",
      "Epoch 6/300\n",
      "8677/8677 [==============================] - 1s 96us/step - loss: 0.6268 - acc: 0.6489 - val_loss: 0.8037 - val_acc: 0.5544\n",
      "Epoch 7/300\n",
      "8677/8677 [==============================] - 1s 97us/step - loss: 0.6111 - acc: 0.6674 - val_loss: 0.7692 - val_acc: 0.5707\n",
      "Epoch 8/300\n",
      "8677/8677 [==============================] - 1s 97us/step - loss: 0.5942 - acc: 0.6846 - val_loss: 0.7603 - val_acc: 0.5738\n",
      "Epoch 9/300\n",
      "8677/8677 [==============================] - 1s 96us/step - loss: 0.5788 - acc: 0.6991 - val_loss: 0.7371 - val_acc: 0.5893\n",
      "Epoch 10/300\n",
      "8677/8677 [==============================] - 1s 95us/step - loss: 0.5613 - acc: 0.7140 - val_loss: 0.7607 - val_acc: 0.5971\n",
      "Epoch 11/300\n",
      "8677/8677 [==============================] - 1s 96us/step - loss: 0.5448 - acc: 0.7272 - val_loss: 0.7354 - val_acc: 0.6037\n",
      "Epoch 12/300\n",
      "8677/8677 [==============================] - 1s 97us/step - loss: 0.5278 - acc: 0.7400 - val_loss: 0.7317 - val_acc: 0.6140\n",
      "Epoch 13/300\n",
      "8677/8677 [==============================] - 1s 95us/step - loss: 0.5131 - acc: 0.7498 - val_loss: 0.7592 - val_acc: 0.6120\n",
      "Epoch 14/300\n",
      "8677/8677 [==============================] - 1s 95us/step - loss: 0.4985 - acc: 0.7592 - val_loss: 0.7393 - val_acc: 0.6195\n",
      "Epoch 15/300\n",
      "8677/8677 [==============================] - 1s 95us/step - loss: 0.4836 - acc: 0.7685 - val_loss: 0.7631 - val_acc: 0.6243\n",
      "Epoch 16/300\n",
      "8677/8677 [==============================] - 1s 96us/step - loss: 0.4701 - acc: 0.7759 - val_loss: 0.7684 - val_acc: 0.6249\n",
      "Epoch 17/300\n",
      "8677/8677 [==============================] - 1s 95us/step - loss: 0.4583 - acc: 0.7830 - val_loss: 0.7975 - val_acc: 0.6231\n",
      "Epoch 18/300\n",
      "8677/8677 [==============================] - 1s 94us/step - loss: 0.4473 - acc: 0.7892 - val_loss: 0.7875 - val_acc: 0.6296\n",
      "Epoch 19/300\n",
      "8677/8677 [==============================] - 1s 96us/step - loss: 0.4377 - acc: 0.7945 - val_loss: 0.8142 - val_acc: 0.6231\n",
      "Epoch 20/300\n",
      "8677/8677 [==============================] - 1s 94us/step - loss: 0.4264 - acc: 0.8009 - val_loss: 0.8494 - val_acc: 0.6255\n",
      "Epoch 21/300\n",
      "8677/8677 [==============================] - 1s 92us/step - loss: 0.4192 - acc: 0.8048 - val_loss: 0.8468 - val_acc: 0.6254\n",
      "Epoch 22/300\n",
      "8677/8677 [==============================] - 1s 91us/step - loss: 0.4110 - acc: 0.8093 - val_loss: 0.8575 - val_acc: 0.6251\n",
      "Epoch 23/300\n",
      "8677/8677 [==============================] - 1s 92us/step - loss: 0.4027 - acc: 0.8137 - val_loss: 0.8981 - val_acc: 0.6207\n",
      "Epoch 24/300\n",
      "8677/8677 [==============================] - 1s 94us/step - loss: 0.3961 - acc: 0.8171 - val_loss: 0.8877 - val_acc: 0.6256\n",
      "Epoch 25/300\n",
      "8677/8677 [==============================] - 1s 92us/step - loss: 0.3894 - acc: 0.8206 - val_loss: 0.9080 - val_acc: 0.6217\n",
      "Epoch 26/300\n",
      "8677/8677 [==============================] - 1s 92us/step - loss: 0.3835 - acc: 0.8237 - val_loss: 0.9346 - val_acc: 0.6199\n",
      "Epoch 27/300\n",
      "8677/8677 [==============================] - 1s 95us/step - loss: 0.3785 - acc: 0.8262 - val_loss: 0.9465 - val_acc: 0.6180\n",
      "Epoch 28/300\n",
      "8677/8677 [==============================] - 1s 92us/step - loss: 0.3729 - acc: 0.8293 - val_loss: 0.9607 - val_acc: 0.6216\n",
      "Epoch 29/300\n",
      "8677/8677 [==============================] - 1s 93us/step - loss: 0.3699 - acc: 0.8306 - val_loss: 0.9549 - val_acc: 0.6235\n",
      "Epoch 30/300\n",
      "8677/8677 [==============================] - 1s 93us/step - loss: 0.3659 - acc: 0.8325 - val_loss: 0.9713 - val_acc: 0.6189\n",
      "Epoch 31/300\n",
      "8677/8677 [==============================] - 1s 92us/step - loss: 0.3599 - acc: 0.8358 - val_loss: 1.0031 - val_acc: 0.6155\n",
      "Epoch 32/300\n",
      "8677/8677 [==============================] - 1s 93us/step - loss: 0.3554 - acc: 0.8381 - val_loss: 1.0195 - val_acc: 0.6197\n",
      "Epoch 33/300\n",
      "8677/8677 [==============================] - 1s 94us/step - loss: 0.3528 - acc: 0.8395 - val_loss: 1.0116 - val_acc: 0.6224\n",
      "Epoch 34/300\n",
      "8677/8677 [==============================] - 1s 93us/step - loss: 0.3489 - acc: 0.8411 - val_loss: 1.0151 - val_acc: 0.6174\n",
      "Epoch 35/300\n",
      "8677/8677 [==============================] - 1s 90us/step - loss: 0.3436 - acc: 0.8439 - val_loss: 1.0271 - val_acc: 0.6200\n",
      "Epoch 36/300\n",
      "8677/8677 [==============================] - 1s 90us/step - loss: 0.3407 - acc: 0.8455 - val_loss: 1.0227 - val_acc: 0.6177\n",
      "Epoch 37/300\n",
      "8677/8677 [==============================] - 1s 90us/step - loss: 0.3376 - acc: 0.8468 - val_loss: 1.0362 - val_acc: 0.6186\n",
      "Epoch 38/300\n",
      "8677/8677 [==============================] - 1s 90us/step - loss: 0.3339 - acc: 0.8488 - val_loss: 1.0354 - val_acc: 0.6201\n",
      "Epoch 39/300\n",
      "8677/8677 [==============================] - 1s 92us/step - loss: 0.3310 - acc: 0.8501 - val_loss: 1.0420 - val_acc: 0.6222\n",
      "Epoch 40/300\n",
      "8677/8677 [==============================] - 1s 92us/step - loss: 0.3280 - acc: 0.8518 - val_loss: 1.0378 - val_acc: 0.6170\n",
      "Epoch 41/300\n",
      "8677/8677 [==============================] - 1s 91us/step - loss: 0.3251 - acc: 0.8533 - val_loss: 1.0372 - val_acc: 0.6213\n",
      "Epoch 42/300\n",
      "8677/8677 [==============================] - 1s 92us/step - loss: 0.3230 - acc: 0.8543 - val_loss: 1.0586 - val_acc: 0.6176\n",
      "Epoch 43/300\n",
      "8677/8677 [==============================] - 1s 94us/step - loss: 0.3198 - acc: 0.8560 - val_loss: 1.0599 - val_acc: 0.6186\n",
      "Epoch 44/300\n",
      "8677/8677 [==============================] - 1s 92us/step - loss: 0.3170 - acc: 0.8572 - val_loss: 1.0736 - val_acc: 0.6183\n",
      "Epoch 45/300\n",
      "8677/8677 [==============================] - 1s 91us/step - loss: 0.3149 - acc: 0.8583 - val_loss: 1.0812 - val_acc: 0.6189\n",
      "Epoch 46/300\n",
      "8677/8677 [==============================] - 1s 90us/step - loss: 0.3125 - acc: 0.8596 - val_loss: 1.0915 - val_acc: 0.6150\n",
      "Epoch 47/300\n",
      "8677/8677 [==============================] - 1s 93us/step - loss: 0.3105 - acc: 0.8605 - val_loss: 1.0849 - val_acc: 0.6180\n",
      "Epoch 48/300\n",
      "8677/8677 [==============================] - 1s 92us/step - loss: 0.3080 - acc: 0.8617 - val_loss: 1.1135 - val_acc: 0.6166\n",
      "Epoch 49/300\n",
      "8677/8677 [==============================] - 1s 93us/step - loss: 0.3063 - acc: 0.8628 - val_loss: 1.0900 - val_acc: 0.6176\n",
      "Epoch 50/300\n",
      "8677/8677 [==============================] - 1s 92us/step - loss: 0.3038 - acc: 0.8638 - val_loss: 1.0932 - val_acc: 0.6195\n",
      "Epoch 51/300\n",
      "8677/8677 [==============================] - 1s 93us/step - loss: 0.3028 - acc: 0.8643 - val_loss: 1.0967 - val_acc: 0.6175\n",
      "Epoch 52/300\n",
      "8677/8677 [==============================] - 1s 92us/step - loss: 0.3001 - acc: 0.8656 - val_loss: 1.1136 - val_acc: 0.6165\n",
      "Epoch 53/300\n",
      "8677/8677 [==============================] - 1s 91us/step - loss: 0.2975 - acc: 0.8670 - val_loss: 1.1329 - val_acc: 0.6184\n",
      "Epoch 54/300\n",
      "8677/8677 [==============================] - 1s 92us/step - loss: 0.2958 - acc: 0.8678 - val_loss: 1.1384 - val_acc: 0.6159\n",
      "Epoch 55/300\n",
      "8677/8677 [==============================] - 1s 91us/step - loss: 0.2935 - acc: 0.8690 - val_loss: 1.1301 - val_acc: 0.6155\n",
      "Epoch 56/300\n",
      "8677/8677 [==============================] - 1s 92us/step - loss: 0.2917 - acc: 0.8697 - val_loss: 1.1360 - val_acc: 0.6148\n",
      "Epoch 57/300\n",
      "8677/8677 [==============================] - 1s 93us/step - loss: 0.2902 - acc: 0.8708 - val_loss: 1.1468 - val_acc: 0.6157\n",
      "Epoch 58/300\n",
      "8677/8677 [==============================] - 1s 91us/step - loss: 0.2885 - acc: 0.8714 - val_loss: 1.1296 - val_acc: 0.6174\n",
      "Epoch 59/300\n",
      "8677/8677 [==============================] - 1s 91us/step - loss: 0.2870 - acc: 0.8721 - val_loss: 1.1341 - val_acc: 0.6165\n",
      "Epoch 60/300\n"
     ]
    },
    {
     "name": "stdout",
     "output_type": "stream",
     "text": [
      "8677/8677 [==============================] - 1s 91us/step - loss: 0.2853 - acc: 0.8731 - val_loss: 1.1320 - val_acc: 0.6184\n",
      "Epoch 61/300\n",
      "8677/8677 [==============================] - 1s 92us/step - loss: 0.2840 - acc: 0.8737 - val_loss: 1.1247 - val_acc: 0.6207\n",
      "Epoch 62/300\n",
      "8677/8677 [==============================] - 1s 91us/step - loss: 0.2817 - acc: 0.8748 - val_loss: 1.1331 - val_acc: 0.6169\n"
     ]
    }
   ],
   "source": [
    "es = EarlyStopping(monitor='val_loss', patience=50)\n",
    "\n",
    "history = mod.fit(train_features,\n",
    "            train_targets,\n",
    "            epochs=300,\n",
    "            validation_split=0.1,\n",
    "            batch_size=2000,\n",
    "            callbacks=[es])"
   ]
  },
  {
   "cell_type": "code",
   "execution_count": 214,
   "metadata": {},
   "outputs": [
    {
     "data": {
      "text/plain": [
       "Text(0,0.5,'val accuracy')"
      ]
     },
     "execution_count": 214,
     "metadata": {},
     "output_type": "execute_result"
    },
    {
     "data": {
      "image/png": "[encoded data removed]",
      "text/plain": [
       "<Figure size 432x288 with 2 Axes>"
      ]
     },
     "metadata": {},
     "output_type": "display_data"
    }
   ],
   "source": [
    "fig, ax1 = plt.subplots()\n",
    "_ = ax1.plot(history.history['acc'])\n",
    "ax2 = ax1.twinx()\n",
    "_ = ax2.plot(history.history['val_acc'], c='orange')\n",
    "ax2.set_ylabel('val accuracy')"
   ]
  },
  {
   "cell_type": "code",
   "execution_count": 217,
   "metadata": {},
   "outputs": [
    {
     "name": "stdout",
     "output_type": "stream",
     "text": [
      "9642/9642 [==============================] - 1s 127us/step\n"
     ]
    },
    {
     "data": {
      "text/plain": [
       "[0.3411893638627852, 0.8618561902424033]"
      ]
     },
     "execution_count": 217,
     "metadata": {},
     "output_type": "execute_result"
    }
   ],
   "source": [
    "mod.evaluate(train_features, train_targets)"
   ]
  },
  {
   "cell_type": "code",
   "execution_count": 218,
   "metadata": {},
   "outputs": [
    {
     "name": "stdout",
     "output_type": "stream",
     "text": [
      "2411/2411 [==============================] - 0s 123us/step\n"
     ]
    },
    {
     "data": {
      "text/plain": [
       "[1.4007189850844768, 0.5969388476796588]"
      ]
     },
     "execution_count": 218,
     "metadata": {},
     "output_type": "execute_result"
    }
   ],
   "source": [
    "mod.evaluate(test_features, test_targets)"
   ]
  },
  {
   "cell_type": "code",
   "execution_count": 230,
   "metadata": {},
   "outputs": [],
   "source": [
    "train_preds = mod.predict(train_features)\n",
    "test_preds = mod.predict(test_features)"
   ]
  },
  {
   "cell_type": "code",
   "execution_count": 221,
   "metadata": {},
   "outputs": [],
   "source": [
    "from sklearn.metrics import roc_curve, auc"
   ]
  },
  {
   "cell_type": "code",
   "execution_count": 222,
   "metadata": {},
   "outputs": [
    {
     "data": {
      "text/plain": [
       "['FL_Adj_Close_pct_change_f=1_gt_0.01',\n",
       " 'FL_Adj_Close_pct_change_f=1_lt_-0.01',\n",
       " 'FL_Adj_Close_pct_change_f=2_gt_0.01',\n",
       " 'FL_Adj_Close_pct_change_f=2_lt_-0.01',\n",
       " 'FL_Adj_Close_pct_change_f=3_gt_0.01',\n",
       " 'FL_Adj_Close_pct_change_f=3_lt_-0.01',\n",
       " 'FL_Adj_Close_pct_change_f=4_gt_0.01',\n",
       " 'FL_Adj_Close_pct_change_f=4_lt_-0.01',\n",
       " 'FL_Adj_Close_pct_change_f=5_gt_0.01',\n",
       " 'FL_Adj_Close_pct_change_f=5_lt_-0.01',\n",
       " 'FL_Adj_Close_pct_change_f=6_gt_0.01',\n",
       " 'FL_Adj_Close_pct_change_f=6_lt_-0.01',\n",
       " 'FL_Adj_Close_pct_change_f=7_gt_0.01',\n",
       " 'FL_Adj_Close_pct_change_f=7_lt_-0.01',\n",
       " 'FL_Adj_Close_pct_change_f=8_gt_0.01',\n",
       " 'FL_Adj_Close_pct_change_f=8_lt_-0.01',\n",
       " 'FL_Adj_Close_pct_change_f=9_gt_0.01',\n",
       " 'FL_Adj_Close_pct_change_f=9_lt_-0.01',\n",
       " 'FL_Adj_Close_pct_change_f=10_gt_0.01',\n",
       " 'FL_Adj_Close_pct_change_f=10_lt_-0.01',\n",
       " 'HPQ_Adj_Close_pct_change_f=1_gt_0.01',\n",
       " 'HPQ_Adj_Close_pct_change_f=1_lt_-0.01',\n",
       " 'HPQ_Adj_Close_pct_change_f=2_gt_0.01',\n",
       " 'HPQ_Adj_Close_pct_change_f=2_lt_-0.01',\n",
       " 'HPQ_Adj_Close_pct_change_f=3_gt_0.01',\n",
       " 'HPQ_Adj_Close_pct_change_f=3_lt_-0.01',\n",
       " 'HPQ_Adj_Close_pct_change_f=4_gt_0.01',\n",
       " 'HPQ_Adj_Close_pct_change_f=4_lt_-0.01',\n",
       " 'HPQ_Adj_Close_pct_change_f=5_gt_0.01',\n",
       " 'HPQ_Adj_Close_pct_change_f=5_lt_-0.01',\n",
       " 'HPQ_Adj_Close_pct_change_f=6_gt_0.01',\n",
       " 'HPQ_Adj_Close_pct_change_f=6_lt_-0.01',\n",
       " 'HPQ_Adj_Close_pct_change_f=7_gt_0.01',\n",
       " 'HPQ_Adj_Close_pct_change_f=7_lt_-0.01',\n",
       " 'HPQ_Adj_Close_pct_change_f=8_gt_0.01',\n",
       " 'HPQ_Adj_Close_pct_change_f=8_lt_-0.01',\n",
       " 'HPQ_Adj_Close_pct_change_f=9_gt_0.01',\n",
       " 'HPQ_Adj_Close_pct_change_f=9_lt_-0.01',\n",
       " 'HPQ_Adj_Close_pct_change_f=10_gt_0.01',\n",
       " 'HPQ_Adj_Close_pct_change_f=10_lt_-0.01',\n",
       " 'MRO_Adj_Close_pct_change_f=1_gt_0.01',\n",
       " 'MRO_Adj_Close_pct_change_f=1_lt_-0.01',\n",
       " 'MRO_Adj_Close_pct_change_f=2_gt_0.01',\n",
       " 'MRO_Adj_Close_pct_change_f=2_lt_-0.01',\n",
       " 'MRO_Adj_Close_pct_change_f=3_gt_0.01',\n",
       " 'MRO_Adj_Close_pct_change_f=3_lt_-0.01',\n",
       " 'MRO_Adj_Close_pct_change_f=4_gt_0.01',\n",
       " 'MRO_Adj_Close_pct_change_f=4_lt_-0.01',\n",
       " 'MRO_Adj_Close_pct_change_f=5_gt_0.01',\n",
       " 'MRO_Adj_Close_pct_change_f=5_lt_-0.01',\n",
       " 'MRO_Adj_Close_pct_change_f=6_gt_0.01',\n",
       " 'MRO_Adj_Close_pct_change_f=6_lt_-0.01',\n",
       " 'MRO_Adj_Close_pct_change_f=7_gt_0.01',\n",
       " 'MRO_Adj_Close_pct_change_f=7_lt_-0.01',\n",
       " 'MRO_Adj_Close_pct_change_f=8_gt_0.01',\n",
       " 'MRO_Adj_Close_pct_change_f=8_lt_-0.01',\n",
       " 'MRO_Adj_Close_pct_change_f=9_gt_0.01',\n",
       " 'MRO_Adj_Close_pct_change_f=9_lt_-0.01',\n",
       " 'MRO_Adj_Close_pct_change_f=10_gt_0.01',\n",
       " 'MRO_Adj_Close_pct_change_f=10_lt_-0.01',\n",
       " 'IP_Adj_Close_pct_change_f=1_gt_0.01',\n",
       " 'IP_Adj_Close_pct_change_f=1_lt_-0.01',\n",
       " 'IP_Adj_Close_pct_change_f=2_gt_0.01',\n",
       " 'IP_Adj_Close_pct_change_f=2_lt_-0.01',\n",
       " 'IP_Adj_Close_pct_change_f=3_gt_0.01',\n",
       " 'IP_Adj_Close_pct_change_f=3_lt_-0.01',\n",
       " 'IP_Adj_Close_pct_change_f=4_gt_0.01',\n",
       " 'IP_Adj_Close_pct_change_f=4_lt_-0.01',\n",
       " 'IP_Adj_Close_pct_change_f=5_gt_0.01',\n",
       " 'IP_Adj_Close_pct_change_f=5_lt_-0.01',\n",
       " 'IP_Adj_Close_pct_change_f=6_gt_0.01',\n",
       " 'IP_Adj_Close_pct_change_f=6_lt_-0.01',\n",
       " 'IP_Adj_Close_pct_change_f=7_gt_0.01',\n",
       " 'IP_Adj_Close_pct_change_f=7_lt_-0.01',\n",
       " 'IP_Adj_Close_pct_change_f=8_gt_0.01',\n",
       " 'IP_Adj_Close_pct_change_f=8_lt_-0.01',\n",
       " 'IP_Adj_Close_pct_change_f=9_gt_0.01',\n",
       " 'IP_Adj_Close_pct_change_f=9_lt_-0.01',\n",
       " 'IP_Adj_Close_pct_change_f=10_gt_0.01',\n",
       " 'IP_Adj_Close_pct_change_f=10_lt_-0.01',\n",
       " 'BA_Adj_Close_pct_change_f=1_gt_0.01',\n",
       " 'BA_Adj_Close_pct_change_f=1_lt_-0.01',\n",
       " 'BA_Adj_Close_pct_change_f=2_gt_0.01',\n",
       " 'BA_Adj_Close_pct_change_f=2_lt_-0.01',\n",
       " 'BA_Adj_Close_pct_change_f=3_gt_0.01',\n",
       " 'BA_Adj_Close_pct_change_f=3_lt_-0.01',\n",
       " 'BA_Adj_Close_pct_change_f=4_gt_0.01',\n",
       " 'BA_Adj_Close_pct_change_f=4_lt_-0.01',\n",
       " 'BA_Adj_Close_pct_change_f=5_gt_0.01',\n",
       " 'BA_Adj_Close_pct_change_f=5_lt_-0.01',\n",
       " 'BA_Adj_Close_pct_change_f=6_gt_0.01',\n",
       " 'BA_Adj_Close_pct_change_f=6_lt_-0.01',\n",
       " 'BA_Adj_Close_pct_change_f=7_gt_0.01',\n",
       " 'BA_Adj_Close_pct_change_f=7_lt_-0.01',\n",
       " 'BA_Adj_Close_pct_change_f=8_gt_0.01',\n",
       " 'BA_Adj_Close_pct_change_f=8_lt_-0.01',\n",
       " 'BA_Adj_Close_pct_change_f=9_gt_0.01',\n",
       " 'BA_Adj_Close_pct_change_f=9_lt_-0.01',\n",
       " 'BA_Adj_Close_pct_change_f=10_gt_0.01',\n",
       " 'BA_Adj_Close_pct_change_f=10_lt_-0.01',\n",
       " 'CAT_Adj_Close_pct_change_f=1_gt_0.01',\n",
       " 'CAT_Adj_Close_pct_change_f=1_lt_-0.01',\n",
       " 'CAT_Adj_Close_pct_change_f=2_gt_0.01',\n",
       " 'CAT_Adj_Close_pct_change_f=2_lt_-0.01',\n",
       " 'CAT_Adj_Close_pct_change_f=3_gt_0.01',\n",
       " 'CAT_Adj_Close_pct_change_f=3_lt_-0.01',\n",
       " 'CAT_Adj_Close_pct_change_f=4_gt_0.01',\n",
       " 'CAT_Adj_Close_pct_change_f=4_lt_-0.01',\n",
       " 'CAT_Adj_Close_pct_change_f=5_gt_0.01',\n",
       " 'CAT_Adj_Close_pct_change_f=5_lt_-0.01',\n",
       " 'CAT_Adj_Close_pct_change_f=6_gt_0.01',\n",
       " 'CAT_Adj_Close_pct_change_f=6_lt_-0.01',\n",
       " 'CAT_Adj_Close_pct_change_f=7_gt_0.01',\n",
       " 'CAT_Adj_Close_pct_change_f=7_lt_-0.01',\n",
       " 'CAT_Adj_Close_pct_change_f=8_gt_0.01',\n",
       " 'CAT_Adj_Close_pct_change_f=8_lt_-0.01',\n",
       " 'CAT_Adj_Close_pct_change_f=9_gt_0.01',\n",
       " 'CAT_Adj_Close_pct_change_f=9_lt_-0.01',\n",
       " 'CAT_Adj_Close_pct_change_f=10_gt_0.01',\n",
       " 'CAT_Adj_Close_pct_change_f=10_lt_-0.01',\n",
       " 'DIS_Adj_Close_pct_change_f=1_gt_0.01',\n",
       " 'DIS_Adj_Close_pct_change_f=1_lt_-0.01',\n",
       " 'DIS_Adj_Close_pct_change_f=2_gt_0.01',\n",
       " 'DIS_Adj_Close_pct_change_f=2_lt_-0.01',\n",
       " 'DIS_Adj_Close_pct_change_f=3_gt_0.01',\n",
       " 'DIS_Adj_Close_pct_change_f=3_lt_-0.01',\n",
       " 'DIS_Adj_Close_pct_change_f=4_gt_0.01',\n",
       " 'DIS_Adj_Close_pct_change_f=4_lt_-0.01',\n",
       " 'DIS_Adj_Close_pct_change_f=5_gt_0.01',\n",
       " 'DIS_Adj_Close_pct_change_f=5_lt_-0.01',\n",
       " 'DIS_Adj_Close_pct_change_f=6_gt_0.01',\n",
       " 'DIS_Adj_Close_pct_change_f=6_lt_-0.01',\n",
       " 'DIS_Adj_Close_pct_change_f=7_gt_0.01',\n",
       " 'DIS_Adj_Close_pct_change_f=7_lt_-0.01',\n",
       " 'DIS_Adj_Close_pct_change_f=8_gt_0.01',\n",
       " 'DIS_Adj_Close_pct_change_f=8_lt_-0.01',\n",
       " 'DIS_Adj_Close_pct_change_f=9_gt_0.01',\n",
       " 'DIS_Adj_Close_pct_change_f=9_lt_-0.01',\n",
       " 'DIS_Adj_Close_pct_change_f=10_gt_0.01',\n",
       " 'DIS_Adj_Close_pct_change_f=10_lt_-0.01',\n",
       " 'HON_Adj_Close_pct_change_f=1_gt_0.01',\n",
       " 'HON_Adj_Close_pct_change_f=1_lt_-0.01',\n",
       " 'HON_Adj_Close_pct_change_f=2_gt_0.01',\n",
       " 'HON_Adj_Close_pct_change_f=2_lt_-0.01',\n",
       " 'HON_Adj_Close_pct_change_f=3_gt_0.01',\n",
       " 'HON_Adj_Close_pct_change_f=3_lt_-0.01',\n",
       " 'HON_Adj_Close_pct_change_f=4_gt_0.01',\n",
       " 'HON_Adj_Close_pct_change_f=4_lt_-0.01',\n",
       " 'HON_Adj_Close_pct_change_f=5_gt_0.01',\n",
       " 'HON_Adj_Close_pct_change_f=5_lt_-0.01',\n",
       " 'HON_Adj_Close_pct_change_f=6_gt_0.01',\n",
       " 'HON_Adj_Close_pct_change_f=6_lt_-0.01',\n",
       " 'HON_Adj_Close_pct_change_f=7_gt_0.01',\n",
       " 'HON_Adj_Close_pct_change_f=7_lt_-0.01',\n",
       " 'HON_Adj_Close_pct_change_f=8_gt_0.01',\n",
       " 'HON_Adj_Close_pct_change_f=8_lt_-0.01',\n",
       " 'HON_Adj_Close_pct_change_f=9_gt_0.01',\n",
       " 'HON_Adj_Close_pct_change_f=9_lt_-0.01',\n",
       " 'HON_Adj_Close_pct_change_f=10_gt_0.01',\n",
       " 'HON_Adj_Close_pct_change_f=10_lt_-0.01',\n",
       " 'GE_Adj_Close_pct_change_f=1_gt_0.01',\n",
       " 'GE_Adj_Close_pct_change_f=1_lt_-0.01',\n",
       " 'GE_Adj_Close_pct_change_f=2_gt_0.01',\n",
       " 'GE_Adj_Close_pct_change_f=2_lt_-0.01',\n",
       " 'GE_Adj_Close_pct_change_f=3_gt_0.01',\n",
       " 'GE_Adj_Close_pct_change_f=3_lt_-0.01',\n",
       " 'GE_Adj_Close_pct_change_f=4_gt_0.01',\n",
       " 'GE_Adj_Close_pct_change_f=4_lt_-0.01',\n",
       " 'GE_Adj_Close_pct_change_f=5_gt_0.01',\n",
       " 'GE_Adj_Close_pct_change_f=5_lt_-0.01',\n",
       " 'GE_Adj_Close_pct_change_f=6_gt_0.01',\n",
       " 'GE_Adj_Close_pct_change_f=6_lt_-0.01',\n",
       " 'GE_Adj_Close_pct_change_f=7_gt_0.01',\n",
       " 'GE_Adj_Close_pct_change_f=7_lt_-0.01',\n",
       " 'GE_Adj_Close_pct_change_f=8_gt_0.01',\n",
       " 'GE_Adj_Close_pct_change_f=8_lt_-0.01',\n",
       " 'GE_Adj_Close_pct_change_f=9_gt_0.01',\n",
       " 'GE_Adj_Close_pct_change_f=9_lt_-0.01',\n",
       " 'GE_Adj_Close_pct_change_f=10_gt_0.01',\n",
       " 'GE_Adj_Close_pct_change_f=10_lt_-0.01',\n",
       " 'UTX_Adj_Close_pct_change_f=1_gt_0.01',\n",
       " 'UTX_Adj_Close_pct_change_f=1_lt_-0.01',\n",
       " 'UTX_Adj_Close_pct_change_f=2_gt_0.01',\n",
       " 'UTX_Adj_Close_pct_change_f=2_lt_-0.01',\n",
       " 'UTX_Adj_Close_pct_change_f=3_gt_0.01',\n",
       " 'UTX_Adj_Close_pct_change_f=3_lt_-0.01',\n",
       " 'UTX_Adj_Close_pct_change_f=4_gt_0.01',\n",
       " 'UTX_Adj_Close_pct_change_f=4_lt_-0.01',\n",
       " 'UTX_Adj_Close_pct_change_f=5_gt_0.01',\n",
       " 'UTX_Adj_Close_pct_change_f=5_lt_-0.01',\n",
       " 'UTX_Adj_Close_pct_change_f=6_gt_0.01',\n",
       " 'UTX_Adj_Close_pct_change_f=6_lt_-0.01',\n",
       " 'UTX_Adj_Close_pct_change_f=7_gt_0.01',\n",
       " 'UTX_Adj_Close_pct_change_f=7_lt_-0.01',\n",
       " 'UTX_Adj_Close_pct_change_f=8_gt_0.01',\n",
       " 'UTX_Adj_Close_pct_change_f=8_lt_-0.01',\n",
       " 'UTX_Adj_Close_pct_change_f=9_gt_0.01',\n",
       " 'UTX_Adj_Close_pct_change_f=9_lt_-0.01',\n",
       " 'UTX_Adj_Close_pct_change_f=10_gt_0.01',\n",
       " 'UTX_Adj_Close_pct_change_f=10_lt_-0.01',\n",
       " 'MRK_Adj_Close_pct_change_f=1_gt_0.01',\n",
       " 'MRK_Adj_Close_pct_change_f=1_lt_-0.01',\n",
       " 'MRK_Adj_Close_pct_change_f=2_gt_0.01',\n",
       " 'MRK_Adj_Close_pct_change_f=2_lt_-0.01',\n",
       " 'MRK_Adj_Close_pct_change_f=3_gt_0.01',\n",
       " 'MRK_Adj_Close_pct_change_f=3_lt_-0.01',\n",
       " 'MRK_Adj_Close_pct_change_f=4_gt_0.01',\n",
       " 'MRK_Adj_Close_pct_change_f=4_lt_-0.01',\n",
       " 'MRK_Adj_Close_pct_change_f=5_gt_0.01',\n",
       " 'MRK_Adj_Close_pct_change_f=5_lt_-0.01',\n",
       " 'MRK_Adj_Close_pct_change_f=6_gt_0.01',\n",
       " 'MRK_Adj_Close_pct_change_f=6_lt_-0.01',\n",
       " 'MRK_Adj_Close_pct_change_f=7_gt_0.01',\n",
       " 'MRK_Adj_Close_pct_change_f=7_lt_-0.01',\n",
       " 'MRK_Adj_Close_pct_change_f=8_gt_0.01',\n",
       " 'MRK_Adj_Close_pct_change_f=8_lt_-0.01',\n",
       " 'MRK_Adj_Close_pct_change_f=9_gt_0.01',\n",
       " 'MRK_Adj_Close_pct_change_f=9_lt_-0.01',\n",
       " 'MRK_Adj_Close_pct_change_f=10_gt_0.01',\n",
       " 'MRK_Adj_Close_pct_change_f=10_lt_-0.01',\n",
       " 'CVX_Adj_Close_pct_change_f=1_gt_0.01',\n",
       " 'CVX_Adj_Close_pct_change_f=1_lt_-0.01',\n",
       " 'CVX_Adj_Close_pct_change_f=2_gt_0.01',\n",
       " 'CVX_Adj_Close_pct_change_f=2_lt_-0.01',\n",
       " 'CVX_Adj_Close_pct_change_f=3_gt_0.01',\n",
       " 'CVX_Adj_Close_pct_change_f=3_lt_-0.01',\n",
       " 'CVX_Adj_Close_pct_change_f=4_gt_0.01',\n",
       " 'CVX_Adj_Close_pct_change_f=4_lt_-0.01',\n",
       " 'CVX_Adj_Close_pct_change_f=5_gt_0.01',\n",
       " 'CVX_Adj_Close_pct_change_f=5_lt_-0.01',\n",
       " 'CVX_Adj_Close_pct_change_f=6_gt_0.01',\n",
       " 'CVX_Adj_Close_pct_change_f=6_lt_-0.01',\n",
       " 'CVX_Adj_Close_pct_change_f=7_gt_0.01',\n",
       " 'CVX_Adj_Close_pct_change_f=7_lt_-0.01',\n",
       " 'CVX_Adj_Close_pct_change_f=8_gt_0.01',\n",
       " 'CVX_Adj_Close_pct_change_f=8_lt_-0.01',\n",
       " 'CVX_Adj_Close_pct_change_f=9_gt_0.01',\n",
       " 'CVX_Adj_Close_pct_change_f=9_lt_-0.01',\n",
       " 'CVX_Adj_Close_pct_change_f=10_gt_0.01',\n",
       " 'CVX_Adj_Close_pct_change_f=10_lt_-0.01',\n",
       " 'MCD_Adj_Close_pct_change_f=1_gt_0.01',\n",
       " 'MCD_Adj_Close_pct_change_f=1_lt_-0.01',\n",
       " 'MCD_Adj_Close_pct_change_f=2_gt_0.01',\n",
       " 'MCD_Adj_Close_pct_change_f=2_lt_-0.01',\n",
       " 'MCD_Adj_Close_pct_change_f=3_gt_0.01',\n",
       " 'MCD_Adj_Close_pct_change_f=3_lt_-0.01',\n",
       " 'MCD_Adj_Close_pct_change_f=4_gt_0.01',\n",
       " 'MCD_Adj_Close_pct_change_f=4_lt_-0.01',\n",
       " 'MCD_Adj_Close_pct_change_f=5_gt_0.01',\n",
       " 'MCD_Adj_Close_pct_change_f=5_lt_-0.01',\n",
       " 'MCD_Adj_Close_pct_change_f=6_gt_0.01',\n",
       " 'MCD_Adj_Close_pct_change_f=6_lt_-0.01',\n",
       " 'MCD_Adj_Close_pct_change_f=7_gt_0.01',\n",
       " 'MCD_Adj_Close_pct_change_f=7_lt_-0.01',\n",
       " 'MCD_Adj_Close_pct_change_f=8_gt_0.01',\n",
       " 'MCD_Adj_Close_pct_change_f=8_lt_-0.01',\n",
       " 'MCD_Adj_Close_pct_change_f=9_gt_0.01',\n",
       " 'MCD_Adj_Close_pct_change_f=9_lt_-0.01',\n",
       " 'MCD_Adj_Close_pct_change_f=10_gt_0.01',\n",
       " 'MCD_Adj_Close_pct_change_f=10_lt_-0.01',\n",
       " 'IBM_Adj_Close_pct_change_f=1_gt_0.01',\n",
       " 'IBM_Adj_Close_pct_change_f=1_lt_-0.01',\n",
       " 'IBM_Adj_Close_pct_change_f=2_gt_0.01',\n",
       " 'IBM_Adj_Close_pct_change_f=2_lt_-0.01',\n",
       " 'IBM_Adj_Close_pct_change_f=3_gt_0.01',\n",
       " 'IBM_Adj_Close_pct_change_f=3_lt_-0.01',\n",
       " 'IBM_Adj_Close_pct_change_f=4_gt_0.01',\n",
       " 'IBM_Adj_Close_pct_change_f=4_lt_-0.01',\n",
       " 'IBM_Adj_Close_pct_change_f=5_gt_0.01',\n",
       " 'IBM_Adj_Close_pct_change_f=5_lt_-0.01',\n",
       " 'IBM_Adj_Close_pct_change_f=6_gt_0.01',\n",
       " 'IBM_Adj_Close_pct_change_f=6_lt_-0.01',\n",
       " 'IBM_Adj_Close_pct_change_f=7_gt_0.01',\n",
       " 'IBM_Adj_Close_pct_change_f=7_lt_-0.01',\n",
       " 'IBM_Adj_Close_pct_change_f=8_gt_0.01',\n",
       " 'IBM_Adj_Close_pct_change_f=8_lt_-0.01',\n",
       " 'IBM_Adj_Close_pct_change_f=9_gt_0.01',\n",
       " 'IBM_Adj_Close_pct_change_f=9_lt_-0.01',\n",
       " 'IBM_Adj_Close_pct_change_f=10_gt_0.01',\n",
       " 'IBM_Adj_Close_pct_change_f=10_lt_-0.01',\n",
       " 'MO_Adj_Close_pct_change_f=1_gt_0.01',\n",
       " 'MO_Adj_Close_pct_change_f=1_lt_-0.01',\n",
       " 'MO_Adj_Close_pct_change_f=2_gt_0.01',\n",
       " 'MO_Adj_Close_pct_change_f=2_lt_-0.01',\n",
       " 'MO_Adj_Close_pct_change_f=3_gt_0.01',\n",
       " 'MO_Adj_Close_pct_change_f=3_lt_-0.01',\n",
       " 'MO_Adj_Close_pct_change_f=4_gt_0.01',\n",
       " 'MO_Adj_Close_pct_change_f=4_lt_-0.01',\n",
       " 'MO_Adj_Close_pct_change_f=5_gt_0.01',\n",
       " 'MO_Adj_Close_pct_change_f=5_lt_-0.01',\n",
       " 'MO_Adj_Close_pct_change_f=6_gt_0.01',\n",
       " 'MO_Adj_Close_pct_change_f=6_lt_-0.01',\n",
       " 'MO_Adj_Close_pct_change_f=7_gt_0.01',\n",
       " 'MO_Adj_Close_pct_change_f=7_lt_-0.01',\n",
       " 'MO_Adj_Close_pct_change_f=8_gt_0.01',\n",
       " 'MO_Adj_Close_pct_change_f=8_lt_-0.01',\n",
       " 'MO_Adj_Close_pct_change_f=9_gt_0.01',\n",
       " 'MO_Adj_Close_pct_change_f=9_lt_-0.01',\n",
       " 'MO_Adj_Close_pct_change_f=10_gt_0.01',\n",
       " 'MO_Adj_Close_pct_change_f=10_lt_-0.01',\n",
       " 'XOM_Adj_Close_pct_change_f=1_gt_0.01',\n",
       " 'XOM_Adj_Close_pct_change_f=1_lt_-0.01',\n",
       " 'XOM_Adj_Close_pct_change_f=2_gt_0.01',\n",
       " 'XOM_Adj_Close_pct_change_f=2_lt_-0.01',\n",
       " 'XOM_Adj_Close_pct_change_f=3_gt_0.01',\n",
       " 'XOM_Adj_Close_pct_change_f=3_lt_-0.01',\n",
       " 'XOM_Adj_Close_pct_change_f=4_gt_0.01',\n",
       " 'XOM_Adj_Close_pct_change_f=4_lt_-0.01',\n",
       " 'XOM_Adj_Close_pct_change_f=5_gt_0.01',\n",
       " 'XOM_Adj_Close_pct_change_f=5_lt_-0.01',\n",
       " 'XOM_Adj_Close_pct_change_f=6_gt_0.01',\n",
       " 'XOM_Adj_Close_pct_change_f=6_lt_-0.01',\n",
       " 'XOM_Adj_Close_pct_change_f=7_gt_0.01',\n",
       " 'XOM_Adj_Close_pct_change_f=7_lt_-0.01',\n",
       " 'XOM_Adj_Close_pct_change_f=8_gt_0.01',\n",
       " 'XOM_Adj_Close_pct_change_f=8_lt_-0.01',\n",
       " 'XOM_Adj_Close_pct_change_f=9_gt_0.01',\n",
       " 'XOM_Adj_Close_pct_change_f=9_lt_-0.01',\n",
       " 'XOM_Adj_Close_pct_change_f=10_gt_0.01',\n",
       " 'XOM_Adj_Close_pct_change_f=10_lt_-0.01',\n",
       " 'MMM_Adj_Close_pct_change_f=1_gt_0.01',\n",
       " 'MMM_Adj_Close_pct_change_f=1_lt_-0.01',\n",
       " 'MMM_Adj_Close_pct_change_f=2_gt_0.01',\n",
       " 'MMM_Adj_Close_pct_change_f=2_lt_-0.01',\n",
       " 'MMM_Adj_Close_pct_change_f=3_gt_0.01',\n",
       " 'MMM_Adj_Close_pct_change_f=3_lt_-0.01',\n",
       " 'MMM_Adj_Close_pct_change_f=4_gt_0.01',\n",
       " 'MMM_Adj_Close_pct_change_f=4_lt_-0.01',\n",
       " 'MMM_Adj_Close_pct_change_f=5_gt_0.01',\n",
       " 'MMM_Adj_Close_pct_change_f=5_lt_-0.01',\n",
       " 'MMM_Adj_Close_pct_change_f=6_gt_0.01',\n",
       " 'MMM_Adj_Close_pct_change_f=6_lt_-0.01',\n",
       " 'MMM_Adj_Close_pct_change_f=7_gt_0.01',\n",
       " 'MMM_Adj_Close_pct_change_f=7_lt_-0.01',\n",
       " 'MMM_Adj_Close_pct_change_f=8_gt_0.01',\n",
       " 'MMM_Adj_Close_pct_change_f=8_lt_-0.01',\n",
       " 'MMM_Adj_Close_pct_change_f=9_gt_0.01',\n",
       " 'MMM_Adj_Close_pct_change_f=9_lt_-0.01',\n",
       " 'MMM_Adj_Close_pct_change_f=10_gt_0.01',\n",
       " 'MMM_Adj_Close_pct_change_f=10_lt_-0.01',\n",
       " 'KO_Adj_Close_pct_change_f=1_gt_0.01',\n",
       " 'KO_Adj_Close_pct_change_f=1_lt_-0.01',\n",
       " 'KO_Adj_Close_pct_change_f=2_gt_0.01',\n",
       " 'KO_Adj_Close_pct_change_f=2_lt_-0.01',\n",
       " 'KO_Adj_Close_pct_change_f=3_gt_0.01',\n",
       " 'KO_Adj_Close_pct_change_f=3_lt_-0.01',\n",
       " 'KO_Adj_Close_pct_change_f=4_gt_0.01',\n",
       " 'KO_Adj_Close_pct_change_f=4_lt_-0.01',\n",
       " 'KO_Adj_Close_pct_change_f=5_gt_0.01',\n",
       " 'KO_Adj_Close_pct_change_f=5_lt_-0.01',\n",
       " 'KO_Adj_Close_pct_change_f=6_gt_0.01',\n",
       " 'KO_Adj_Close_pct_change_f=6_lt_-0.01',\n",
       " 'KO_Adj_Close_pct_change_f=7_gt_0.01',\n",
       " 'KO_Adj_Close_pct_change_f=7_lt_-0.01',\n",
       " 'KO_Adj_Close_pct_change_f=8_gt_0.01',\n",
       " 'KO_Adj_Close_pct_change_f=8_lt_-0.01',\n",
       " 'KO_Adj_Close_pct_change_f=9_gt_0.01',\n",
       " 'KO_Adj_Close_pct_change_f=9_lt_-0.01',\n",
       " 'KO_Adj_Close_pct_change_f=10_gt_0.01',\n",
       " 'KO_Adj_Close_pct_change_f=10_lt_-0.01',\n",
       " 'JNJ_Adj_Close_pct_change_f=1_gt_0.01',\n",
       " 'JNJ_Adj_Close_pct_change_f=1_lt_-0.01',\n",
       " 'JNJ_Adj_Close_pct_change_f=2_gt_0.01',\n",
       " 'JNJ_Adj_Close_pct_change_f=2_lt_-0.01',\n",
       " 'JNJ_Adj_Close_pct_change_f=3_gt_0.01',\n",
       " 'JNJ_Adj_Close_pct_change_f=3_lt_-0.01',\n",
       " 'JNJ_Adj_Close_pct_change_f=4_gt_0.01',\n",
       " 'JNJ_Adj_Close_pct_change_f=4_lt_-0.01',\n",
       " 'JNJ_Adj_Close_pct_change_f=5_gt_0.01',\n",
       " 'JNJ_Adj_Close_pct_change_f=5_lt_-0.01',\n",
       " 'JNJ_Adj_Close_pct_change_f=6_gt_0.01',\n",
       " 'JNJ_Adj_Close_pct_change_f=6_lt_-0.01',\n",
       " 'JNJ_Adj_Close_pct_change_f=7_gt_0.01',\n",
       " 'JNJ_Adj_Close_pct_change_f=7_lt_-0.01',\n",
       " 'JNJ_Adj_Close_pct_change_f=8_gt_0.01',\n",
       " 'JNJ_Adj_Close_pct_change_f=8_lt_-0.01',\n",
       " 'JNJ_Adj_Close_pct_change_f=9_gt_0.01',\n",
       " 'JNJ_Adj_Close_pct_change_f=9_lt_-0.01',\n",
       " 'JNJ_Adj_Close_pct_change_f=10_gt_0.01',\n",
       " 'JNJ_Adj_Close_pct_change_f=10_lt_-0.01',\n",
       " 'PG_Adj_Close_pct_change_f=1_gt_0.01',\n",
       " 'PG_Adj_Close_pct_change_f=1_lt_-0.01',\n",
       " 'PG_Adj_Close_pct_change_f=2_gt_0.01',\n",
       " 'PG_Adj_Close_pct_change_f=2_lt_-0.01',\n",
       " 'PG_Adj_Close_pct_change_f=3_gt_0.01',\n",
       " 'PG_Adj_Close_pct_change_f=3_lt_-0.01',\n",
       " 'PG_Adj_Close_pct_change_f=4_gt_0.01',\n",
       " 'PG_Adj_Close_pct_change_f=4_lt_-0.01',\n",
       " 'PG_Adj_Close_pct_change_f=5_gt_0.01',\n",
       " 'PG_Adj_Close_pct_change_f=5_lt_-0.01',\n",
       " 'PG_Adj_Close_pct_change_f=6_gt_0.01',\n",
       " 'PG_Adj_Close_pct_change_f=6_lt_-0.01',\n",
       " 'PG_Adj_Close_pct_change_f=7_gt_0.01',\n",
       " 'PG_Adj_Close_pct_change_f=7_lt_-0.01',\n",
       " 'PG_Adj_Close_pct_change_f=8_gt_0.01',\n",
       " 'PG_Adj_Close_pct_change_f=8_lt_-0.01',\n",
       " 'PG_Adj_Close_pct_change_f=9_gt_0.01',\n",
       " 'PG_Adj_Close_pct_change_f=9_lt_-0.01',\n",
       " 'PG_Adj_Close_pct_change_f=10_gt_0.01',\n",
       " 'PG_Adj_Close_pct_change_f=10_lt_-0.01',\n",
       " 'AEP_Adj_Close_pct_change_f=1_gt_0.01',\n",
       " 'AEP_Adj_Close_pct_change_f=1_lt_-0.01',\n",
       " 'AEP_Adj_Close_pct_change_f=2_gt_0.01',\n",
       " 'AEP_Adj_Close_pct_change_f=2_lt_-0.01',\n",
       " 'AEP_Adj_Close_pct_change_f=3_gt_0.01',\n",
       " 'AEP_Adj_Close_pct_change_f=3_lt_-0.01',\n",
       " 'AEP_Adj_Close_pct_change_f=4_gt_0.01',\n",
       " 'AEP_Adj_Close_pct_change_f=4_lt_-0.01',\n",
       " 'AEP_Adj_Close_pct_change_f=5_gt_0.01',\n",
       " 'AEP_Adj_Close_pct_change_f=5_lt_-0.01',\n",
       " 'AEP_Adj_Close_pct_change_f=6_gt_0.01',\n",
       " 'AEP_Adj_Close_pct_change_f=6_lt_-0.01',\n",
       " 'AEP_Adj_Close_pct_change_f=7_gt_0.01',\n",
       " 'AEP_Adj_Close_pct_change_f=7_lt_-0.01',\n",
       " 'AEP_Adj_Close_pct_change_f=8_gt_0.01',\n",
       " 'AEP_Adj_Close_pct_change_f=8_lt_-0.01',\n",
       " 'AEP_Adj_Close_pct_change_f=9_gt_0.01',\n",
       " 'AEP_Adj_Close_pct_change_f=9_lt_-0.01',\n",
       " 'AEP_Adj_Close_pct_change_f=10_gt_0.01',\n",
       " 'AEP_Adj_Close_pct_change_f=10_lt_-0.01',\n",
       " 'DTE_Adj_Close_pct_change_f=1_gt_0.01',\n",
       " 'DTE_Adj_Close_pct_change_f=1_lt_-0.01',\n",
       " 'DTE_Adj_Close_pct_change_f=2_gt_0.01',\n",
       " 'DTE_Adj_Close_pct_change_f=2_lt_-0.01',\n",
       " 'DTE_Adj_Close_pct_change_f=3_gt_0.01',\n",
       " 'DTE_Adj_Close_pct_change_f=3_lt_-0.01',\n",
       " 'DTE_Adj_Close_pct_change_f=4_gt_0.01',\n",
       " 'DTE_Adj_Close_pct_change_f=4_lt_-0.01',\n",
       " 'DTE_Adj_Close_pct_change_f=5_gt_0.01',\n",
       " 'DTE_Adj_Close_pct_change_f=5_lt_-0.01',\n",
       " 'DTE_Adj_Close_pct_change_f=6_gt_0.01',\n",
       " 'DTE_Adj_Close_pct_change_f=6_lt_-0.01',\n",
       " 'DTE_Adj_Close_pct_change_f=7_gt_0.01',\n",
       " 'DTE_Adj_Close_pct_change_f=7_lt_-0.01',\n",
       " 'DTE_Adj_Close_pct_change_f=8_gt_0.01',\n",
       " 'DTE_Adj_Close_pct_change_f=8_lt_-0.01',\n",
       " 'DTE_Adj_Close_pct_change_f=9_gt_0.01',\n",
       " 'DTE_Adj_Close_pct_change_f=9_lt_-0.01',\n",
       " 'DTE_Adj_Close_pct_change_f=10_gt_0.01',\n",
       " 'DTE_Adj_Close_pct_change_f=10_lt_-0.01',\n",
       " 'ED_Adj_Close_pct_change_f=1_gt_0.01',\n",
       " 'ED_Adj_Close_pct_change_f=1_lt_-0.01',\n",
       " 'ED_Adj_Close_pct_change_f=2_gt_0.01',\n",
       " 'ED_Adj_Close_pct_change_f=2_lt_-0.01',\n",
       " 'ED_Adj_Close_pct_change_f=3_gt_0.01',\n",
       " 'ED_Adj_Close_pct_change_f=3_lt_-0.01',\n",
       " 'ED_Adj_Close_pct_change_f=4_gt_0.01',\n",
       " 'ED_Adj_Close_pct_change_f=4_lt_-0.01',\n",
       " 'ED_Adj_Close_pct_change_f=5_gt_0.01',\n",
       " 'ED_Adj_Close_pct_change_f=5_lt_-0.01',\n",
       " 'ED_Adj_Close_pct_change_f=6_gt_0.01',\n",
       " 'ED_Adj_Close_pct_change_f=6_lt_-0.01',\n",
       " 'ED_Adj_Close_pct_change_f=7_gt_0.01',\n",
       " 'ED_Adj_Close_pct_change_f=7_lt_-0.01',\n",
       " 'ED_Adj_Close_pct_change_f=8_gt_0.01',\n",
       " 'ED_Adj_Close_pct_change_f=8_lt_-0.01',\n",
       " 'ED_Adj_Close_pct_change_f=9_gt_0.01',\n",
       " 'ED_Adj_Close_pct_change_f=9_lt_-0.01',\n",
       " 'ED_Adj_Close_pct_change_f=10_gt_0.01',\n",
       " 'ED_Adj_Close_pct_change_f=10_lt_-0.01']"
      ]
     },
     "execution_count": 222,
     "metadata": {},
     "output_type": "execute_result"
    }
   ],
   "source": [
    "targ_labels"
   ]
  },
  {
   "cell_type": "code",
   "execution_count": 228,
   "metadata": {},
   "outputs": [
    {
     "name": "stdout",
     "output_type": "stream",
     "text": [
      "0.9192373006430897\n"
     ]
    },
    {
     "data": {
      "text/plain": [
       "[<matplotlib.lines.Line2D at 0x7f7f0c12d0b8>]"
      ]
     },
     "execution_count": 228,
     "metadata": {},
     "output_type": "execute_result"
    },
    {
     "data": {
      "image/png": "[encoded data removed]",
      "text/plain": [
       "<Figure size 432x288 with 1 Axes>"
      ]
     },
     "metadata": {},
     "output_type": "display_data"
    }
   ],
   "source": [
    "fpr, tpr, _ = roc_curve(train_targets[:, 8], train_preds[:, 8])\n",
    "print(auc(fpr, tpr))\n",
    "plt.plot(fpr, tpr)"
   ]
  },
  {
   "cell_type": "code",
   "execution_count": 231,
   "metadata": {},
   "outputs": [
    {
     "name": "stdout",
     "output_type": "stream",
     "text": [
      "0.5353220564952921\n"
     ]
    },
    {
     "data": {
      "text/plain": [
       "[<matplotlib.lines.Line2D at 0x7f7efe0bc6a0>]"
      ]
     },
     "execution_count": 231,
     "metadata": {},
     "output_type": "execute_result"
    },
    {
     "data": {
      "image/png": "[encoded data removed]",
      "text/plain": [
       "<Figure size 432x288 with 1 Axes>"
      ]
     },
     "metadata": {},
     "output_type": "display_data"
    }
   ],
   "source": [
    "fpr, tpr, _ = roc_curve(test_targets[:, 8], test_preds[:, 8])\n",
    "print(auc(fpr, tpr))\n",
    "plt.plot(fpr, tpr)"
   ]
  },
  {
   "cell_type": "markdown",
   "metadata": {},
   "source": [
    "# maybe just not enough samples for neural nets, try other ML methods"
   ]
  },
  {
   "cell_type": "code",
   "execution_count": null,
   "metadata": {},
   "outputs": [],
   "source": []
  },
  {
   "cell_type": "code",
   "execution_count": 119,
   "metadata": {},
   "outputs": [],
   "source": [
    "from sklearn.svm import SVC"
   ]
  },
  {
   "cell_type": "code",
   "execution_count": 120,
   "metadata": {},
   "outputs": [],
   "source": [
    "clf = SVC()"
   ]
  },
  {
   "cell_type": "code",
   "execution_count": 121,
   "metadata": {},
   "outputs": [
    {
     "data": {
      "text/plain": [
       "SVC(C=1.0, cache_size=200, class_weight=None, coef0=0.0,\n",
       "  decision_function_shape='ovr', degree=3, gamma='auto', kernel='rbf',\n",
       "  max_iter=-1, probability=False, random_state=None, shrinking=True,\n",
       "  tol=0.001, verbose=False)"
      ]
     },
     "execution_count": 121,
     "metadata": {},
     "output_type": "execute_result"
    }
   ],
   "source": [
    "clf.fit(train_features, train_targets[:, 4])"
   ]
  },
  {
   "cell_type": "code",
   "execution_count": 122,
   "metadata": {},
   "outputs": [
    {
     "data": {
      "text/plain": [
       "1.0"
      ]
     },
     "execution_count": 122,
     "metadata": {},
     "output_type": "execute_result"
    }
   ],
   "source": [
    "clf.score(train_features, train_targets[:, 4])"
   ]
  },
  {
   "cell_type": "code",
   "execution_count": 123,
   "metadata": {},
   "outputs": [
    {
     "data": {
      "text/plain": [
       "0.8747407714641228"
      ]
     },
     "execution_count": 123,
     "metadata": {},
     "output_type": "execute_result"
    }
   ],
   "source": [
    "clf.score(test_features, test_targets[:, 4])"
   ]
  },
  {
   "cell_type": "code",
   "execution_count": 124,
   "metadata": {},
   "outputs": [
    {
     "data": {
      "text/plain": [
       "(2411, 147)"
      ]
     },
     "execution_count": 124,
     "metadata": {},
     "output_type": "execute_result"
    }
   ],
   "source": [
    "test_features.shape"
   ]
  },
  {
   "cell_type": "code",
   "execution_count": 125,
   "metadata": {},
   "outputs": [
    {
     "data": {
      "text/plain": [
       "0.768"
      ]
     },
     "execution_count": 125,
     "metadata": {},
     "output_type": "execute_result"
    }
   ],
   "source": [
    "clf.score(test_features[:500], test_targets[:500, 4])"
   ]
  },
  {
   "cell_type": "code",
   "execution_count": 126,
   "metadata": {},
   "outputs": [
    {
     "data": {
      "text/plain": [
       "0.902668759811617"
      ]
     },
     "execution_count": 126,
     "metadata": {},
     "output_type": "execute_result"
    }
   ],
   "source": [
    "clf.score(test_features[500:], test_targets[500:, 4])"
   ]
  },
  {
   "cell_type": "code",
   "execution_count": null,
   "metadata": {},
   "outputs": [],
   "source": []
  },
  {
   "cell_type": "code",
   "execution_count": null,
   "metadata": {},
   "outputs": [],
   "source": []
  },
  {
   "cell_type": "code",
   "execution_count": null,
   "metadata": {},
   "outputs": [],
   "source": []
  }
 ],
 "metadata": {
  "kernelspec": {
   "display_name": "Python 3",
   "language": "python",
   "name": "python3"
  },
  "language_info": {
   "codemirror_mode": {
    "name": "ipython",
    "version": 3
   },
   "file_extension": ".py",
   "mimetype": "text/x-python",
   "name": "python",
   "nbconvert_exporter": "python",
   "pygments_lexer": "ipython3",
   "version": "3.6.4"
  }
 },
 "nbformat": 4,
 "nbformat_minor": 2
}
