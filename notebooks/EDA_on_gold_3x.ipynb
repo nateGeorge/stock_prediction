{
 "cells": [
  {
   "cell_type": "markdown",
   "metadata": {},
   "source": [
    "## EDA on NUGT, DUST, and GLD\n",
    "Looking at the stocks related to gold prices.\n",
    "Testing hypotheses:\n",
    "* how correlated are these stocks?\n",
    "* what are the biggest up/down moves for them?\n",
    "* how well can we predict future prices?"
   ]
  },
  {
   "cell_type": "code",
   "execution_count": 1,
   "metadata": {
    "collapsed": true,
    "deletable": true,
    "editable": true
   },
   "outputs": [],
   "source": [
    "import sys\n",
    "sys.path.append('../code')\n",
    "import scrape_yahoo as sy\n",
    "import matplotlib.pyplot as plt\n",
    "%matplotlib inline"
   ]
  },
  {
   "cell_type": "code",
   "execution_count": 2,
   "metadata": {
    "collapsed": false
   },
   "outputs": [
    {
     "name": "stdout",
     "output_type": "stream",
     "text": [
      "https://ichart.yahoo.com/table.csv?s=GLD&a=0&b=0&c=0&d=04&e=25&f=2017\n",
      "https://ichart.yahoo.com/table.csv?s=DUST&a=0&b=0&c=0&d=04&e=25&f=2017\n",
      "https://ichart.yahoo.com/table.csv?s=NUGT&a=0&b=0&c=0&d=04&e=25&f=2017\n"
     ]
    }
   ],
   "source": [
    "sy.download_stocks()"
   ]
  },
  {
   "cell_type": "code",
   "execution_count": 3,
   "metadata": {
    "collapsed": false
   },
   "outputs": [],
   "source": [
    "dfs = sy.load_stocks()"
   ]
  },
  {
   "cell_type": "code",
   "execution_count": 4,
   "metadata": {
    "collapsed": false
   },
   "outputs": [
    {
     "data": {
      "text/plain": [
       "dict_keys(['GLD', 'NUGT', 'DUST'])"
      ]
     },
     "execution_count": 4,
     "metadata": {},
     "output_type": "execute_result"
    }
   ],
   "source": [
    "dfs.keys()"
   ]
  },
  {
   "cell_type": "code",
   "execution_count": 5,
   "metadata": {
    "collapsed": true
   },
   "outputs": [],
   "source": [
    "NUGT = dfs['NUGT']\n",
    "DUST = dfs['DUST']\n",
    "GLD = dfs['GLD']"
   ]
  },
  {
   "cell_type": "code",
   "execution_count": 6,
   "metadata": {
    "collapsed": false
   },
   "outputs": [
    {
     "data": {
      "text/html": [
       "<div>\n",
       "<table border=\"1\" class=\"dataframe\">\n",
       "  <thead>\n",
       "    <tr style=\"text-align: right;\">\n",
       "      <th></th>\n",
       "      <th>Open</th>\n",
       "      <th>High</th>\n",
       "      <th>Low</th>\n",
       "      <th>Close</th>\n",
       "      <th>Volume</th>\n",
       "      <th>Adj Close</th>\n",
       "    </tr>\n",
       "    <tr>\n",
       "      <th>Date</th>\n",
       "      <th></th>\n",
       "      <th></th>\n",
       "      <th></th>\n",
       "      <th></th>\n",
       "      <th></th>\n",
       "      <th></th>\n",
       "    </tr>\n",
       "  </thead>\n",
       "  <tbody>\n",
       "    <tr>\n",
       "      <th>2017-04-24</th>\n",
       "      <td>9.28</td>\n",
       "      <td>9.65</td>\n",
       "      <td>9.21</td>\n",
       "      <td>9.36</td>\n",
       "      <td>31491500.0</td>\n",
       "      <td>9.36</td>\n",
       "    </tr>\n",
       "    <tr>\n",
       "      <th>2017-04-21</th>\n",
       "      <td>9.96</td>\n",
       "      <td>10.14</td>\n",
       "      <td>9.72</td>\n",
       "      <td>9.87</td>\n",
       "      <td>36263800.0</td>\n",
       "      <td>9.87</td>\n",
       "    </tr>\n",
       "    <tr>\n",
       "      <th>2017-04-20</th>\n",
       "      <td>9.70</td>\n",
       "      <td>10.12</td>\n",
       "      <td>9.60</td>\n",
       "      <td>9.84</td>\n",
       "      <td>30196300.0</td>\n",
       "      <td>9.84</td>\n",
       "    </tr>\n",
       "    <tr>\n",
       "      <th>2017-04-19</th>\n",
       "      <td>10.50</td>\n",
       "      <td>10.53</td>\n",
       "      <td>9.50</td>\n",
       "      <td>9.64</td>\n",
       "      <td>54166700.0</td>\n",
       "      <td>9.64</td>\n",
       "    </tr>\n",
       "    <tr>\n",
       "      <th>2017-04-18</th>\n",
       "      <td>10.96</td>\n",
       "      <td>11.01</td>\n",
       "      <td>10.41</td>\n",
       "      <td>10.80</td>\n",
       "      <td>39339000.0</td>\n",
       "      <td>10.80</td>\n",
       "    </tr>\n",
       "  </tbody>\n",
       "</table>\n",
       "</div>"
      ],
      "text/plain": [
       "             Open   High    Low  Close      Volume  Adj Close\n",
       "Date                                                         \n",
       "2017-04-24   9.28   9.65   9.21   9.36  31491500.0       9.36\n",
       "2017-04-21   9.96  10.14   9.72   9.87  36263800.0       9.87\n",
       "2017-04-20   9.70  10.12   9.60   9.84  30196300.0       9.84\n",
       "2017-04-19  10.50  10.53   9.50   9.64  54166700.0       9.64\n",
       "2017-04-18  10.96  11.01  10.41  10.80  39339000.0      10.80"
      ]
     },
     "execution_count": 6,
     "metadata": {},
     "output_type": "execute_result"
    }
   ],
   "source": [
    "NUGT.head()"
   ]
  },
  {
   "cell_type": "code",
   "execution_count": 8,
   "metadata": {
    "collapsed": false
   },
   "outputs": [],
   "source": [
    "NUGT['Open'] = NUGT['Open'] * NUGT['Adj Close'] / NUGT['Close']"
   ]
  },
  {
   "cell_type": "code",
   "execution_count": 9,
   "metadata": {
    "collapsed": false
   },
   "outputs": [
    {
     "data": {
      "text/html": [
       "<div>\n",
       "<table border=\"1\" class=\"dataframe\">\n",
       "  <thead>\n",
       "    <tr style=\"text-align: right;\">\n",
       "      <th></th>\n",
       "      <th>Open</th>\n",
       "      <th>High</th>\n",
       "      <th>Low</th>\n",
       "      <th>Close</th>\n",
       "      <th>Volume</th>\n",
       "      <th>Adj Close</th>\n",
       "    </tr>\n",
       "    <tr>\n",
       "      <th>Date</th>\n",
       "      <th></th>\n",
       "      <th></th>\n",
       "      <th></th>\n",
       "      <th></th>\n",
       "      <th></th>\n",
       "      <th></th>\n",
       "    </tr>\n",
       "  </thead>\n",
       "  <tbody>\n",
       "    <tr>\n",
       "      <th>2010-12-14</th>\n",
       "      <td>3839.427653</td>\n",
       "      <td>40.319999</td>\n",
       "      <td>39.309999</td>\n",
       "      <td>39.679999</td>\n",
       "      <td>500.0</td>\n",
       "      <td>3814.433882</td>\n",
       "    </tr>\n",
       "    <tr>\n",
       "      <th>2010-12-13</th>\n",
       "      <td>3871.150517</td>\n",
       "      <td>40.719999</td>\n",
       "      <td>39.509999</td>\n",
       "      <td>39.619999</td>\n",
       "      <td>500.0</td>\n",
       "      <td>3808.666089</td>\n",
       "    </tr>\n",
       "    <tr>\n",
       "      <th>2010-12-10</th>\n",
       "      <td>3706.768409</td>\n",
       "      <td>39.229999</td>\n",
       "      <td>37.749999</td>\n",
       "      <td>39.009999</td>\n",
       "      <td>2500.0</td>\n",
       "      <td>3750.026859</td>\n",
       "    </tr>\n",
       "    <tr>\n",
       "      <th>2010-12-09</th>\n",
       "      <td>3766.368941</td>\n",
       "      <td>39.259999</td>\n",
       "      <td>38.259999</td>\n",
       "      <td>38.699999</td>\n",
       "      <td>4000.0</td>\n",
       "      <td>3720.226594</td>\n",
       "    </tr>\n",
       "    <tr>\n",
       "      <th>2010-12-08</th>\n",
       "      <td>3775.020631</td>\n",
       "      <td>40.599999</td>\n",
       "      <td>38.039999</td>\n",
       "      <td>38.389999</td>\n",
       "      <td>2000.0</td>\n",
       "      <td>3690.426329</td>\n",
       "    </tr>\n",
       "  </tbody>\n",
       "</table>\n",
       "</div>"
      ],
      "text/plain": [
       "                   Open       High        Low      Close  Volume    Adj Close\n",
       "Date                                                                         \n",
       "2010-12-14  3839.427653  40.319999  39.309999  39.679999   500.0  3814.433882\n",
       "2010-12-13  3871.150517  40.719999  39.509999  39.619999   500.0  3808.666089\n",
       "2010-12-10  3706.768409  39.229999  37.749999  39.009999  2500.0  3750.026859\n",
       "2010-12-09  3766.368941  39.259999  38.259999  38.699999  4000.0  3720.226594\n",
       "2010-12-08  3775.020631  40.599999  38.039999  38.389999  2000.0  3690.426329"
      ]
     },
     "execution_count": 9,
     "metadata": {},
     "output_type": "execute_result"
    }
   ],
   "source": [
    "NUGT.tail()"
   ]
  },
  {
   "cell_type": "code",
   "execution_count": 13,
   "metadata": {
    "collapsed": false
   },
   "outputs": [],
   "source": [
    "te = NUGT.iloc[-1]"
   ]
  },
  {
   "cell_type": "code",
   "execution_count": 14,
   "metadata": {
    "collapsed": false
   },
   "outputs": [
    {
     "data": {
      "text/plain": [
       "0.010402591889810896"
      ]
     },
     "execution_count": 14,
     "metadata": {},
     "output_type": "execute_result"
    }
   ],
   "source": [
    "last_ratio = te['Close'] / te['Adj Close']\n",
    "last_ratio"
   ]
  },
  {
   "cell_type": "code",
   "execution_count": 6,
   "metadata": {
    "collapsed": false
   },
   "outputs": [],
   "source": [
    "df = sy.normalize_prices(NUGT)"
   ]
  },
  {
   "cell_type": "code",
   "execution_count": 7,
   "metadata": {
    "collapsed": false
   },
   "outputs": [
    {
     "data": {
      "text/html": [
       "<div>\n",
       "<table border=\"1\" class=\"dataframe\">\n",
       "  <thead>\n",
       "    <tr style=\"text-align: right;\">\n",
       "      <th></th>\n",
       "      <th>Open</th>\n",
       "      <th>High</th>\n",
       "      <th>Low</th>\n",
       "      <th>Close</th>\n",
       "      <th>Volume</th>\n",
       "      <th>Adj Close</th>\n",
       "    </tr>\n",
       "    <tr>\n",
       "      <th>Date</th>\n",
       "      <th></th>\n",
       "      <th></th>\n",
       "      <th></th>\n",
       "      <th></th>\n",
       "      <th></th>\n",
       "      <th></th>\n",
       "    </tr>\n",
       "  </thead>\n",
       "  <tbody>\n",
       "    <tr>\n",
       "      <th>2017-04-25</th>\n",
       "      <td>0.093623</td>\n",
       "      <td>0.093727</td>\n",
       "      <td>0.081764</td>\n",
       "      <td>0.084989</td>\n",
       "      <td>74354700.0</td>\n",
       "      <td>8.17</td>\n",
       "    </tr>\n",
       "    <tr>\n",
       "      <th>2017-04-24</th>\n",
       "      <td>0.096536</td>\n",
       "      <td>0.100385</td>\n",
       "      <td>0.095808</td>\n",
       "      <td>0.097368</td>\n",
       "      <td>31491500.0</td>\n",
       "      <td>9.36</td>\n",
       "    </tr>\n",
       "    <tr>\n",
       "      <th>2017-04-21</th>\n",
       "      <td>0.103610</td>\n",
       "      <td>0.105482</td>\n",
       "      <td>0.101113</td>\n",
       "      <td>0.102674</td>\n",
       "      <td>36263800.0</td>\n",
       "      <td>9.87</td>\n",
       "    </tr>\n",
       "    <tr>\n",
       "      <th>2017-04-20</th>\n",
       "      <td>0.100905</td>\n",
       "      <td>0.105274</td>\n",
       "      <td>0.099865</td>\n",
       "      <td>0.102362</td>\n",
       "      <td>30196300.0</td>\n",
       "      <td>9.84</td>\n",
       "    </tr>\n",
       "    <tr>\n",
       "      <th>2017-04-19</th>\n",
       "      <td>0.109227</td>\n",
       "      <td>0.109539</td>\n",
       "      <td>0.098825</td>\n",
       "      <td>0.100281</td>\n",
       "      <td>54166700.0</td>\n",
       "      <td>9.64</td>\n",
       "    </tr>\n",
       "  </tbody>\n",
       "</table>\n",
       "</div>"
      ],
      "text/plain": [
       "                Open      High       Low     Close      Volume  Adj Close\n",
       "Date                                                                     \n",
       "2017-04-25  0.093623  0.093727  0.081764  0.084989  74354700.0       8.17\n",
       "2017-04-24  0.096536  0.100385  0.095808  0.097368  31491500.0       9.36\n",
       "2017-04-21  0.103610  0.105482  0.101113  0.102674  36263800.0       9.87\n",
       "2017-04-20  0.100905  0.105274  0.099865  0.102362  30196300.0       9.84\n",
       "2017-04-19  0.109227  0.109539  0.098825  0.100281  54166700.0       9.64"
      ]
     },
     "execution_count": 7,
     "metadata": {},
     "output_type": "execute_result"
    }
   ],
   "source": [
    "df.head()"
   ]
  },
  {
   "cell_type": "code",
   "execution_count": 8,
   "metadata": {
    "collapsed": false
   },
   "outputs": [
    {
     "data": {
      "text/html": [
       "<div>\n",
       "<table border=\"1\" class=\"dataframe\">\n",
       "  <thead>\n",
       "    <tr style=\"text-align: right;\">\n",
       "      <th></th>\n",
       "      <th>Open</th>\n",
       "      <th>High</th>\n",
       "      <th>Low</th>\n",
       "      <th>Close</th>\n",
       "      <th>Volume</th>\n",
       "      <th>Adj Close</th>\n",
       "    </tr>\n",
       "    <tr>\n",
       "      <th>Date</th>\n",
       "      <th></th>\n",
       "      <th></th>\n",
       "      <th></th>\n",
       "      <th></th>\n",
       "      <th></th>\n",
       "      <th></th>\n",
       "    </tr>\n",
       "  </thead>\n",
       "  <tbody>\n",
       "    <tr>\n",
       "      <th>2017-04-25</th>\n",
       "      <td>9.00</td>\n",
       "      <td>9.01</td>\n",
       "      <td>7.86</td>\n",
       "      <td>8.17</td>\n",
       "      <td>74354700.0</td>\n",
       "      <td>8.17</td>\n",
       "    </tr>\n",
       "    <tr>\n",
       "      <th>2017-04-24</th>\n",
       "      <td>9.28</td>\n",
       "      <td>9.65</td>\n",
       "      <td>9.21</td>\n",
       "      <td>9.36</td>\n",
       "      <td>31491500.0</td>\n",
       "      <td>9.36</td>\n",
       "    </tr>\n",
       "    <tr>\n",
       "      <th>2017-04-21</th>\n",
       "      <td>9.96</td>\n",
       "      <td>10.14</td>\n",
       "      <td>9.72</td>\n",
       "      <td>9.87</td>\n",
       "      <td>36263800.0</td>\n",
       "      <td>9.87</td>\n",
       "    </tr>\n",
       "    <tr>\n",
       "      <th>2017-04-20</th>\n",
       "      <td>9.70</td>\n",
       "      <td>10.12</td>\n",
       "      <td>9.60</td>\n",
       "      <td>9.84</td>\n",
       "      <td>30196300.0</td>\n",
       "      <td>9.84</td>\n",
       "    </tr>\n",
       "    <tr>\n",
       "      <th>2017-04-19</th>\n",
       "      <td>10.50</td>\n",
       "      <td>10.53</td>\n",
       "      <td>9.50</td>\n",
       "      <td>9.64</td>\n",
       "      <td>54166700.0</td>\n",
       "      <td>9.64</td>\n",
       "    </tr>\n",
       "  </tbody>\n",
       "</table>\n",
       "</div>"
      ],
      "text/plain": [
       "             Open   High   Low  Close      Volume  Adj Close\n",
       "Date                                                        \n",
       "2017-04-25   9.00   9.01  7.86   8.17  74354700.0       8.17\n",
       "2017-04-24   9.28   9.65  9.21   9.36  31491500.0       9.36\n",
       "2017-04-21   9.96  10.14  9.72   9.87  36263800.0       9.87\n",
       "2017-04-20   9.70  10.12  9.60   9.84  30196300.0       9.84\n",
       "2017-04-19  10.50  10.53  9.50   9.64  54166700.0       9.64"
      ]
     },
     "execution_count": 8,
     "metadata": {},
     "output_type": "execute_result"
    }
   ],
   "source": [
    "NUGT.head()"
   ]
  },
  {
   "cell_type": "code",
   "execution_count": 9,
   "metadata": {
    "collapsed": false
   },
   "outputs": [
    {
     "data": {
      "text/html": [
       "<div>\n",
       "<table border=\"1\" class=\"dataframe\">\n",
       "  <thead>\n",
       "    <tr style=\"text-align: right;\">\n",
       "      <th></th>\n",
       "      <th>Open</th>\n",
       "      <th>High</th>\n",
       "      <th>Low</th>\n",
       "      <th>Close</th>\n",
       "      <th>Volume</th>\n",
       "      <th>Adj Close</th>\n",
       "    </tr>\n",
       "    <tr>\n",
       "      <th>Date</th>\n",
       "      <th></th>\n",
       "      <th></th>\n",
       "      <th></th>\n",
       "      <th></th>\n",
       "      <th></th>\n",
       "      <th></th>\n",
       "    </tr>\n",
       "  </thead>\n",
       "  <tbody>\n",
       "    <tr>\n",
       "      <th>2010-12-14</th>\n",
       "      <td>39.939999</td>\n",
       "      <td>40.319999</td>\n",
       "      <td>39.309999</td>\n",
       "      <td>39.679999</td>\n",
       "      <td>500.0</td>\n",
       "      <td>3814.433882</td>\n",
       "    </tr>\n",
       "    <tr>\n",
       "      <th>2010-12-13</th>\n",
       "      <td>40.269999</td>\n",
       "      <td>40.719999</td>\n",
       "      <td>39.509999</td>\n",
       "      <td>39.619999</td>\n",
       "      <td>500.0</td>\n",
       "      <td>3808.666089</td>\n",
       "    </tr>\n",
       "    <tr>\n",
       "      <th>2010-12-10</th>\n",
       "      <td>38.559999</td>\n",
       "      <td>39.229999</td>\n",
       "      <td>37.749999</td>\n",
       "      <td>39.009999</td>\n",
       "      <td>2500.0</td>\n",
       "      <td>3750.026859</td>\n",
       "    </tr>\n",
       "    <tr>\n",
       "      <th>2010-12-09</th>\n",
       "      <td>39.179999</td>\n",
       "      <td>39.259999</td>\n",
       "      <td>38.259999</td>\n",
       "      <td>38.699999</td>\n",
       "      <td>4000.0</td>\n",
       "      <td>3720.226594</td>\n",
       "    </tr>\n",
       "    <tr>\n",
       "      <th>2010-12-08</th>\n",
       "      <td>39.269999</td>\n",
       "      <td>40.599999</td>\n",
       "      <td>38.039999</td>\n",
       "      <td>38.389999</td>\n",
       "      <td>2000.0</td>\n",
       "      <td>3690.426329</td>\n",
       "    </tr>\n",
       "  </tbody>\n",
       "</table>\n",
       "</div>"
      ],
      "text/plain": [
       "                 Open       High        Low      Close  Volume    Adj Close\n",
       "Date                                                                       \n",
       "2010-12-14  39.939999  40.319999  39.309999  39.679999   500.0  3814.433882\n",
       "2010-12-13  40.269999  40.719999  39.509999  39.619999   500.0  3808.666089\n",
       "2010-12-10  38.559999  39.229999  37.749999  39.009999  2500.0  3750.026859\n",
       "2010-12-09  39.179999  39.259999  38.259999  38.699999  4000.0  3720.226594\n",
       "2010-12-08  39.269999  40.599999  38.039999  38.389999  2000.0  3690.426329"
      ]
     },
     "execution_count": 9,
     "metadata": {},
     "output_type": "execute_result"
    }
   ],
   "source": [
    "NUGT.tail()"
   ]
  },
  {
   "cell_type": "code",
   "execution_count": 10,
   "metadata": {
    "collapsed": false
   },
   "outputs": [
    {
     "data": {
      "text/html": [
       "<div>\n",
       "<table border=\"1\" class=\"dataframe\">\n",
       "  <thead>\n",
       "    <tr style=\"text-align: right;\">\n",
       "      <th></th>\n",
       "      <th>Open</th>\n",
       "      <th>High</th>\n",
       "      <th>Low</th>\n",
       "      <th>Close</th>\n",
       "      <th>Volume</th>\n",
       "      <th>Adj Close</th>\n",
       "    </tr>\n",
       "    <tr>\n",
       "      <th>Date</th>\n",
       "      <th></th>\n",
       "      <th></th>\n",
       "      <th></th>\n",
       "      <th></th>\n",
       "      <th></th>\n",
       "      <th></th>\n",
       "    </tr>\n",
       "  </thead>\n",
       "  <tbody>\n",
       "    <tr>\n",
       "      <th>2010-12-14</th>\n",
       "      <td>39.939999</td>\n",
       "      <td>40.319999</td>\n",
       "      <td>39.309999</td>\n",
       "      <td>39.679999</td>\n",
       "      <td>500.0</td>\n",
       "      <td>3814.433882</td>\n",
       "    </tr>\n",
       "    <tr>\n",
       "      <th>2010-12-13</th>\n",
       "      <td>40.269999</td>\n",
       "      <td>40.719999</td>\n",
       "      <td>39.509999</td>\n",
       "      <td>39.619999</td>\n",
       "      <td>500.0</td>\n",
       "      <td>3808.666089</td>\n",
       "    </tr>\n",
       "    <tr>\n",
       "      <th>2010-12-10</th>\n",
       "      <td>38.559999</td>\n",
       "      <td>39.229999</td>\n",
       "      <td>37.749999</td>\n",
       "      <td>39.009999</td>\n",
       "      <td>2500.0</td>\n",
       "      <td>3750.026859</td>\n",
       "    </tr>\n",
       "    <tr>\n",
       "      <th>2010-12-09</th>\n",
       "      <td>39.179999</td>\n",
       "      <td>39.259999</td>\n",
       "      <td>38.259999</td>\n",
       "      <td>38.699999</td>\n",
       "      <td>4000.0</td>\n",
       "      <td>3720.226594</td>\n",
       "    </tr>\n",
       "    <tr>\n",
       "      <th>2010-12-08</th>\n",
       "      <td>39.269999</td>\n",
       "      <td>40.599999</td>\n",
       "      <td>38.039999</td>\n",
       "      <td>38.389999</td>\n",
       "      <td>2000.0</td>\n",
       "      <td>3690.426329</td>\n",
       "    </tr>\n",
       "  </tbody>\n",
       "</table>\n",
       "</div>"
      ],
      "text/plain": [
       "                 Open       High        Low      Close  Volume    Adj Close\n",
       "Date                                                                       \n",
       "2010-12-14  39.939999  40.319999  39.309999  39.679999   500.0  3814.433882\n",
       "2010-12-13  40.269999  40.719999  39.509999  39.619999   500.0  3808.666089\n",
       "2010-12-10  38.559999  39.229999  37.749999  39.009999  2500.0  3750.026859\n",
       "2010-12-09  39.179999  39.259999  38.259999  38.699999  4000.0  3720.226594\n",
       "2010-12-08  39.269999  40.599999  38.039999  38.389999  2000.0  3690.426329"
      ]
     },
     "execution_count": 10,
     "metadata": {},
     "output_type": "execute_result"
    }
   ],
   "source": [
    "df.tail()"
   ]
  },
  {
   "cell_type": "code",
   "execution_count": 12,
   "metadata": {
    "collapsed": false
   },
   "outputs": [
    {
     "data": {
      "text/plain": [
       "38.0"
      ]
     },
     "execution_count": 12,
     "metadata": {},
     "output_type": "execute_result"
    }
   ],
   "source": [
    "38*3700/38/3700*38"
   ]
  },
  {
   "cell_type": "markdown",
   "metadata": {},
   "source": [
    "## create some new features related to differences in price metrics"
   ]
  },
  {
   "cell_type": "code",
   "execution_count": 18,
   "metadata": {
    "collapsed": false
   },
   "outputs": [],
   "source": [
    "NUGT['close-open'] = NUGT['Close'] - NUGT['Open']\n",
    "NUGT['high-low'] = NUGT['High'] - NUGT['Low']\n",
    "DUST['close-open'] = DUST['Close'] - DUST['Open']\n",
    "DUST['high-low'] = DUST['High'] - DUST['Low']\n",
    "GLD['close-open'] = NUGT['Close'] - NUGT['Open']\n",
    "GLD['high-low'] = NUGT['High'] - NUGT['Low']"
   ]
  },
  {
   "cell_type": "code",
   "execution_count": 14,
   "metadata": {
    "collapsed": false
   },
   "outputs": [
    {
     "data": {
      "image/png": "[encoded data removed]",
      "text/plain": [
       "<matplotlib.figure.Figure at 0x7f8fb8aaad68>"
      ]
     },
     "metadata": {},
     "output_type": "display_data"
    }
   ],
   "source": [
    "f = NUGT['high-low'].hist(bins=30)"
   ]
  },
  {
   "cell_type": "markdown",
   "metadata": {},
   "source": [
    "Hmm...looks like maybe a weak bi-modal distribution.  There's a slight bump around 12"
   ]
  },
  {
   "cell_type": "code",
   "execution_count": 15,
   "metadata": {
    "collapsed": false
   },
   "outputs": [
    {
     "data": {
      "image/png": "[encoded data removed]",
      "text/plain": [
       "<matplotlib.figure.Figure at 0x7f8fb8819fd0>"
      ]
     },
     "metadata": {},
     "output_type": "display_data"
    }
   ],
   "source": [
    "f = NUGT['high-low'].hist(bins=30)\n",
    "ax = plt.gca()\n",
    "ax.set_yscale(\"log\", nonposy='clip')"
   ]
  },
  {
   "cell_type": "code",
   "execution_count": null,
   "metadata": {
    "collapsed": true
   },
   "outputs": [],
   "source": []
  },
  {
   "cell_type": "code",
   "execution_count": 19,
   "metadata": {
    "collapsed": false,
    "deletable": true,
    "editable": true
   },
   "outputs": [
    {
     "data": {
      "image/png": "[encoded data removed]",
      "text/plain": [
       "<matplotlib.figure.Figure at 0x7f8fb8711550>"
      ]
     },
     "metadata": {},
     "output_type": "display_data"
    }
   ],
   "source": [
    "f = DUST['high-low'].hist(bins=30)"
   ]
  },
  {
   "cell_type": "code",
   "execution_count": 20,
   "metadata": {
    "collapsed": false,
    "deletable": true,
    "editable": true
   },
   "outputs": [
    {
     "data": {
      "image/png": "[encoded data removed]",
      "text/plain": [
       "<matplotlib.figure.Figure at 0x7f8fb86add30>"
      ]
     },
     "metadata": {},
     "output_type": "display_data"
    }
   ],
   "source": [
    "f = DUST['high-low'].hist(bins=30)\n",
    "ax = plt.gca()\n",
    "ax.set_yscale(\"log\", nonposy='clip')"
   ]
  },
  {
   "cell_type": "code",
   "execution_count": 24,
   "metadata": {
    "collapsed": false
   },
   "outputs": [
    {
     "data": {
      "image/png": "[encoded data removed]",
      "text/plain": [
       "<matplotlib.figure.Figure at 0x7f8fb8705400>"
      ]
     },
     "metadata": {},
     "output_type": "display_data"
    }
   ],
   "source": [
    "f = NUGT['Close'].plot()"
   ]
  },
  {
   "cell_type": "markdown",
   "metadata": {},
   "source": [
    "# generate simple time-lagged feature\n",
    "Question: based on a week of data, can we predict the price one week in the future?  E.g., given data from M-F, can we predict the close price next Friday?\n",
    "\n",
    "\n",
    "I suppose a good question to ask would be can we predict large movements up or down one week out in the future?"
   ]
  },
  {
   "cell_type": "code",
   "execution_count": 22,
   "metadata": {
    "collapsed": true
   },
   "outputs": [],
   "source": [
    "# set hyperparameters\n",
    "history_days = 5  # number of days to use for prediction\n",
    "future_days = 5  # days out in the future we want to predict for\n",
    "data_points = NUGT.shape[0]"
   ]
  },
  {
   "cell_type": "code",
   "execution_count": null,
   "metadata": {
    "collapsed": true
   },
   "outputs": [],
   "source": [
    "for i in range(history_days, )"
   ]
  }
 ],
 "metadata": {
  "kernelspec": {
   "display_name": "Python 3",
   "language": "python",
   "name": "python3"
  },
  "language_info": {
   "codemirror_mode": {
    "name": "ipython",
    "version": 3
   },
   "file_extension": ".py",
   "mimetype": "text/x-python",
   "name": "python",
   "nbconvert_exporter": "python",
   "pygments_lexer": "ipython3",
   "version": "3.5.2"
  }
 },
 "nbformat": 4,
 "nbformat_minor": 2
}
