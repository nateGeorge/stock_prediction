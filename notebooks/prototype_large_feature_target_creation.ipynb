{
 "cells": [
  {
   "cell_type": "markdown",
   "metadata": {},
   "source": [
    "The idea is to create features that include many stocks, and targets that are the future prices for a range of days, as well as the OHLC for each of those days."
   ]
  },
  {
   "cell_type": "markdown",
   "metadata": {},
   "source": [
    "The plan is:\n",
    "* prototype feature/target creation and neural net with OHLC for a single day\n",
    "* extend prototype to predict future values for a range of days\n",
    "* extend prototype to include multiple stocks\n",
    "* convert to a function\n",
    "* put in a file and test functions"
   ]
  },
  {
   "cell_type": "code",
   "execution_count": 1,
   "metadata": {},
   "outputs": [],
   "source": [
    "# for auto-reloading external modules\n",
    "# see http://stackoverflow.com/questions/1907993/autoreload-of-modules-in-ipython\n",
    "%load_ext autoreload\n",
    "%autoreload 2"
   ]
  },
  {
   "cell_type": "code",
   "execution_count": 2,
   "metadata": {},
   "outputs": [],
   "source": [
    "import pandas as pd"
   ]
  },
  {
   "cell_type": "code",
   "execution_count": 3,
   "metadata": {},
   "outputs": [],
   "source": [
    "sorted_old = pd.read_csv('old_good_sorted_by_ewm.csv')"
   ]
  },
  {
   "cell_type": "code",
   "execution_count": 4,
   "metadata": {},
   "outputs": [],
   "source": [
    "top_stocks = sorted_old.loc[:100, 'ticker'].tolist() + ['SPY', 'UPRO', 'QQQ', 'TQQQ', 'DIA', 'UBT']"
   ]
  },
  {
   "cell_type": "code",
   "execution_count": 5,
   "metadata": {},
   "outputs": [
    {
     "data": {
      "text/plain": [
       "['GGP',\n",
       " 'LNG',\n",
       " 'AKS',\n",
       " 'CHK',\n",
       " 'AMD',\n",
       " 'CAR',\n",
       " 'OLED',\n",
       " 'INCY',\n",
       " 'SIRI',\n",
       " 'SWKS',\n",
       " 'MT',\n",
       " 'MU',\n",
       " 'NKTR',\n",
       " 'X',\n",
       " 'ETFC',\n",
       " 'FCX',\n",
       " 'VRX',\n",
       " 'REGN',\n",
       " 'WDC',\n",
       " 'VRTX',\n",
       " 'URI',\n",
       " 'CY',\n",
       " 'RIG',\n",
       " 'MSCC',\n",
       " 'AIG',\n",
       " 'AKAM',\n",
       " 'RRC',\n",
       " 'MGM',\n",
       " 'ANDV',\n",
       " 'SWN',\n",
       " 'TER',\n",
       " 'NVDA',\n",
       " 'WMB',\n",
       " 'BBY',\n",
       " 'LRCX',\n",
       " 'GG',\n",
       " 'FFIV',\n",
       " 'STLD',\n",
       " 'ALXN',\n",
       " 'NOV',\n",
       " 'NTAP',\n",
       " 'RIO',\n",
       " 'PHM',\n",
       " 'BKNG',\n",
       " 'ABX',\n",
       " 'DHI',\n",
       " 'ADSK',\n",
       " 'CELG',\n",
       " 'BMRN',\n",
       " 'SIG',\n",
       " 'CGNX',\n",
       " 'MOS',\n",
       " 'TTWO',\n",
       " 'RCL',\n",
       " 'HIG',\n",
       " 'ASML',\n",
       " 'LEN',\n",
       " 'MS',\n",
       " 'JNPR',\n",
       " 'AMAT',\n",
       " 'AABA',\n",
       " 'PXD',\n",
       " 'CTXS',\n",
       " 'HP',\n",
       " 'BIIB',\n",
       " 'HOLX',\n",
       " 'SBAC',\n",
       " 'EA',\n",
       " 'HAL',\n",
       " 'AMZN',\n",
       " 'MNST',\n",
       " 'HFC',\n",
       " 'KLAC',\n",
       " 'AMTD',\n",
       " 'C',\n",
       " 'KMX',\n",
       " 'COG',\n",
       " 'ALK',\n",
       " 'LNC',\n",
       " 'RHT',\n",
       " 'NEM',\n",
       " 'SCHW',\n",
       " 'SIVB',\n",
       " 'VLO',\n",
       " 'APC',\n",
       " 'DVN',\n",
       " 'BHP',\n",
       " 'IVZ',\n",
       " 'M',\n",
       " 'ADBE',\n",
       " 'AAPL',\n",
       " 'TOL',\n",
       " 'COHR',\n",
       " 'GLW',\n",
       " 'SYMC',\n",
       " 'APA',\n",
       " 'ATVI',\n",
       " 'JWN',\n",
       " 'NVR',\n",
       " 'COF',\n",
       " 'ADI',\n",
       " 'SPY',\n",
       " 'UPRO',\n",
       " 'QQQ',\n",
       " 'TQQQ',\n",
       " 'DIA',\n",
       " 'UBT']"
      ]
     },
     "execution_count": 5,
     "metadata": {},
     "output_type": "execute_result"
    }
   ],
   "source": [
    "top_stocks"
   ]
  },
  {
   "cell_type": "code",
   "execution_count": 6,
   "metadata": {},
   "outputs": [],
   "source": [
    "# prototype with 5 stocks so it will run fast\n",
    "top_stocks = top_stocks[:5]"
   ]
  },
  {
   "cell_type": "code",
   "execution_count": 7,
   "metadata": {},
   "outputs": [
    {
     "data": {
      "text/plain": [
       "['GGP', 'LNG', 'AKS', 'CHK', 'AMD']"
      ]
     },
     "execution_count": 7,
     "metadata": {},
     "output_type": "execute_result"
    }
   ],
   "source": [
    "top_stocks"
   ]
  },
  {
   "cell_type": "markdown",
   "metadata": {},
   "source": [
    "# prototype feat/targ creation and neural net with OHLC for single day"
   ]
  },
  {
   "cell_type": "markdown",
   "metadata": {},
   "source": [
    "ideas:\n",
    "* use TAs (especially those are scaled to a bound range)\n",
    "* for anything not scaled to a bound range, take a few lagged time percent differences, e.g. 1, 2, 3, 5, 10, 20, 30, 50, 100 day differences (especially OHLCV) -- scaled by the earliest value\n",
    "* predict % changed OHLCV for range of days, 1-10.  scale by earliest value"
   ]
  },
  {
   "cell_type": "markdown",
   "metadata": {},
   "source": [
    "# feat/targ for OHLC for single day future and single day history"
   ]
  },
  {
   "cell_type": "code",
   "execution_count": 12,
   "metadata": {},
   "outputs": [],
   "source": [
    "import sys\n",
    "sys.path.append('../code')\n",
    "import data_processing as dp"
   ]
  },
  {
   "cell_type": "code",
   "execution_count": 13,
   "metadata": {},
   "outputs": [
    {
     "name": "stdout",
     "output_type": "stream",
     "text": [
      "loading stocks...\n",
      "calculating TAs...\n"
     ]
    }
   ],
   "source": [
    "dfs, _, _ = dp.load_stocks(stocks=top_stocks,\n",
    "                           finra_shorts=False,\n",
    "                           short_interest=False,\n",
    "                           earliest_date=None,\n",
    "                           calc_scores=False)"
   ]
  },
  {
   "cell_type": "code",
   "execution_count": 17,
   "metadata": {},
   "outputs": [],
   "source": [
    "earliest_dates = []\n",
    "for s in dfs.keys():\n",
    "    earliest_dates.append(dfs[s].index.min())"
   ]
  },
  {
   "cell_type": "code",
   "execution_count": 21,
   "metadata": {},
   "outputs": [
    {
     "data": {
      "text/plain": [
       "Timestamp('1994-04-04 00:00:00')"
      ]
     },
     "execution_count": 21,
     "metadata": {},
     "output_type": "execute_result"
    }
   ],
   "source": [
    "max(earliest_dates)"
   ]
  },
  {
   "cell_type": "code",
   "execution_count": 22,
   "metadata": {},
   "outputs": [],
   "source": [
    "# for now, abbreviate stocks to the latest date\n",
    "for s in dfs.keys():\n",
    "    dfs[s] = dfs[s][dfs[s].index > max(earliest_dates)]"
   ]
  },
  {
   "cell_type": "code",
   "execution_count": 23,
   "metadata": {},
   "outputs": [
    {
     "name": "stdout",
     "output_type": "stream",
     "text": [
      "(6027, 148)\n",
      "(6027, 148)\n",
      "(6027, 148)\n",
      "(6027, 148)\n",
      "(6027, 148)\n"
     ]
    }
   ],
   "source": [
    "# double check that the shapes are the same\n",
    "for s in dfs.keys():\n",
    "    print(dfs[s].shape)"
   ]
  },
  {
   "cell_type": "code",
   "execution_count": 14,
   "metadata": {},
   "outputs": [
    {
     "data": {
      "text/html": [
       "<div>\n",
       "<style scoped>\n",
       "    .dataframe tbody tr th:only-of-type {\n",
       "        vertical-align: middle;\n",
       "    }\n",
       "\n",
       "    .dataframe tbody tr th {\n",
       "        vertical-align: top;\n",
       "    }\n",
       "\n",
       "    .dataframe thead th {\n",
       "        text-align: right;\n",
       "    }\n",
       "</style>\n",
       "<table border=\"1\" class=\"dataframe\">\n",
       "  <thead>\n",
       "    <tr style=\"text-align: right;\">\n",
       "      <th></th>\n",
       "      <th>Ticker</th>\n",
       "      <th>Open</th>\n",
       "      <th>High</th>\n",
       "      <th>Low</th>\n",
       "      <th>Close</th>\n",
       "      <th>Volume</th>\n",
       "      <th>Dividend</th>\n",
       "      <th>Split</th>\n",
       "      <th>Adj_Open</th>\n",
       "      <th>Adj_High</th>\n",
       "      <th>...</th>\n",
       "      <th>ht_ph_cl</th>\n",
       "      <th>ht_ph_tp</th>\n",
       "      <th>ht_q_cl</th>\n",
       "      <th>ht_q_tp</th>\n",
       "      <th>ht_s_cl</th>\n",
       "      <th>ht_s_tp</th>\n",
       "      <th>ht_ls_cl</th>\n",
       "      <th>ht_ls_tp</th>\n",
       "      <th>ht_tr_cl</th>\n",
       "      <th>ht_tr_tp</th>\n",
       "    </tr>\n",
       "    <tr>\n",
       "      <th>Date</th>\n",
       "      <th></th>\n",
       "      <th></th>\n",
       "      <th></th>\n",
       "      <th></th>\n",
       "      <th></th>\n",
       "      <th></th>\n",
       "      <th></th>\n",
       "      <th></th>\n",
       "      <th></th>\n",
       "      <th></th>\n",
       "      <th></th>\n",
       "      <th></th>\n",
       "      <th></th>\n",
       "      <th></th>\n",
       "      <th></th>\n",
       "      <th></th>\n",
       "      <th></th>\n",
       "      <th></th>\n",
       "      <th></th>\n",
       "      <th></th>\n",
       "      <th></th>\n",
       "    </tr>\n",
       "  </thead>\n",
       "  <tbody>\n",
       "    <tr>\n",
       "      <th>1993-04-08</th>\n",
       "      <td>GGP</td>\n",
       "      <td>25.00</td>\n",
       "      <td>25.00</td>\n",
       "      <td>24.25</td>\n",
       "      <td>24.63</td>\n",
       "      <td>6734567.0</td>\n",
       "      <td>0.0</td>\n",
       "      <td>1.0</td>\n",
       "      <td>2.152696</td>\n",
       "      <td>2.152696</td>\n",
       "      <td>...</td>\n",
       "      <td>0.119869</td>\n",
       "      <td>0.097287</td>\n",
       "      <td>0.121642</td>\n",
       "      <td>0.138169</td>\n",
       "      <td>0.295002</td>\n",
       "      <td>0.361137</td>\n",
       "      <td>-0.46704</td>\n",
       "      <td>-0.404024</td>\n",
       "      <td>0</td>\n",
       "      <td>0</td>\n",
       "    </tr>\n",
       "    <tr>\n",
       "      <th>1993-04-12</th>\n",
       "      <td>GGP</td>\n",
       "      <td>24.75</td>\n",
       "      <td>25.25</td>\n",
       "      <td>24.75</td>\n",
       "      <td>25.13</td>\n",
       "      <td>914300.0</td>\n",
       "      <td>0.0</td>\n",
       "      <td>1.0</td>\n",
       "      <td>2.122572</td>\n",
       "      <td>2.165453</td>\n",
       "      <td>...</td>\n",
       "      <td>0.119869</td>\n",
       "      <td>0.097287</td>\n",
       "      <td>0.121642</td>\n",
       "      <td>0.138169</td>\n",
       "      <td>0.295002</td>\n",
       "      <td>0.361137</td>\n",
       "      <td>-0.46704</td>\n",
       "      <td>-0.404024</td>\n",
       "      <td>0</td>\n",
       "      <td>0</td>\n",
       "    </tr>\n",
       "    <tr>\n",
       "      <th>1993-04-13</th>\n",
       "      <td>GGP</td>\n",
       "      <td>25.38</td>\n",
       "      <td>26.00</td>\n",
       "      <td>25.25</td>\n",
       "      <td>25.63</td>\n",
       "      <td>930500.0</td>\n",
       "      <td>0.0</td>\n",
       "      <td>1.0</td>\n",
       "      <td>2.177693</td>\n",
       "      <td>2.230892</td>\n",
       "      <td>...</td>\n",
       "      <td>0.119869</td>\n",
       "      <td>0.097287</td>\n",
       "      <td>0.121642</td>\n",
       "      <td>0.138169</td>\n",
       "      <td>0.295002</td>\n",
       "      <td>0.361137</td>\n",
       "      <td>-0.46704</td>\n",
       "      <td>-0.404024</td>\n",
       "      <td>0</td>\n",
       "      <td>0</td>\n",
       "    </tr>\n",
       "    <tr>\n",
       "      <th>1993-04-14</th>\n",
       "      <td>GGP</td>\n",
       "      <td>25.50</td>\n",
       "      <td>25.75</td>\n",
       "      <td>25.50</td>\n",
       "      <td>25.75</td>\n",
       "      <td>506133.0</td>\n",
       "      <td>0.0</td>\n",
       "      <td>1.0</td>\n",
       "      <td>2.195216</td>\n",
       "      <td>2.216737</td>\n",
       "      <td>...</td>\n",
       "      <td>0.119869</td>\n",
       "      <td>0.097287</td>\n",
       "      <td>0.121642</td>\n",
       "      <td>0.138169</td>\n",
       "      <td>0.295002</td>\n",
       "      <td>0.361137</td>\n",
       "      <td>-0.46704</td>\n",
       "      <td>-0.404024</td>\n",
       "      <td>0</td>\n",
       "      <td>0</td>\n",
       "    </tr>\n",
       "    <tr>\n",
       "      <th>1993-04-15</th>\n",
       "      <td>GGP</td>\n",
       "      <td>25.50</td>\n",
       "      <td>25.75</td>\n",
       "      <td>25.38</td>\n",
       "      <td>25.38</td>\n",
       "      <td>359233.0</td>\n",
       "      <td>0.0</td>\n",
       "      <td>1.0</td>\n",
       "      <td>2.192730</td>\n",
       "      <td>2.214227</td>\n",
       "      <td>...</td>\n",
       "      <td>0.119869</td>\n",
       "      <td>0.097287</td>\n",
       "      <td>0.121642</td>\n",
       "      <td>0.138169</td>\n",
       "      <td>0.295002</td>\n",
       "      <td>0.361137</td>\n",
       "      <td>-0.46704</td>\n",
       "      <td>-0.404024</td>\n",
       "      <td>0</td>\n",
       "      <td>0</td>\n",
       "    </tr>\n",
       "  </tbody>\n",
       "</table>\n",
       "<p>5 rows × 148 columns</p>\n",
       "</div>"
      ],
      "text/plain": [
       "           Ticker   Open   High    Low  Close     Volume  Dividend  Split  \\\n",
       "Date                                                                        \n",
       "1993-04-08    GGP  25.00  25.00  24.25  24.63  6734567.0       0.0    1.0   \n",
       "1993-04-12    GGP  24.75  25.25  24.75  25.13   914300.0       0.0    1.0   \n",
       "1993-04-13    GGP  25.38  26.00  25.25  25.63   930500.0       0.0    1.0   \n",
       "1993-04-14    GGP  25.50  25.75  25.50  25.75   506133.0       0.0    1.0   \n",
       "1993-04-15    GGP  25.50  25.75  25.38  25.38   359233.0       0.0    1.0   \n",
       "\n",
       "            Adj_Open  Adj_High    ...     ht_ph_cl  ht_ph_tp   ht_q_cl  \\\n",
       "Date                              ...                                    \n",
       "1993-04-08  2.152696  2.152696    ...     0.119869  0.097287  0.121642   \n",
       "1993-04-12  2.122572  2.165453    ...     0.119869  0.097287  0.121642   \n",
       "1993-04-13  2.177693  2.230892    ...     0.119869  0.097287  0.121642   \n",
       "1993-04-14  2.195216  2.216737    ...     0.119869  0.097287  0.121642   \n",
       "1993-04-15  2.192730  2.214227    ...     0.119869  0.097287  0.121642   \n",
       "\n",
       "             ht_q_tp   ht_s_cl   ht_s_tp  ht_ls_cl  ht_ls_tp  ht_tr_cl  \\\n",
       "Date                                                                     \n",
       "1993-04-08  0.138169  0.295002  0.361137  -0.46704 -0.404024         0   \n",
       "1993-04-12  0.138169  0.295002  0.361137  -0.46704 -0.404024         0   \n",
       "1993-04-13  0.138169  0.295002  0.361137  -0.46704 -0.404024         0   \n",
       "1993-04-14  0.138169  0.295002  0.361137  -0.46704 -0.404024         0   \n",
       "1993-04-15  0.138169  0.295002  0.361137  -0.46704 -0.404024         0   \n",
       "\n",
       "            ht_tr_tp  \n",
       "Date                  \n",
       "1993-04-08         0  \n",
       "1993-04-12         0  \n",
       "1993-04-13         0  \n",
       "1993-04-14         0  \n",
       "1993-04-15         0  \n",
       "\n",
       "[5 rows x 148 columns]"
      ]
     },
     "execution_count": 14,
     "metadata": {},
     "output_type": "execute_result"
    }
   ],
   "source": [
    "dfs['GGP'].head()"
   ]
  },
  {
   "cell_type": "code",
   "execution_count": 16,
   "metadata": {},
   "outputs": [
    {
     "data": {
      "text/plain": [
       "['Ticker',\n",
       " 'Open',\n",
       " 'High',\n",
       " 'Low',\n",
       " 'Close',\n",
       " 'Volume',\n",
       " 'Dividend',\n",
       " 'Split',\n",
       " 'Adj_Open',\n",
       " 'Adj_High',\n",
       " 'Adj_Low',\n",
       " 'Adj_Close',\n",
       " 'Adj_Volume',\n",
       " 'typical_price',\n",
       " 'bband_u_cl',\n",
       " 'bband_m_cl',\n",
       " 'bband_l_cl',\n",
       " 'bband_u_cl_diff',\n",
       " 'bband_m_cl_diff',\n",
       " 'bband_l_cl_diff',\n",
       " 'bband_u_cl_diff_hi',\n",
       " 'bband_l_cl_diff_lo',\n",
       " 'bband_u_tp',\n",
       " 'bband_m_tp',\n",
       " 'bband_l_tp',\n",
       " 'bband_u_tp_diff',\n",
       " 'bband_m_tp_diff',\n",
       " 'bband_l_tp_diff',\n",
       " 'bband_u_tp_diff_hi',\n",
       " 'bband_l_tp_diff_lo',\n",
       " 'dema_cl',\n",
       " 'dema_tp',\n",
       " 'dema_cl_diff',\n",
       " 'dema_tp_diff',\n",
       " 'ema_cl',\n",
       " 'ema_tp',\n",
       " 'ema_cl_diff',\n",
       " 'ema_tp_diff',\n",
       " 'ht_tl_cl',\n",
       " 'ht_tl_tp',\n",
       " 'ht_tl_cl_diff',\n",
       " 'ht_tl_tp_diff',\n",
       " 'kama_cl',\n",
       " 'kama_tp',\n",
       " 'kama_cl_diff',\n",
       " 'kama_tp_diff',\n",
       " 'mavp_cl',\n",
       " 'mavp_tp',\n",
       " 'mavp_cl_diff',\n",
       " 'mavp_tp_diff',\n",
       " 'midp_cl',\n",
       " 'midp_tp',\n",
       " 'midp_cl_diff',\n",
       " 'midp_tp_diff',\n",
       " 'midpr',\n",
       " 'midpr_diff',\n",
       " 'sar',\n",
       " 'sar_diff',\n",
       " 'sma_10_cl',\n",
       " 'sma_10_tp',\n",
       " 'sma_20_cl',\n",
       " 'sma_20_tp',\n",
       " 'sma_30_cl',\n",
       " 'sma_30_tp',\n",
       " 'sma_40_cl',\n",
       " 'sma_40_tp',\n",
       " 'tema_cl',\n",
       " 'tema_tp',\n",
       " 'tema_cl_diff',\n",
       " 'tema_tp_diff',\n",
       " 'trima_cl',\n",
       " 'trima_tp',\n",
       " 'trima_cl_diff',\n",
       " 'trima_tp_diff',\n",
       " 'wma_cl',\n",
       " 'wma_tp',\n",
       " 'wma_cl_diff',\n",
       " 'wma_tp_diff',\n",
       " 'adx',\n",
       " 'adxr',\n",
       " 'apo_cl',\n",
       " 'apo_tp',\n",
       " 'arup',\n",
       " 'ardn',\n",
       " 'aroonosc',\n",
       " 'bop',\n",
       " 'cci',\n",
       " 'cmo_cl',\n",
       " 'cmo_tp',\n",
       " 'dx',\n",
       " 'macd_cl',\n",
       " 'macdsignal_cl',\n",
       " 'macdhist_cl',\n",
       " 'macd_tp',\n",
       " 'macdsignal_tp',\n",
       " 'macdhist_tp',\n",
       " 'mfi',\n",
       " 'mdi',\n",
       " 'mdm',\n",
       " 'mom_cl',\n",
       " 'mom_tp',\n",
       " 'pldi',\n",
       " 'pldm',\n",
       " 'ppo_cl',\n",
       " 'ppo_tp',\n",
       " 'roc_cl',\n",
       " 'roc_tp',\n",
       " 'rocp_cl',\n",
       " 'rocp_tp',\n",
       " 'rocr_cl',\n",
       " 'rocr_tp',\n",
       " 'rocr_cl_100',\n",
       " 'rocr_tp_100',\n",
       " 'rsi_cl',\n",
       " 'rsi_tp',\n",
       " 'slowk',\n",
       " 'slowd',\n",
       " 'fastk',\n",
       " 'fastd',\n",
       " 'strsi_cl_k',\n",
       " 'strsi_cl_d',\n",
       " 'strsi_tp_k',\n",
       " 'strsi_tp_d',\n",
       " 'trix_cl',\n",
       " 'trix_tp',\n",
       " 'ultosc',\n",
       " 'willr',\n",
       " 'ad',\n",
       " 'adosc',\n",
       " 'obv_cl',\n",
       " 'obv_tp',\n",
       " 'atr',\n",
       " 'natr',\n",
       " 'trange',\n",
       " 'ht_dcp_cl',\n",
       " 'ht_dcp_tp',\n",
       " 'ht_dcph_cl',\n",
       " 'ht_dcph_tp',\n",
       " 'ht_ph_cl',\n",
       " 'ht_ph_tp',\n",
       " 'ht_q_cl',\n",
       " 'ht_q_tp',\n",
       " 'ht_s_cl',\n",
       " 'ht_s_tp',\n",
       " 'ht_ls_cl',\n",
       " 'ht_ls_tp',\n",
       " 'ht_tr_cl',\n",
       " 'ht_tr_tp']"
      ]
     },
     "execution_count": 16,
     "metadata": {},
     "output_type": "execute_result"
    }
   ],
   "source": [
    "dfs['GGP'].columns.tolist()"
   ]
  },
  {
   "cell_type": "code",
   "execution_count": 25,
   "metadata": {},
   "outputs": [],
   "source": [
    "# drop non-adjusted columns and div/split\n",
    "dropcols = ['Open', 'High', 'Low', 'Close', 'Volume', 'Dividend', 'Split']\n",
    "for s in dfs.keys():\n",
    "    dfs[s].drop(dropcols, axis=1, inplace=True)"
   ]
  },
  {
   "cell_type": "code",
   "execution_count": null,
   "metadata": {},
   "outputs": [],
   "source": [
    "# scale all moving averages by typical price in past"
   ]
  },
  {
   "cell_type": "code",
   "execution_count": null,
   "metadata": {},
   "outputs": [],
   "source": [
    "# find TAS not bound to range"
   ]
  },
  {
   "cell_type": "code",
   "execution_count": null,
   "metadata": {},
   "outputs": [],
   "source": [
    "# create time-lagged percent difference features for OHLCV and TAs not bound to a range\n",
    "periods = [1, 2, 3, 5, 10, 20, 30, 50, 100]\n"
   ]
  },
  {
   "cell_type": "code",
   "execution_count": null,
   "metadata": {
    "scrolled": true
   },
   "outputs": [],
   "source": [
    "future_days = 1\n",
    "history_days = 1\n",
    "for "
   ]
  }
 ],
 "metadata": {
  "kernelspec": {
   "display_name": "Python 3",
   "language": "python",
   "name": "python3"
  },
  "language_info": {
   "codemirror_mode": {
    "name": "ipython",
    "version": 3
   },
   "file_extension": ".py",
   "mimetype": "text/x-python",
   "name": "python",
   "nbconvert_exporter": "python",
   "pygments_lexer": "ipython3",
   "version": "3.6.4"
  }
 },
 "nbformat": 4,
 "nbformat_minor": 2
}
